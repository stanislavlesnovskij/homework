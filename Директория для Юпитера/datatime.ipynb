{
 "cells": [
  {
   "cell_type": "code",
   "execution_count": 9,
   "id": "744693bb",
   "metadata": {},
   "outputs": [
    {
     "name": "stdout",
     "output_type": "stream",
     "text": [
      "2002-10-02 00:00:00\n",
      "2013-10-11 00:00:00\n",
      "1977-08-18 00:00:00\n"
     ]
    }
   ],
   "source": [
    "#The Moscow Times - Wednesday, October 2, 2002\n",
    "#The Guardian - Friday, 11.10.13\n",
    "#Daily News - Thursday, 18 August 1977\n",
    "from datetime import datetime\n",
    "moscow = 'Wednesday, October 2, 2002'\n",
    "guardian = 'Friday, 11.10.13'\n",
    "dayly = 'Thursday, 18 August 1977'\n",
    "moscow_dt = datetime.strptime(moscow,'%A, %B %d, %Y')\n",
    "guardian_dt = datetime.strptime(guardian,'%A, %d.%m.%y')\n",
    "dayly_dt = datetime.strptime(dayly,'%A, %d %B %Y')\n",
    "print(moscow_dt)\n",
    "print(guardian_dt)\n",
    "print(dayly_dt)"
   ]
  },
  {
   "cell_type": "code",
   "execution_count": 12,
   "id": "7b8f82fc",
   "metadata": {},
   "outputs": [
    {
     "name": "stdout",
     "output_type": "stream",
     "text": [
      "2018-04-02 - Дата соответствует формату\n",
      "2018-02-29 - Дата не соответствует формату\n",
      "2018-19-02 - Дата не соответствует формату\n"
     ]
    }
   ],
   "source": [
    "stream = ['2018-04-02', '2018-02-29', '2018-19-02']\n",
    "from datetime import datetime\n",
    "for el in stream:\n",
    "    try:\n",
    "        data = datetime.strptime(el,'%Y-%m-%d')\n",
    "        print(el+' - Дата соответствует формату')\n",
    "    except:\n",
    "        print(el+ ' - Дата не соответствует формату')"
   ]
  },
  {
   "cell_type": "code",
   "execution_count": null,
   "id": "e09dd397",
   "metadata": {},
   "outputs": [],
   "source": [
    "Напишите функцию date_range, которая возвращает список дат за период от start_date до end_date. \n",
    "Даты должны вводиться в формате YYYY-MM-DD. В случае неверного формата или при start_date > end_date \n",
    "должен возвращаться пустой список"
   ]
  },
  {
   "cell_type": "code",
   "execution_count": 33,
   "id": "c5127404",
   "metadata": {},
   "outputs": [],
   "source": [
    "from datetime import timedelta\n",
    "from datetime import datetime\n",
    "def date_range(start_date,end_date):\n",
    "    list_ = []\n",
    "    try:\n",
    "        sd =  datetime.strptime(start_date,'%Y-%m-%d')\n",
    "        ed = datetime.strptime(end_date,'%Y-%m-%d')\n",
    "        if sd>ed:\n",
    "            print('Дата начала больше даты окончания')\n",
    "        else:\n",
    "            while sd<=ed:\n",
    "                list_.append(sd.strftime('%d %B %Y'))\n",
    "                sd+=timedelta(days=1)\n",
    "    except:\n",
    "        print('Формат даты указан неверно')\n",
    "    print(list_)\n",
    "    "
   ]
  },
  {
   "cell_type": "code",
   "execution_count": 34,
   "id": "936edda4",
   "metadata": {},
   "outputs": [
    {
     "name": "stdout",
     "output_type": "stream",
     "text": [
      "Введите дату начала в формате YYYY-MM-DD: 2020-12-24\n",
      "Введите дату окончания в формате YYYY-MM-DD: 2020-12-25\n",
      "['24 December 2020', '25 December 2020']\n"
     ]
    }
   ],
   "source": [
    "start_date = str(input(\"Введите дату начала в формате YYYY-MM-DD: \"))\n",
    "end_date = str(input(\"Введите дату окончания в формате YYYY-MM-DD: \"))\n",
    "date_range(start_date,end_date)"
   ]
  }
 ],
 "metadata": {
  "kernelspec": {
   "display_name": "Python 3",
   "language": "python",
   "name": "python3"
  },
  "language_info": {
   "codemirror_mode": {
    "name": "ipython",
    "version": 3
   },
   "file_extension": ".py",
   "mimetype": "text/x-python",
   "name": "python",
   "nbconvert_exporter": "python",
   "pygments_lexer": "ipython3",
   "version": "3.8.8"
  }
 },
 "nbformat": 4,
 "nbformat_minor": 5
}
