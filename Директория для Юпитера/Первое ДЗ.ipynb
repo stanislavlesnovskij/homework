{
 "cells": [
  {
   "cell_type": "code",
   "execution_count": 17,
   "id": "b5c2fe06",
   "metadata": {},
   "outputs": [
    {
     "name": "stdout",
     "output_type": "stream",
     "text": [
      "Фраза 1 длиннее фразы 2\n"
     ]
    }
   ],
   "source": [
    "phrase_1 = \"Насколько проще было бы писать программы, если бы не заказчики\"\n",
    "phrase_2 = \"640Кб должно хватить для любых задач. Билл Гейтс (по легенде)\"\n",
    "if len(phrase_1) > len(phrase_2):\n",
    "    print (\"Фраза 1 длиннее фразы 2\")\n",
    "elif len(phrase_1)==len(phrase_2):\n",
    "    print (\"Фраза 1 равна фразе 2 по длине\")\n",
    "else:\n",
    "    print(\"Фраза 1 короче фразы 2\")       "
   ]
  },
  {
   "cell_type": "code",
   "execution_count": 19,
   "id": "e0990d04",
   "metadata": {},
   "outputs": [
    {
     "name": "stdout",
     "output_type": "stream",
     "text": [
      "Фраза 1 короче фразы 2\n"
     ]
    }
   ],
   "source": [
    "phrase_1 = \"640Кб должно хватить для любых задач. Билл Гейтс (по легенде)\"\n",
    "phrase_2 = \"Насколько проще было бы писать программы, если бы не заказчики\"\n",
    "if len(phrase_1) > len(phrase_2):\n",
    "    print (\"Фраза 1 длиннее фразы 2\")\n",
    "elif len(phrase_1)==len(phrase_2):\n",
    "    print (\"Фраза 1 равна фразе 2 по длине\")\n",
    "else:\n",
    "    print(\"Фраза 1 короче фразы 2\") "
   ]
  },
  {
   "cell_type": "code",
   "execution_count": 20,
   "id": "28bdcc6b",
   "metadata": {},
   "outputs": [
    {
     "name": "stdout",
     "output_type": "stream",
     "text": [
      "Фраза 1 равна фразе 2 по длине\n"
     ]
    }
   ],
   "source": [
    "phrase_1 = \"Насколько проще было бы писать программы, если бы не заказчики\"\n",
    "phrase_2 = \"Насколько проще было бы писать программы, если бы не заказчики\"\n",
    "if len(phrase_1) > len(phrase_2):\n",
    "    print (\"Фраза 1 длиннее фразы 2\")\n",
    "elif len(phrase_1)==len(phrase_2):\n",
    "    print (\"Фраза 1 равна фразе 2 по длине\")\n",
    "else:\n",
    "    print(\"Фраза 1 короче фразы 2\") "
   ]
  },
  {
   "cell_type": "code",
   "execution_count": 23,
   "id": "7027ebd7",
   "metadata": {},
   "outputs": [
    {
     "name": "stdout",
     "output_type": "stream",
     "text": [
      "Введите год 2000\n",
      "Год високосный\n"
     ]
    }
   ],
   "source": [
    "year = int(input(\"Введите год \"))\n",
    "if year%4==0:\n",
    "    print(\"Год високосный\")\n",
    "else:\n",
    "    print(\"Год обычный\")"
   ]
  },
  {
   "cell_type": "code",
   "execution_count": 24,
   "id": "186f12d5",
   "metadata": {},
   "outputs": [
    {
     "name": "stdout",
     "output_type": "stream",
     "text": [
      "Введите год 1999\n",
      "Год обычный\n"
     ]
    }
   ],
   "source": [
    "year = int(input(\"Введите год \"))\n",
    "if year%4==0:\n",
    "    print(\"Год високосный\")\n",
    "else:\n",
    "    print(\"Год обычный\")"
   ]
  },
  {
   "cell_type": "code",
   "execution_count": 11,
   "id": "0877dada",
   "metadata": {},
   "outputs": [
    {
     "name": "stdout",
     "output_type": "stream",
     "text": [
      "Введите день 30\n",
      "Введите месяц Август\n",
      "Ваш знак зодиака - ДЕВА\n"
     ]
    }
   ],
   "source": [
    "day = int(input(\"Введите день \"))\n",
    "mounth = input(\"Введите месяц \")\n",
    "if (day>=21 and mounth == \"Март\") or (day<=20 and mounth == \"Апрель\"):\n",
    "    print(\"Ваш знак зодиака - ОВЕН\")\n",
    "elif (day>=21 and mounth == \"Апрель\") or (day<=21 and mounth == \"Май\"):\n",
    "    print(\"Ваш знак зодиака - ТЕЛЕЦ\")\n",
    "elif (day>=22 and mounth == \"Май\") or (day<=21 and mounth == \"Июнь\"):\n",
    "    print(\"Ваш знак зодиака - БЛИЗНЕЦЫ\")\n",
    "elif (day>=22 and mounth == \"Июнь\") or (day<=22 and mounth == \"Июль\"):\n",
    "    print(\"Ваш знак зодиака - РАК\")\n",
    "elif (day>=23 and mounth == \"Июль\") or (day<=21 and mounth == \"Август\"):\n",
    "    print(\"Ваш знак зодиака - ЛЕВ\")\n",
    "elif (day>=22 and mounth == \"Август\") or (day<=23 and mounth == \"Сентябрь\"):\n",
    "    print(\"Ваш знак зодиака - ДЕВА\")\n",
    "elif (day>=24 and mounth == \"Сентябрь\") or (day<=23 and mounth == \"Октябрь\"):\n",
    "    print(\"Ваш знак зодиака - ВЕСЫ\")\n",
    "elif (day>=24 and mounth == \"Октябрь\") or (day<=22 and mounth == \"Ноябрь\"):\n",
    "    print(\"Ваш знак зодиака - СКОРПИОН\")\n",
    "elif (day>=23 and mounth == \"Ноябрь\") or (day<=22 and mounth == \"Декабрь\"):\n",
    "    print(\"Ваш знак зодиака - СТРЕЛЕЦ\")\n",
    "elif (day>=23 and mounth == \"Декабрь\") or (day<=20 and mounth == \"Январь\"):\n",
    "    print(\"Ваш знак зодиака - КОЗЕРОГ\")\n",
    "elif (day>=21 and mounth == \"Январь\") or (day<=19 and mounth == \"Февраль\"):\n",
    "    print(\"Ваш знак зодиака - ВОДОЛЕЙ\")\n",
    "elif (day>=20 and mounth == \"Февраль\") or (day<=20 and mounth == \"Март\"):\n",
    "    print(\"Ваш знак зодиака - РЫБЫ\")\n",
    "  "
   ]
  },
  {
   "cell_type": "code",
   "execution_count": 12,
   "id": "f9c137cb",
   "metadata": {},
   "outputs": [
    {
     "name": "stdout",
     "output_type": "stream",
     "text": [
      "Введите день 29\n",
      "Введите месяц Октябрь\n",
      "Ваш знак зодиака - СКОРПИОН\n"
     ]
    }
   ],
   "source": [
    "day = int(input(\"Введите день \"))\n",
    "mounth = input(\"Введите месяц \")\n",
    "if (day>=21 and mounth == \"Март\") or (day<=20 and mounth == \"Апрель\"):\n",
    "    print(\"Ваш знак зодиака - ОВЕН\")\n",
    "elif (day>=21 and mounth == \"Апрель\") or (day<=21 and mounth == \"Май\"):\n",
    "    print(\"Ваш знак зодиака - ТЕЛЕЦ\")\n",
    "elif (day>=22 and mounth == \"Май\") or (day<=21 and mounth == \"Июнь\"):\n",
    "    print(\"Ваш знак зодиака - БЛИЗНЕЦЫ\")\n",
    "elif (day>=22 and mounth == \"Июнь\") or (day<=22 and mounth == \"Июль\"):\n",
    "    print(\"Ваш знак зодиака - РАК\")\n",
    "elif (day>=23 and mounth == \"Июль\") or (day<=21 and mounth == \"Август\"):\n",
    "    print(\"Ваш знак зодиака - ЛЕВ\")\n",
    "elif (day>=22 and mounth == \"Август\") or (day<=23 and mounth == \"Сентябрь\"):\n",
    "    print(\"Ваш знак зодиака - ДЕВА\")\n",
    "elif (day>=24 and mounth == \"Сентябрь\") or (day<=23 and mounth == \"Октябрь\"):\n",
    "    print(\"Ваш знак зодиака - ВЕСЫ\")\n",
    "elif (day>=24 and mounth == \"Октябрь\") or (day<=22 and mounth == \"Ноябрь\"):\n",
    "    print(\"Ваш знак зодиака - СКОРПИОН\")\n",
    "elif (day>=23 and mounth == \"Ноябрь\") or (day<=22 and mounth == \"Декабрь\"):\n",
    "    print(\"Ваш знак зодиака - СТРЕЛЕЦ\")\n",
    "elif (day>=23 and mounth == \"Декабрь\") or (day<=20 and mounth == \"Январь\"):\n",
    "    print(\"Ваш знак зодиака - КОЗЕРОГ\")\n",
    "elif (day>=21 and mounth == \"Январь\") or (day<=19 and mounth == \"Февраль\"):\n",
    "    print(\"Ваш знак зодиака - ВОДОЛЕЙ\")\n",
    "elif (day>=20 and mounth == \"Февраль\") or (day<=20 and mounth == \"Март\"):\n",
    "    print(\"Ваш знак зодиака - РЫБЫ\")\n",
    "  "
   ]
  },
  {
   "cell_type": "code",
   "execution_count": 14,
   "id": "0c055539",
   "metadata": {},
   "outputs": [
    {
     "name": "stdout",
     "output_type": "stream",
     "text": [
      "Введите длину 15\n",
      "Введите ширину 50\n",
      "Введите высоту 15\n",
      "Стандартная коробка №3\n"
     ]
    }
   ],
   "source": [
    "Длина = float(input(\"Введите длину \"))\n",
    "Ширина = float(input(\"Введите ширину \"))\n",
    "Высота = float(input(\"Введите высоту \"))\n",
    "if Длина<=15 and Ширина<=15 and Высота<=15:\n",
    "    print(\"Коробка №1\")\n",
    "elif Длина<50 and Ширина<50 and Высота<50:\n",
    "    print(\"Коробка №2\")\n",
    "elif Длина>200 or Ширина>200 or Высота>200:\n",
    "    print(\"Лыжная упаковка\")\n",
    "else:\n",
    "    print(\"Стандартная коробка №3\")"
   ]
  },
  {
   "cell_type": "code",
   "execution_count": 15,
   "id": "d6ff2dc3",
   "metadata": {},
   "outputs": [
    {
     "name": "stdout",
     "output_type": "stream",
     "text": [
      "Введите длину 45\n",
      "Введите ширину 205\n",
      "Введите высоту 45\n",
      "Лыжная упаковка\n"
     ]
    }
   ],
   "source": [
    "Длина = float(input(\"Введите длину \"))\n",
    "Ширина = float(input(\"Введите ширину \"))\n",
    "Высота = float(input(\"Введите высоту \"))\n",
    "if Длина<=15 and Ширина<=15 and Высота<=15:\n",
    "    print(\"Коробка №1\")\n",
    "elif Длина<50 and Ширина<50 and Высота<50:\n",
    "    print(\"Коробка №2\")\n",
    "elif Длина>200 or Ширина>200 or Высота>200:\n",
    "    print(\"Лыжная упаковка\")\n",
    "else:\n",
    "    print(\"Стандартная коробка №3\")"
   ]
  }
 ],
 "metadata": {
  "kernelspec": {
   "display_name": "Python 3",
   "language": "python",
   "name": "python3"
  },
  "language_info": {
   "codemirror_mode": {
    "name": "ipython",
    "version": 3
   },
   "file_extension": ".py",
   "mimetype": "text/x-python",
   "name": "python",
   "nbconvert_exporter": "python",
   "pygments_lexer": "ipython3",
   "version": "3.8.8"
  }
 },
 "nbformat": 4,
 "nbformat_minor": 5
}
