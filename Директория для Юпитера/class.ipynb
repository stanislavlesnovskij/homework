{
 "cells": [
  {
   "cell_type": "code",
   "execution_count": null,
   "id": "e30018c2",
   "metadata": {},
   "outputs": [],
   "source": [
    "https://www.cbr-xml-daily.ru/daily_json.js"
   ]
  },
  {
   "cell_type": "code",
   "execution_count": 6,
   "id": "b730dca3",
   "metadata": {},
   "outputs": [],
   "source": [
    "import requests\n",
    "def valute ():\n",
    "    r = requests.get('https://www.cbr-xml-daily.ru/daily_json.js')\n",
    "    return r.json()['Valute']"
   ]
  },
  {
   "cell_type": "code",
   "execution_count": 39,
   "id": "6ed942c0",
   "metadata": {},
   "outputs": [
    {
     "name": "stdout",
     "output_type": "stream",
     "text": [
      "Максимальный курс на данный момент у валюты СДР (специальные права заимствования) с курсом в 103.3786 условных единиц\n"
     ]
    }
   ],
   "source": [
    "#Вопрос по заданию: максимальный курс считается только по значению value или это значение необходимо разделить на номинал?\n",
    "val = valute()\n",
    "value = 0\n",
    "for el in val:\n",
    "    if value<val[el]['Value']:\n",
    "        value=val[el]['Value']\n",
    "        name = val[el]['Name']\n",
    "print('Максимальный курс на данный момент у валюты '+ name +' с курсом в '+ str(value)+ ' условных единиц')"
   ]
  },
  {
   "cell_type": "code",
   "execution_count": 5,
   "id": "0a50d8a3",
   "metadata": {},
   "outputs": [],
   "source": [
    "import sys\n",
    "sys.path.append('F:\\Жесткий\\Для учебы\\Директория для Юпитера\\libs')"
   ]
  },
  {
   "cell_type": "code",
   "execution_count": null,
   "id": "3ae0242c",
   "metadata": {},
   "outputs": [],
   "source": []
  },
  {
   "cell_type": "code",
   "execution_count": 6,
   "id": "119892ce",
   "metadata": {},
   "outputs": [],
   "source": [
    "from exchange import Rate\n",
    "class Rate2(Rate):\n",
    "    def _init_ (self):\n",
    "        super()._init_(diff=False)\n",
    "        self.diff = diff\n",
    "        \n",
    "    def differ(self, currency):\n",
    "        response = self.exchange_rates()\n",
    "        if currency in response:    \n",
    "            if self.format == 'value':\n",
    "                return print(response[currency]['Value']-response[currency]['Previous'])\n",
    "        return 'Error'"
   ]
  },
  {
   "cell_type": "code",
   "execution_count": 7,
   "id": "4a39c9ec",
   "metadata": {},
   "outputs": [
    {
     "name": "stdout",
     "output_type": "stream",
     "text": [
      "-0.5177000000000049\n"
     ]
    }
   ],
   "source": [
    "rate = Rate2()\n",
    "rate.differ(\"USD\")"
   ]
  },
  {
   "cell_type": "code",
   "execution_count": 56,
   "id": "cd251b08",
   "metadata": {},
   "outputs": [],
   "source": [
    "class Employee:\n",
    "    def __init__(self, name, seniority,international=False):\n",
    "        self.name = name\n",
    "        self.seniority = seniority\n",
    "        self.international = international\n",
    "        \n",
    "        self.grade = 1\n",
    "    \n",
    "    def grade_up(self):\n",
    "        \"\"\"Повышает уровень сотрудника\"\"\"\n",
    "        self.grade += 1\n",
    "    \n",
    "    def publish_grade(self):\n",
    "        \"\"\"Публикация результатов аккредитации сотрудников\"\"\"\n",
    "        print(self.name, self.grade)\n",
    "    \n",
    "    def check_if_it_is_time_for_upgrade(self):\n",
    "        pass"
   ]
  },
  {
   "cell_type": "code",
   "execution_count": 66,
   "id": "b3a96f90",
   "metadata": {},
   "outputs": [],
   "source": [
    "class Designer(Employee):\n",
    "    def _init_ (self,name,seniority,international):\n",
    "        super()._init_(name,seniority,international)\n",
    "      \n",
    "    \n",
    "    def check(self):\n",
    "        if self.international==True:\n",
    "            self.seniority+=2\n",
    "        else:\n",
    "            self.seniority+=1\n",
    "        \n",
    "        if self.seniority%7==0:\n",
    "            self.grade_up()\n",
    "        \n",
    "        return self.publish_grade()"
   ]
  },
  {
   "cell_type": "code",
   "execution_count": 72,
   "id": "77c3e792",
   "metadata": {},
   "outputs": [],
   "source": [
    "stas = Designer('Stas',4)"
   ]
  },
  {
   "cell_type": "code",
   "execution_count": 73,
   "id": "3197b536",
   "metadata": {},
   "outputs": [
    {
     "name": "stdout",
     "output_type": "stream",
     "text": [
      "Stas 1\n",
      "Stas 1\n",
      "Stas 2\n",
      "Stas 2\n",
      "Stas 2\n",
      "Stas 2\n",
      "Stas 2\n",
      "Stas 2\n",
      "Stas 2\n",
      "Stas 3\n",
      "Stas 3\n",
      "Stas 3\n",
      "Stas 3\n",
      "Stas 3\n",
      "Stas 3\n",
      "Stas 3\n",
      "Stas 4\n",
      "Stas 4\n",
      "Stas 4\n",
      "Stas 4\n"
     ]
    }
   ],
   "source": [
    "for i in range(0,20):\n",
    "    stas.check()"
   ]
  }
 ],
 "metadata": {
  "kernelspec": {
   "display_name": "Python 3",
   "language": "python",
   "name": "python3"
  },
  "language_info": {
   "codemirror_mode": {
    "name": "ipython",
    "version": 3
   },
   "file_extension": ".py",
   "mimetype": "text/x-python",
   "name": "python",
   "nbconvert_exporter": "python",
   "pygments_lexer": "ipython3",
   "version": "3.8.8"
  }
 },
 "nbformat": 4,
 "nbformat_minor": 5
}
