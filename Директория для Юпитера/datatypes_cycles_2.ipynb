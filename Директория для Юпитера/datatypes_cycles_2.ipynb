{
 "cells": [
  {
   "cell_type": "code",
   "execution_count": 57,
   "id": "936488c4",
   "metadata": {
    "scrolled": true
   },
   "outputs": [
    {
     "name": "stdout",
     "output_type": "stream",
     "text": [
      "{98, 35, 15, 213, 54, 119}\n"
     ]
    }
   ],
   "source": [
    "ids = {'user1': [213, 213, 213, 15, 213], \n",
    "       'user2': [54, 54, 119, 119, 119], \n",
    "       'user3': [213, 98, 98, 35]}\n",
    "unic = set()\n",
    "for i in range(len(ids.keys())):\n",
    "    geo = list(ids.keys())\n",
    "    key = geo[i]\n",
    "    uni = ids[key]\n",
    "    for element in uni:\n",
    "        unic.add(element)\n",
    "\n",
    "print(unic)\n",
    "    \n"
   ]
  },
  {
   "cell_type": "code",
   "execution_count": 94,
   "id": "fd3fec7f",
   "metadata": {},
   "outputs": [
    {
     "name": "stdout",
     "output_type": "stream",
     "text": [
      "Поисковых запросов, содержащих 2 слова: 42.857142857142854\n",
      "Поисковых запросов, содержащих 3 слова: 57.142857142857146\n"
     ]
    }
   ],
   "source": [
    "queries = [\n",
    "    'смотреть сериалы онлайн',\n",
    "    'новости спорта',\n",
    "    'афиша кино',\n",
    "    'курс доллара',\n",
    "    'сериалы этим летом',\n",
    "    'курс по питону',\n",
    "    'сериалы про спорт',\n",
    "]\n",
    "length=set()\n",
    "\n",
    "for i in range(len(queries)):\n",
    "    length.add(len(queries[i].split(\" \")))\n",
    "for el in length:\n",
    "    k=0\n",
    "    for i in range(len(queries)):\n",
    "        if len(queries[i].split(\" \"))==el:\n",
    "            k+=1\n",
    "    ratio = k*100/len(queries)\n",
    "    print(\"Поисковых запросов, содержащих \"+str(el)+\" слова: \"+str(ratio))\n"
   ]
  },
  {
   "cell_type": "code",
   "execution_count": 105,
   "id": "6b015aeb",
   "metadata": {},
   "outputs": [
    {
     "name": "stdout",
     "output_type": "stream",
     "text": [
      "{'vk': {'revenue': 103, 'cost': 98, 'ROI': 5.102040816326525}, 'yandex': {'revenue': 179, 'cost': 153, 'ROI': 16.99346405228759}, 'facebook': {'revenue': 103, 'cost': 110, 'ROI': -6.36363636363636}, 'adwords': {'revenue': 35, 'cost': 34, 'ROI': 2.941176470588225}, 'twitter': {'revenue': 11, 'cost': 24, 'ROI': -54.16666666666667}}\n"
     ]
    }
   ],
   "source": [
    "results = {\n",
    "    'vk': {'revenue': 103, 'cost': 98},\n",
    "    'yandex': {'revenue': 179, 'cost': 153},\n",
    "    'facebook': {'revenue': 103, 'cost': 110},\n",
    "    'adwords': {'revenue': 35, 'cost': 34},\n",
    "    'twitter': {'revenue': 11, 'cost': 24},\n",
    "}\n",
    "for el in results:\n",
    "    roi = ((results[el]['revenue'])/(results[el]['cost'])-1)*100\n",
    "    results[el]['ROI']=roi\n",
    "print(results)"
   ]
  },
  {
   "cell_type": "code",
   "execution_count": 109,
   "id": "528cf29a",
   "metadata": {},
   "outputs": [
    {
     "name": "stdout",
     "output_type": "stream",
     "text": [
      "Максимальный объем продаж на рекламном канале: vk\n"
     ]
    }
   ],
   "source": [
    "stats = {'facebook': 55, 'yandex': 115, 'vk': 120, 'google': 99, 'email': 42, 'ok': 98}\n",
    "capacity=0\n",
    "for el in stats:\n",
    "    if stats[el]>capacity:\n",
    "        capacity=stats[el]\n",
    "        channel=el\n",
    "print(\"Максимальный объем продаж на рекламном канале: \"+str(channel))\n",
    "    "
   ]
  },
  {
   "cell_type": "code",
   "execution_count": null,
   "id": "0daf42bf",
   "metadata": {},
   "outputs": [],
   "source": []
  }
 ],
 "metadata": {
  "kernelspec": {
   "display_name": "Python 3",
   "language": "python",
   "name": "python3"
  },
  "language_info": {
   "codemirror_mode": {
    "name": "ipython",
    "version": 3
   },
   "file_extension": ".py",
   "mimetype": "text/x-python",
   "name": "python",
   "nbconvert_exporter": "python",
   "pygments_lexer": "ipython3",
   "version": "3.8.8"
  }
 },
 "nbformat": 4,
 "nbformat_minor": 5
}
