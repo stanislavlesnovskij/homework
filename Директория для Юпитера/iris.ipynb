{
 "cells": [
  {
   "cell_type": "code",
   "execution_count": 1,
   "id": "be2e50d3",
   "metadata": {},
   "outputs": [],
   "source": [
    "from sklearn.datasets import load_iris\n",
    "import pandas as pd\n",
    "import numpy as np\n",
    "import matplotlib.pyplot as plt\n",
    "from matplotlib import colors\n",
    "from sklearn.model_selection import train_test_split"
   ]
  },
  {
   "cell_type": "code",
   "execution_count": 2,
   "id": "5b0a5223",
   "metadata": {},
   "outputs": [],
   "source": [
    "iris = load_iris()"
   ]
  },
  {
   "cell_type": "code",
   "execution_count": 3,
   "id": "8d56f713",
   "metadata": {},
   "outputs": [],
   "source": [
    "data = pd.DataFrame(iris.data, columns=iris.feature_names)"
   ]
  },
  {
   "cell_type": "code",
   "execution_count": 4,
   "id": "2249f4f0",
   "metadata": {},
   "outputs": [
    {
     "data": {
      "text/html": [
       "<div>\n",
       "<style scoped>\n",
       "    .dataframe tbody tr th:only-of-type {\n",
       "        vertical-align: middle;\n",
       "    }\n",
       "\n",
       "    .dataframe tbody tr th {\n",
       "        vertical-align: top;\n",
       "    }\n",
       "\n",
       "    .dataframe thead th {\n",
       "        text-align: right;\n",
       "    }\n",
       "</style>\n",
       "<table border=\"1\" class=\"dataframe\">\n",
       "  <thead>\n",
       "    <tr style=\"text-align: right;\">\n",
       "      <th></th>\n",
       "      <th>sepal length (cm)</th>\n",
       "      <th>sepal width (cm)</th>\n",
       "      <th>petal length (cm)</th>\n",
       "      <th>petal width (cm)</th>\n",
       "    </tr>\n",
       "  </thead>\n",
       "  <tbody>\n",
       "    <tr>\n",
       "      <th>0</th>\n",
       "      <td>5.1</td>\n",
       "      <td>3.5</td>\n",
       "      <td>1.4</td>\n",
       "      <td>0.2</td>\n",
       "    </tr>\n",
       "    <tr>\n",
       "      <th>1</th>\n",
       "      <td>4.9</td>\n",
       "      <td>3.0</td>\n",
       "      <td>1.4</td>\n",
       "      <td>0.2</td>\n",
       "    </tr>\n",
       "    <tr>\n",
       "      <th>2</th>\n",
       "      <td>4.7</td>\n",
       "      <td>3.2</td>\n",
       "      <td>1.3</td>\n",
       "      <td>0.2</td>\n",
       "    </tr>\n",
       "    <tr>\n",
       "      <th>3</th>\n",
       "      <td>4.6</td>\n",
       "      <td>3.1</td>\n",
       "      <td>1.5</td>\n",
       "      <td>0.2</td>\n",
       "    </tr>\n",
       "    <tr>\n",
       "      <th>4</th>\n",
       "      <td>5.0</td>\n",
       "      <td>3.6</td>\n",
       "      <td>1.4</td>\n",
       "      <td>0.2</td>\n",
       "    </tr>\n",
       "  </tbody>\n",
       "</table>\n",
       "</div>"
      ],
      "text/plain": [
       "   sepal length (cm)  sepal width (cm)  petal length (cm)  petal width (cm)\n",
       "0                5.1               3.5                1.4               0.2\n",
       "1                4.9               3.0                1.4               0.2\n",
       "2                4.7               3.2                1.3               0.2\n",
       "3                4.6               3.1                1.5               0.2\n",
       "4                5.0               3.6                1.4               0.2"
      ]
     },
     "execution_count": 4,
     "metadata": {},
     "output_type": "execute_result"
    }
   ],
   "source": [
    "data.head()"
   ]
  },
  {
   "cell_type": "code",
   "execution_count": 5,
   "id": "58df4acc",
   "metadata": {},
   "outputs": [],
   "source": [
    "iris_ = data[['sepal length (cm)','sepal width (cm)']]"
   ]
  },
  {
   "cell_type": "code",
   "execution_count": 6,
   "id": "2c43db91",
   "metadata": {},
   "outputs": [],
   "source": [
    "#iris_.insert(loc=len(iris.columns), column='varity',value=None)"
   ]
  },
  {
   "cell_type": "code",
   "execution_count": 8,
   "id": "1d43b821",
   "metadata": {},
   "outputs": [],
   "source": [
    "iris_c = iris.target"
   ]
  },
  {
   "cell_type": "code",
   "execution_count": 20,
   "id": "0fba214e",
   "metadata": {},
   "outputs": [
    {
     "data": {
      "text/plain": [
       "array([0, 0, 0, 0, 0, 0, 0, 0, 0, 0, 0, 0, 0, 0, 0, 0, 0, 0, 0, 0, 0, 0,\n",
       "       0, 0, 0, 0, 0, 0, 0, 0, 0, 0, 0, 0, 0, 0, 0, 0, 0, 0, 0, 0, 0, 0,\n",
       "       0, 0, 0, 0, 0, 0, 1, 1, 1, 1, 1, 1, 1, 1, 1, 1, 1, 1, 1, 1, 1, 1,\n",
       "       1, 1, 1, 1, 1, 1, 1, 1, 1, 1, 1, 1, 1, 1, 1, 1, 1, 1, 1, 1, 1, 1,\n",
       "       1, 1, 1, 1, 1, 1, 1, 1, 1, 1, 1, 1, 2, 2, 2, 2, 2, 2, 2, 2, 2, 2,\n",
       "       2, 2, 2, 2, 2, 2, 2, 2, 2, 2, 2, 2, 2, 2, 2, 2, 2, 2, 2, 2, 2, 2,\n",
       "       2, 2, 2, 2, 2, 2, 2, 2, 2, 2, 2, 2, 2, 2, 2, 2, 2, 2])"
      ]
     },
     "execution_count": 20,
     "metadata": {},
     "output_type": "execute_result"
    }
   ],
   "source": [
    "iris_c"
   ]
  },
  {
   "cell_type": "code",
   "execution_count": 12,
   "id": "4a71a7ca",
   "metadata": {},
   "outputs": [],
   "source": [
    "X_train, X_test, y_train, y_test = train_test_split(iris_, iris_c, test_size=0.20)"
   ]
  },
  {
   "cell_type": "code",
   "execution_count": 13,
   "id": "c59a0d75",
   "metadata": {},
   "outputs": [],
   "source": [
    "from sklearn.discriminant_analysis import LinearDiscriminantAnalysis"
   ]
  },
  {
   "cell_type": "code",
   "execution_count": 15,
   "id": "06eff86e",
   "metadata": {},
   "outputs": [
    {
     "data": {
      "text/plain": [
       "LinearDiscriminantAnalysis()"
      ]
     },
     "execution_count": 15,
     "metadata": {},
     "output_type": "execute_result"
    }
   ],
   "source": [
    "lda=LinearDiscriminantAnalysis()\n",
    "\n",
    "lda.fit(X_train,y_train)"
   ]
  },
  {
   "cell_type": "code",
   "execution_count": 16,
   "id": "33da49ab",
   "metadata": {},
   "outputs": [
    {
     "data": {
      "text/plain": [
       "array([1, 0, 2, 2, 0, 2, 2, 1, 0, 1, 1, 0, 0, 1, 2, 1, 1, 2, 1, 2, 0, 1,\n",
       "       1, 1, 0, 0, 1, 0, 1, 2])"
      ]
     },
     "execution_count": 16,
     "metadata": {},
     "output_type": "execute_result"
    }
   ],
   "source": [
    "lda.predict(X_test)"
   ]
  },
  {
   "cell_type": "code",
   "execution_count": 18,
   "id": "e11a04c7",
   "metadata": {},
   "outputs": [],
   "source": [
    "result = pd.DataFrame([y_test, lda.predict(X_test)]).T"
   ]
  },
  {
   "cell_type": "code",
   "execution_count": 19,
   "id": "451fab20",
   "metadata": {
    "scrolled": true
   },
   "outputs": [
    {
     "data": {
      "text/html": [
       "<div>\n",
       "<style scoped>\n",
       "    .dataframe tbody tr th:only-of-type {\n",
       "        vertical-align: middle;\n",
       "    }\n",
       "\n",
       "    .dataframe tbody tr th {\n",
       "        vertical-align: top;\n",
       "    }\n",
       "\n",
       "    .dataframe thead th {\n",
       "        text-align: right;\n",
       "    }\n",
       "</style>\n",
       "<table border=\"1\" class=\"dataframe\">\n",
       "  <thead>\n",
       "    <tr style=\"text-align: right;\">\n",
       "      <th></th>\n",
       "      <th>0</th>\n",
       "      <th>1</th>\n",
       "    </tr>\n",
       "  </thead>\n",
       "  <tbody>\n",
       "    <tr>\n",
       "      <th>0</th>\n",
       "      <td>2</td>\n",
       "      <td>1</td>\n",
       "    </tr>\n",
       "    <tr>\n",
       "      <th>1</th>\n",
       "      <td>0</td>\n",
       "      <td>0</td>\n",
       "    </tr>\n",
       "    <tr>\n",
       "      <th>2</th>\n",
       "      <td>2</td>\n",
       "      <td>2</td>\n",
       "    </tr>\n",
       "    <tr>\n",
       "      <th>3</th>\n",
       "      <td>2</td>\n",
       "      <td>2</td>\n",
       "    </tr>\n",
       "    <tr>\n",
       "      <th>4</th>\n",
       "      <td>0</td>\n",
       "      <td>0</td>\n",
       "    </tr>\n",
       "    <tr>\n",
       "      <th>5</th>\n",
       "      <td>2</td>\n",
       "      <td>2</td>\n",
       "    </tr>\n",
       "    <tr>\n",
       "      <th>6</th>\n",
       "      <td>2</td>\n",
       "      <td>2</td>\n",
       "    </tr>\n",
       "    <tr>\n",
       "      <th>7</th>\n",
       "      <td>2</td>\n",
       "      <td>1</td>\n",
       "    </tr>\n",
       "    <tr>\n",
       "      <th>8</th>\n",
       "      <td>0</td>\n",
       "      <td>0</td>\n",
       "    </tr>\n",
       "    <tr>\n",
       "      <th>9</th>\n",
       "      <td>1</td>\n",
       "      <td>1</td>\n",
       "    </tr>\n",
       "    <tr>\n",
       "      <th>10</th>\n",
       "      <td>1</td>\n",
       "      <td>1</td>\n",
       "    </tr>\n",
       "    <tr>\n",
       "      <th>11</th>\n",
       "      <td>0</td>\n",
       "      <td>0</td>\n",
       "    </tr>\n",
       "    <tr>\n",
       "      <th>12</th>\n",
       "      <td>0</td>\n",
       "      <td>0</td>\n",
       "    </tr>\n",
       "    <tr>\n",
       "      <th>13</th>\n",
       "      <td>2</td>\n",
       "      <td>1</td>\n",
       "    </tr>\n",
       "    <tr>\n",
       "      <th>14</th>\n",
       "      <td>2</td>\n",
       "      <td>2</td>\n",
       "    </tr>\n",
       "    <tr>\n",
       "      <th>15</th>\n",
       "      <td>1</td>\n",
       "      <td>1</td>\n",
       "    </tr>\n",
       "    <tr>\n",
       "      <th>16</th>\n",
       "      <td>1</td>\n",
       "      <td>1</td>\n",
       "    </tr>\n",
       "    <tr>\n",
       "      <th>17</th>\n",
       "      <td>2</td>\n",
       "      <td>2</td>\n",
       "    </tr>\n",
       "    <tr>\n",
       "      <th>18</th>\n",
       "      <td>1</td>\n",
       "      <td>1</td>\n",
       "    </tr>\n",
       "    <tr>\n",
       "      <th>19</th>\n",
       "      <td>2</td>\n",
       "      <td>2</td>\n",
       "    </tr>\n",
       "    <tr>\n",
       "      <th>20</th>\n",
       "      <td>0</td>\n",
       "      <td>0</td>\n",
       "    </tr>\n",
       "    <tr>\n",
       "      <th>21</th>\n",
       "      <td>2</td>\n",
       "      <td>1</td>\n",
       "    </tr>\n",
       "    <tr>\n",
       "      <th>22</th>\n",
       "      <td>2</td>\n",
       "      <td>1</td>\n",
       "    </tr>\n",
       "    <tr>\n",
       "      <th>23</th>\n",
       "      <td>1</td>\n",
       "      <td>1</td>\n",
       "    </tr>\n",
       "    <tr>\n",
       "      <th>24</th>\n",
       "      <td>0</td>\n",
       "      <td>0</td>\n",
       "    </tr>\n",
       "    <tr>\n",
       "      <th>25</th>\n",
       "      <td>0</td>\n",
       "      <td>0</td>\n",
       "    </tr>\n",
       "    <tr>\n",
       "      <th>26</th>\n",
       "      <td>2</td>\n",
       "      <td>1</td>\n",
       "    </tr>\n",
       "    <tr>\n",
       "      <th>27</th>\n",
       "      <td>0</td>\n",
       "      <td>0</td>\n",
       "    </tr>\n",
       "    <tr>\n",
       "      <th>28</th>\n",
       "      <td>1</td>\n",
       "      <td>1</td>\n",
       "    </tr>\n",
       "    <tr>\n",
       "      <th>29</th>\n",
       "      <td>2</td>\n",
       "      <td>2</td>\n",
       "    </tr>\n",
       "  </tbody>\n",
       "</table>\n",
       "</div>"
      ],
      "text/plain": [
       "    0  1\n",
       "0   2  1\n",
       "1   0  0\n",
       "2   2  2\n",
       "3   2  2\n",
       "4   0  0\n",
       "5   2  2\n",
       "6   2  2\n",
       "7   2  1\n",
       "8   0  0\n",
       "9   1  1\n",
       "10  1  1\n",
       "11  0  0\n",
       "12  0  0\n",
       "13  2  1\n",
       "14  2  2\n",
       "15  1  1\n",
       "16  1  1\n",
       "17  2  2\n",
       "18  1  1\n",
       "19  2  2\n",
       "20  0  0\n",
       "21  2  1\n",
       "22  2  1\n",
       "23  1  1\n",
       "24  0  0\n",
       "25  0  0\n",
       "26  2  1\n",
       "27  0  0\n",
       "28  1  1\n",
       "29  2  2"
      ]
     },
     "execution_count": 19,
     "metadata": {},
     "output_type": "execute_result"
    }
   ],
   "source": [
    "result"
   ]
  },
  {
   "cell_type": "code",
   "execution_count": 24,
   "id": "010cd60c",
   "metadata": {},
   "outputs": [
    {
     "data": {
      "image/png": "[encoded data removed]",
      "text/plain": [
       "<Figure size 432x288 with 1 Axes>"
      ]
     },
     "metadata": {
      "needs_background": "light"
     },
     "output_type": "display_data"
    }
   ],
   "source": [
    "plt.scatter(X_train['sepal length (cm)'], X_train['sepal width (cm)'], c=y_train)\n",
    "plt.scatter(lda.means_[:, 0], lda.means_[:, 1], c='r', s=150, marker='*')\n",
    "plt.show()"
   ]
  },
  {
   "cell_type": "code",
   "execution_count": 32,
   "id": "3f3cdbe1",
   "metadata": {
    "scrolled": true
   },
   "outputs": [
    {
     "data": {
      "text/plain": [
       "<matplotlib.collections.PathCollection at 0x1d139d91ee0>"
      ]
     },
     "execution_count": 32,
     "metadata": {},
     "output_type": "execute_result"
    },
    {
     "data": {
      "image/png": "[encoded data removed]",
      "text/plain": [
       "<Figure size 432x288 with 1 Axes>"
      ]
     },
     "metadata": {
      "needs_background": "light"
     },
     "output_type": "display_data"
    }
   ],
   "source": [
    "plt.scatter(X_scaled[:, 0], X_scaled[:, 1], cmap='autumn', s=60)"
   ]
  },
  {
   "cell_type": "code",
   "execution_count": 31,
   "id": "4ad51599",
   "metadata": {},
   "outputs": [
    {
     "data": {
      "text/plain": [
       "array([[-0.90068117,  1.01900435],\n",
       "       [-1.14301691, -0.13197948],\n",
       "       [-1.38535265,  0.32841405],\n",
       "       [-1.50652052,  0.09821729],\n",
       "       [-1.02184904,  1.24920112],\n",
       "       [-0.53717756,  1.93979142],\n",
       "       [-1.50652052,  0.78880759],\n",
       "       [-1.02184904,  0.78880759],\n",
       "       [-1.74885626, -0.36217625],\n",
       "       [-1.14301691,  0.09821729],\n",
       "       [-0.53717756,  1.47939788],\n",
       "       [-1.26418478,  0.78880759],\n",
       "       [-1.26418478, -0.13197948],\n",
       "       [-1.87002413, -0.13197948],\n",
       "       [-0.05250608,  2.16998818],\n",
       "       [-0.17367395,  3.09077525],\n",
       "       [-0.53717756,  1.93979142],\n",
       "       [-0.90068117,  1.01900435],\n",
       "       [-0.17367395,  1.70959465],\n",
       "       [-0.90068117,  1.70959465],\n",
       "       [-0.53717756,  0.78880759],\n",
       "       [-0.90068117,  1.47939788],\n",
       "       [-1.50652052,  1.24920112],\n",
       "       [-0.90068117,  0.55861082],\n",
       "       [-1.26418478,  0.78880759],\n",
       "       [-1.02184904, -0.13197948],\n",
       "       [-1.02184904,  0.78880759],\n",
       "       [-0.7795133 ,  1.01900435],\n",
       "       [-0.7795133 ,  0.78880759],\n",
       "       [-1.38535265,  0.32841405],\n",
       "       [-1.26418478,  0.09821729],\n",
       "       [-0.53717756,  0.78880759],\n",
       "       [-0.7795133 ,  2.40018495],\n",
       "       [-0.41600969,  2.63038172],\n",
       "       [-1.14301691,  0.09821729],\n",
       "       [-1.02184904,  0.32841405],\n",
       "       [-0.41600969,  1.01900435],\n",
       "       [-1.14301691,  1.24920112],\n",
       "       [-1.74885626, -0.13197948],\n",
       "       [-0.90068117,  0.78880759],\n",
       "       [-1.02184904,  1.01900435],\n",
       "       [-1.62768839, -1.74335684],\n",
       "       [-1.74885626,  0.32841405],\n",
       "       [-1.02184904,  1.01900435],\n",
       "       [-0.90068117,  1.70959465],\n",
       "       [-1.26418478, -0.13197948],\n",
       "       [-0.90068117,  1.70959465],\n",
       "       [-1.50652052,  0.32841405],\n",
       "       [-0.65834543,  1.47939788],\n",
       "       [-1.02184904,  0.55861082],\n",
       "       [ 1.40150837,  0.32841405],\n",
       "       [ 0.67450115,  0.32841405],\n",
       "       [ 1.2803405 ,  0.09821729],\n",
       "       [-0.41600969, -1.74335684],\n",
       "       [ 0.79566902, -0.59237301],\n",
       "       [-0.17367395, -0.59237301],\n",
       "       [ 0.55333328,  0.55861082],\n",
       "       [-1.14301691, -1.51316008],\n",
       "       [ 0.91683689, -0.36217625],\n",
       "       [-0.7795133 , -0.82256978],\n",
       "       [-1.02184904, -2.43394714],\n",
       "       [ 0.06866179, -0.13197948],\n",
       "       [ 0.18982966, -1.97355361],\n",
       "       [ 0.31099753, -0.36217625],\n",
       "       [-0.29484182, -0.36217625],\n",
       "       [ 1.03800476,  0.09821729],\n",
       "       [-0.29484182, -0.13197948],\n",
       "       [-0.05250608, -0.82256978],\n",
       "       [ 0.4321654 , -1.97355361],\n",
       "       [-0.29484182, -1.28296331],\n",
       "       [ 0.06866179,  0.32841405],\n",
       "       [ 0.31099753, -0.59237301],\n",
       "       [ 0.55333328, -1.28296331],\n",
       "       [ 0.31099753, -0.59237301],\n",
       "       [ 0.67450115, -0.36217625],\n",
       "       [ 0.91683689, -0.13197948],\n",
       "       [ 1.15917263, -0.59237301],\n",
       "       [ 1.03800476, -0.13197948],\n",
       "       [ 0.18982966, -0.36217625],\n",
       "       [-0.17367395, -1.05276654],\n",
       "       [-0.41600969, -1.51316008],\n",
       "       [-0.41600969, -1.51316008],\n",
       "       [-0.05250608, -0.82256978],\n",
       "       [ 0.18982966, -0.82256978],\n",
       "       [-0.53717756, -0.13197948],\n",
       "       [ 0.18982966,  0.78880759],\n",
       "       [ 1.03800476,  0.09821729],\n",
       "       [ 0.55333328, -1.74335684],\n",
       "       [-0.29484182, -0.13197948],\n",
       "       [-0.41600969, -1.28296331],\n",
       "       [-0.41600969, -1.05276654],\n",
       "       [ 0.31099753, -0.13197948],\n",
       "       [-0.05250608, -1.05276654],\n",
       "       [-1.02184904, -1.74335684],\n",
       "       [-0.29484182, -0.82256978],\n",
       "       [-0.17367395, -0.13197948],\n",
       "       [-0.17367395, -0.36217625],\n",
       "       [ 0.4321654 , -0.36217625],\n",
       "       [-0.90068117, -1.28296331],\n",
       "       [-0.17367395, -0.59237301],\n",
       "       [ 0.55333328,  0.55861082],\n",
       "       [-0.05250608, -0.82256978],\n",
       "       [ 1.52267624, -0.13197948],\n",
       "       [ 0.55333328, -0.36217625],\n",
       "       [ 0.79566902, -0.13197948],\n",
       "       [ 2.12851559, -0.13197948],\n",
       "       [-1.14301691, -1.28296331],\n",
       "       [ 1.76501198, -0.36217625],\n",
       "       [ 1.03800476, -1.28296331],\n",
       "       [ 1.64384411,  1.24920112],\n",
       "       [ 0.79566902,  0.32841405],\n",
       "       [ 0.67450115, -0.82256978],\n",
       "       [ 1.15917263, -0.13197948],\n",
       "       [-0.17367395, -1.28296331],\n",
       "       [-0.05250608, -0.59237301],\n",
       "       [ 0.67450115,  0.32841405],\n",
       "       [ 0.79566902, -0.13197948],\n",
       "       [ 2.24968346,  1.70959465],\n",
       "       [ 2.24968346, -1.05276654],\n",
       "       [ 0.18982966, -1.97355361],\n",
       "       [ 1.2803405 ,  0.32841405],\n",
       "       [-0.29484182, -0.59237301],\n",
       "       [ 2.24968346, -0.59237301],\n",
       "       [ 0.55333328, -0.82256978],\n",
       "       [ 1.03800476,  0.55861082],\n",
       "       [ 1.64384411,  0.32841405],\n",
       "       [ 0.4321654 , -0.59237301],\n",
       "       [ 0.31099753, -0.13197948],\n",
       "       [ 0.67450115, -0.59237301],\n",
       "       [ 1.64384411, -0.13197948],\n",
       "       [ 1.88617985, -0.59237301],\n",
       "       [ 2.4920192 ,  1.70959465],\n",
       "       [ 0.67450115, -0.59237301],\n",
       "       [ 0.55333328, -0.59237301],\n",
       "       [ 0.31099753, -1.05276654],\n",
       "       [ 2.24968346, -0.13197948],\n",
       "       [ 0.55333328,  0.78880759],\n",
       "       [ 0.67450115,  0.09821729],\n",
       "       [ 0.18982966, -0.13197948],\n",
       "       [ 1.2803405 ,  0.09821729],\n",
       "       [ 1.03800476,  0.09821729],\n",
       "       [ 1.2803405 ,  0.09821729],\n",
       "       [-0.05250608, -0.82256978],\n",
       "       [ 1.15917263,  0.32841405],\n",
       "       [ 1.03800476,  0.55861082],\n",
       "       [ 1.03800476, -0.13197948],\n",
       "       [ 0.55333328, -1.28296331],\n",
       "       [ 0.79566902, -0.13197948],\n",
       "       [ 0.4321654 ,  0.78880759],\n",
       "       [ 0.06866179, -0.13197948]])"
      ]
     },
     "execution_count": 31,
     "metadata": {},
     "output_type": "execute_result"
    }
   ],
   "source": [
    "X_scaled = scaler.fit_transform(iris_)\n",
    "X_scaled"
   ]
  },
  {
   "cell_type": "code",
   "execution_count": 29,
   "id": "6484718c",
   "metadata": {},
   "outputs": [],
   "source": [
    "from sklearn.preprocessing import StandardScaler\n",
    "scaler = StandardScaler()"
   ]
  },
  {
   "cell_type": "code",
   "execution_count": 33,
   "id": "4cc5d2ae",
   "metadata": {},
   "outputs": [],
   "source": [
    "from sklearn.cluster import KMeans"
   ]
  },
  {
   "cell_type": "code",
   "execution_count": 37,
   "id": "e887abbe",
   "metadata": {},
   "outputs": [],
   "source": [
    "k_inertia = []\n",
    "ks = range(2, 10)\n",
    "\n",
    "for k in ks:\n",
    "    clf_kmeans = KMeans(n_clusters=k)\n",
    "    clusters_kmeans = clf_kmeans.fit_predict(X_scaled)\n",
    "    k_inertia.append(clf_kmeans.inertia_)"
   ]
  },
  {
   "cell_type": "code",
   "execution_count": 39,
   "id": "b794e808",
   "metadata": {},
   "outputs": [
    {
     "data": {
      "text/plain": [
       "[<matplotlib.lines.Line2D at 0x1d13a90d850>]"
      ]
     },
     "execution_count": 39,
     "metadata": {},
     "output_type": "execute_result"
    },
    {
     "data": {
      "image/png": "[encoded data removed]",
      "text/plain": [
       "<Figure size 432x288 with 1 Axes>"
      ]
     },
     "metadata": {
      "needs_background": "light"
     },
     "output_type": "display_data"
    }
   ],
   "source": [
    "plt.plot(ks, k_inertia)\n",
    "plt.plot(ks, k_inertia ,'ro')\n",
    "#видим, что примерно нам подходит 4-5 кластеров"
   ]
  },
  {
   "cell_type": "code",
   "execution_count": 51,
   "id": "4fe02e5e",
   "metadata": {},
   "outputs": [
    {
     "data": {
      "text/plain": [
       "array([1, 1, 1, 1, 1, 3, 1, 1, 1, 1, 3, 1, 1, 1, 3, 3, 3, 1, 3, 3, 1, 3,\n",
       "       1, 1, 1, 1, 1, 1, 1, 1, 1, 1, 3, 3, 1, 1, 3, 1, 1, 1, 1, 4, 1, 1,\n",
       "       3, 1, 3, 1, 3, 1, 0, 0, 0, 4, 2, 2, 0, 4, 0, 4, 4, 2, 4, 2, 2, 0,\n",
       "       2, 2, 4, 4, 2, 2, 2, 2, 2, 0, 0, 0, 2, 4, 4, 4, 2, 2, 2, 0, 0, 4,\n",
       "       2, 4, 4, 2, 2, 4, 2, 2, 2, 2, 4, 2, 0, 2, 0, 2, 0, 0, 4, 0, 2, 0,\n",
       "       0, 2, 0, 4, 2, 0, 0, 0, 0, 4, 0, 2, 0, 2, 0, 0, 2, 2, 2, 0, 0, 0,\n",
       "       2, 2, 2, 0, 0, 0, 2, 0, 0, 0, 2, 0, 0, 0, 2, 0, 0, 2])"
      ]
     },
     "execution_count": 51,
     "metadata": {},
     "output_type": "execute_result"
    }
   ],
   "source": [
    "kmeans = KMeans(n_clusters=5)\n",
    "clusters = kmeans.fit_predict(X_scaled)\n",
    "clusters"
   ]
  },
  {
   "cell_type": "code",
   "execution_count": 53,
   "id": "59221bce",
   "metadata": {},
   "outputs": [
    {
     "data": {
      "text/plain": [
       "array([2, 2, 2, 2, 2, 3, 2, 2, 2, 2, 3, 2, 2, 2, 3, 3, 3, 2, 3, 3, 2, 3,\n",
       "       2, 2, 2, 2, 2, 2, 2, 2, 2, 2, 3, 3, 2, 2, 3, 2, 2, 2, 2, 4, 2, 2,\n",
       "       3, 2, 3, 2, 3, 2, 1, 1, 1, 4, 0, 0, 1, 4, 1, 4, 4, 0, 4, 0, 0, 1,\n",
       "       0, 0, 4, 4, 0, 0, 0, 0, 0, 1, 1, 1, 0, 4, 4, 4, 0, 0, 0, 1, 1, 4,\n",
       "       0, 4, 4, 0, 0, 4, 0, 0, 0, 0, 4, 0, 1, 0, 1, 0, 1, 1, 4, 1, 0, 1,\n",
       "       1, 0, 1, 4, 0, 1, 1, 1, 1, 4, 1, 0, 1, 0, 1, 1, 0, 0, 0, 1, 1, 1,\n",
       "       0, 0, 0, 1, 1, 1, 0, 1, 1, 1, 0, 1, 1, 1, 0, 1, 1, 0])"
      ]
     },
     "execution_count": 53,
     "metadata": {},
     "output_type": "execute_result"
    }
   ],
   "source": [
    "kmeans4 = KMeans(n_clusters=5)\n",
    "clusters4 = kmeans.fit_predict(X_scaled)\n",
    "clusters4"
   ]
  },
  {
   "cell_type": "code",
   "execution_count": 54,
   "id": "030b0bfa",
   "metadata": {},
   "outputs": [
    {
     "data": {
      "text/plain": [
       "<matplotlib.collections.PathCollection at 0x1d13a7a5f40>"
      ]
     },
     "execution_count": 54,
     "metadata": {},
     "output_type": "execute_result"
    },
    {
     "data": {
      "image/png": "[encoded data removed]",
      "text/plain": [
       "<Figure size 432x288 with 1 Axes>"
      ]
     },
     "metadata": {
      "needs_background": "light"
     },
     "output_type": "display_data"
    }
   ],
   "source": [
    "plt.scatter(X_scaled[:, 0], X_scaled[:, 1], cmap='autumn', c=clusters4, s=60)"
   ]
  },
  {
   "cell_type": "code",
   "execution_count": 55,
   "id": "6e9654ef",
   "metadata": {},
   "outputs": [
    {
     "data": {
      "text/plain": [
       "<matplotlib.collections.PathCollection at 0x1d139ebf0d0>"
      ]
     },
     "execution_count": 55,
     "metadata": {},
     "output_type": "execute_result"
    },
    {
     "data": {
      "image/png": "[encoded data removed]",
      "text/plain": [
       "<Figure size 432x288 with 1 Axes>"
      ]
     },
     "metadata": {
      "needs_background": "light"
     },
     "output_type": "display_data"
    }
   ],
   "source": [
    "plt.scatter(X_scaled[:, 0], X_scaled[:, 1], cmap='autumn', c=clusters, s=60)"
   ]
  },
  {
   "cell_type": "code",
   "execution_count": 56,
   "id": "c71312bc",
   "metadata": {},
   "outputs": [],
   "source": [
    "#Глядя на две визуализации можно предположить, что нам подходит 4 кластера"
   ]
  }
 ],
 "metadata": {
  "kernelspec": {
   "display_name": "Python 3",
   "language": "python",
   "name": "python3"
  },
  "language_info": {
   "codemirror_mode": {
    "name": "ipython",
    "version": 3
   },
   "file_extension": ".py",
   "mimetype": "text/x-python",
   "name": "python",
   "nbconvert_exporter": "python",
   "pygments_lexer": "ipython3",
   "version": "3.8.8"
  }
 },
 "nbformat": 4,
 "nbformat_minor": 5
}
