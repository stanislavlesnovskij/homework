{
 "cells": [
  {
   "cell_type": "code",
   "execution_count": 2,
   "id": "6c3bcb5d",
   "metadata": {},
   "outputs": [],
   "source": [
    "import numpy as np\n",
    "import matplotlib.pyplot as plt"
   ]
  },
  {
   "cell_type": "code",
   "execution_count": 3,
   "id": "2e858c6b",
   "metadata": {},
   "outputs": [],
   "source": [
    "a=np.array([1,1])\n",
    "b=np.array([2,0])\n",
    "c=np.array([0,2])"
   ]
  },
  {
   "cell_type": "code",
   "execution_count": 4,
   "id": "2ccf86dd",
   "metadata": {},
   "outputs": [
    {
     "data": {
      "image/png": "[encoded data removed]",
      "text/plain": [
       "<Figure size 432x288 with 1 Axes>"
      ]
     },
     "metadata": {
      "needs_background": "light"
     },
     "output_type": "display_data"
    }
   ],
   "source": [
    "plt.figure()\n",
    "plt.plot(a[0],a[1],'x')\n",
    "plt.plot(b[0],b[1],'x')\n",
    "plt.plot(c[0],c[1],'x')\n",
    "plt.grid()"
   ]
  },
  {
   "cell_type": "code",
   "execution_count": 5,
   "id": "dc604b20",
   "metadata": {},
   "outputs": [],
   "source": [
    "d=a+b+c"
   ]
  },
  {
   "cell_type": "code",
   "execution_count": 7,
   "id": "85b497e8",
   "metadata": {},
   "outputs": [
    {
     "data": {
      "image/png": "[encoded data removed]",
      "text/plain": [
       "<Figure size 432x288 with 1 Axes>"
      ]
     },
     "metadata": {
      "needs_background": "light"
     },
     "output_type": "display_data"
    }
   ],
   "source": [
    "plt.figure()\n",
    "plt.plot(d[0],d[1],'x')\n",
    "plt.grid()"
   ]
  },
  {
   "cell_type": "code",
   "execution_count": 14,
   "id": "6f9a1f40",
   "metadata": {},
   "outputs": [
    {
     "data": {
      "text/plain": [
       "45.00000000000001"
      ]
     },
     "execution_count": 14,
     "metadata": {},
     "output_type": "execute_result"
    }
   ],
   "source": [
    "#Можно не писать код, тут ведь 45 градусов)))\n",
    "sk = np.dot(a,b)\n",
    "cos = (np.dot(a,b))/((np.sqrt(np.dot(a,a)))*(np.sqrt(np.dot(b,b))))\n",
    "corner = (np.arccos(cos)*180)/np.pi\n",
    "corner"
   ]
  }
 ],
 "metadata": {
  "kernelspec": {
   "display_name": "Python 3",
   "language": "python",
   "name": "python3"
  },
  "language_info": {
   "codemirror_mode": {
    "name": "ipython",
    "version": 3
   },
   "file_extension": ".py",
   "mimetype": "text/x-python",
   "name": "python",
   "nbconvert_exporter": "python",
   "pygments_lexer": "ipython3",
   "version": "3.8.8"
  }
 },
 "nbformat": 4,
 "nbformat_minor": 5
}
