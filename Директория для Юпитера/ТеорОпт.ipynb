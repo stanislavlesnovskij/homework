{
 "cells": [
  {
   "cell_type": "code",
   "execution_count": 5,
   "id": "16b49a07",
   "metadata": {},
   "outputs": [],
   "source": [
    "import numpy as np\n",
    "from scipy.optimize import differential_evolution\n",
    "import matplotlib.pyplot as plt"
   ]
  },
  {
   "cell_type": "code",
   "execution_count": 14,
   "id": "b36501de",
   "metadata": {
    "scrolled": true
   },
   "outputs": [
    {
     "data": {
      "text/plain": [
       "     fun: 4.440892098500626e-16\n",
       " message: 'Optimization terminated successfully.'\n",
       "    nfev: 2793\n",
       "     nit: 90\n",
       " success: True\n",
       "       x: array([0., 0.])"
      ]
     },
     "execution_count": 14,
     "metadata": {},
     "output_type": "execute_result"
    }
   ],
   "source": [
    "def ackley(x):\n",
    "    arg1 = -0.2 * np.sqrt(0.5 * (x[0] ** 2 + x[1] ** 2))\n",
    "    arg2 = 0.5 * (np.cos(2. * np.pi * x[0]) + np.cos(2. * np.pi * x[1]))\n",
    "    return -20. * np.exp(arg1) - np.exp(arg2) + 20. + np.e\n",
    "\n",
    "bounds = [(-10, 10), (-10, 10)]\n",
    "\n",
    "result = differential_evolution(ackley, bounds, seed=42)\n",
    "result"
   ]
  },
  {
   "cell_type": "code",
   "execution_count": 15,
   "id": "9f5afe8f",
   "metadata": {},
   "outputs": [
    {
     "data": {
      "text/plain": [
       "     fun: 4.440892098500626e-16\n",
       " message: 'Optimization terminated successfully.'\n",
       "    nfev: 2793\n",
       "     nit: 90\n",
       " success: True\n",
       "       x: array([0., 0.])"
      ]
     },
     "execution_count": 15,
     "metadata": {},
     "output_type": "execute_result"
    }
   ],
   "source": [
    "result"
   ]
  },
  {
   "cell_type": "code",
   "execution_count": 24,
   "id": "ca38f576",
   "metadata": {},
   "outputs": [],
   "source": [
    "?differential_evolution"
   ]
  },
  {
   "cell_type": "code",
   "execution_count": 13,
   "id": "baa4ba0a",
   "metadata": {},
   "outputs": [],
   "source": [
    "result1 = differential_evolution(ackley, bounds,popsize=40, seed=42)\n",
    "result2 = differential_evolution(ackley, bounds,popsize=60, seed=42)\n",
    "result3 = differential_evolution(ackley, bounds,popsize=80, seed=42)\n",
    "result4 = differential_evolution(ackley, bounds,popsize=100, seed=42)\n",
    "result5 = differential_evolution(ackley, bounds,popsize=120, seed=42)"
   ]
  },
  {
   "cell_type": "code",
   "execution_count": 23,
   "id": "9de37333",
   "metadata": {
    "scrolled": true
   },
   "outputs": [
    {
     "data": {
      "text/plain": [
       "[<matplotlib.lines.Line2D at 0x1de719a9910>]"
      ]
     },
     "execution_count": 23,
     "metadata": {},
     "output_type": "execute_result"
    },
    {
     "data": {
      "image/png": "[encoded data removed]",
      "text/plain": [
       "<Figure size 432x288 with 1 Axes>"
      ]
     },
     "metadata": {
      "needs_background": "light"
     },
     "output_type": "display_data"
    }
   ],
   "source": [
    "fig=plt.subplots()\n",
    "plt.plot(result.nfev,15,marker='*')\n",
    "plt.plot(result1.nfev,40,marker='*')\n",
    "plt.plot(result2.nfev,60,marker='*')\n",
    "plt.plot(result3.nfev,80,marker='*')\n",
    "plt.plot(result4.nfev,100,marker='*')\n",
    "plt.plot(result5.nfev,120,marker='*')"
   ]
  },
  {
   "cell_type": "code",
   "execution_count": 25,
   "id": "bfa64e2c",
   "metadata": {},
   "outputs": [],
   "source": [
    "result1 = differential_evolution(ackley, bounds,strategy='best1exp', seed=42)\n",
    "result2 = differential_evolution(ackley, bounds,strategy='rand1exp', seed=42)\n",
    "result3 = differential_evolution(ackley, bounds,strategy='currenttobest1bin', seed=42)\n",
    "result4 = differential_evolution(ackley, bounds,strategy='randtobest1exp', seed=42)\n",
    "result5 = differential_evolution(ackley, bounds,strategy='rand1bin', seed=42)"
   ]
  },
  {
   "cell_type": "code",
   "execution_count": 38,
   "id": "32aa7a97",
   "metadata": {
    "scrolled": true
   },
   "outputs": [
    {
     "data": {
      "text/plain": [
       "[<matplotlib.lines.Line2D at 0x1de71cb68b0>]"
      ]
     },
     "execution_count": 38,
     "metadata": {},
     "output_type": "execute_result"
    },
    {
     "data": {
      "image/png": "[encoded data removed]",
      "text/plain": [
       "<Figure size 432x288 with 1 Axes>"
      ]
     },
     "metadata": {
      "needs_background": "light"
     },
     "output_type": "display_data"
    }
   ],
   "source": [
    "fig=plt.subplots()\n",
    "plt.plot(result.nfev,1,marker='*')\n",
    "plt.plot(result1.nfev,2,marker='*')\n",
    "plt.plot(result2.nfev,3,marker='*')\n",
    "plt.plot(result3.nfev,4,marker='*')\n",
    "plt.plot(result4.nfev,5,marker='*')\n",
    "plt.plot(result5.nfev,6,marker='*')"
   ]
  },
  {
   "cell_type": "code",
   "execution_count": 30,
   "id": "0590447c",
   "metadata": {},
   "outputs": [],
   "source": [
    "result1 = differential_evolution(ackley, bounds,tol=0.1, seed=42)\n",
    "result2 = differential_evolution(ackley, bounds,tol=0.2, seed=42)\n",
    "result3 = differential_evolution(ackley, bounds,tol=0.3, seed=42)\n",
    "result4 = differential_evolution(ackley, bounds,tol=0.4, seed=42)\n",
    "result5 = differential_evolution(ackley, bounds,tol=0.5, seed=42)"
   ]
  },
  {
   "cell_type": "code",
   "execution_count": 39,
   "id": "947cd167",
   "metadata": {},
   "outputs": [
    {
     "data": {
      "text/plain": [
       "[<matplotlib.lines.Line2D at 0x1de72442f10>]"
      ]
     },
     "execution_count": 39,
     "metadata": {},
     "output_type": "execute_result"
    },
    {
     "data": {
      "image/png": "[encoded data removed]",
      "text/plain": [
       "<Figure size 432x288 with 1 Axes>"
      ]
     },
     "metadata": {
      "needs_background": "light"
     },
     "output_type": "display_data"
    }
   ],
   "source": [
    "fig=plt.subplots()\n",
    "plt.plot(result.nfev,0.01,marker='*')\n",
    "plt.plot(result1.nfev,0.1,marker='*')\n",
    "plt.plot(result2.nfev,0.2,marker='*')\n",
    "plt.plot(result3.nfev,0.3,marker='*')\n",
    "plt.plot(result4.nfev,0.4,marker='*')\n",
    "plt.plot(result5.nfev,0.5,marker='*')"
   ]
  },
  {
   "cell_type": "code",
   "execution_count": 40,
   "id": "9dd26fef",
   "metadata": {},
   "outputs": [],
   "source": [
    "result1 = differential_evolution(ackley, bounds,mutation=(0.1,1.1), seed=42)\n",
    "result2 = differential_evolution(ackley, bounds,mutation=(0.1,1.2), seed=42)\n",
    "result3 = differential_evolution(ackley, bounds,mutation=(0.1,1.4), seed=42)\n",
    "result4 = differential_evolution(ackley, bounds,mutation=(0.1,1.6), seed=42)\n",
    "result5 = differential_evolution(ackley, bounds,mutation=(0.1,1.8), seed=42)"
   ]
  },
  {
   "cell_type": "code",
   "execution_count": 44,
   "id": "aa2de20e",
   "metadata": {},
   "outputs": [
    {
     "data": {
      "text/plain": [
       "[<matplotlib.lines.Line2D at 0x1de7212c250>]"
      ]
     },
     "execution_count": 44,
     "metadata": {},
     "output_type": "execute_result"
    },
    {
     "data": {
      "image/png": "[encoded data removed]",
      "text/plain": [
       "<Figure size 432x288 with 1 Axes>"
      ]
     },
     "metadata": {
      "needs_background": "light"
     },
     "output_type": "display_data"
    }
   ],
   "source": [
    "fig=plt.subplots()\n",
    "plt.plot(result.nfev,1,marker='*')\n",
    "plt.plot(result1.nfev,1.1,marker='*')\n",
    "plt.plot(result2.nfev,1.2,marker='*')\n",
    "plt.plot(result3.nfev,1.4,marker='*')\n",
    "plt.plot(result4.nfev,1.6,marker='*')\n",
    "plt.plot(result5.nfev,1.8,marker='*')"
   ]
  },
  {
   "cell_type": "code",
   "execution_count": 35,
   "id": "1b24d284",
   "metadata": {},
   "outputs": [],
   "source": [
    "result1 = differential_evolution(ackley, bounds,recombination=0.1, seed=42)\n",
    "result2 = differential_evolution(ackley, bounds,recombination=0.2, seed=42)\n",
    "result3 = differential_evolution(ackley, bounds,recombination=0.4, seed=42)\n",
    "result4 = differential_evolution(ackley, bounds,recombination=0.6, seed=42)\n",
    "result5 = differential_evolution(ackley, bounds,recombination=0.8, seed=42)"
   ]
  },
  {
   "cell_type": "code",
   "execution_count": 45,
   "id": "154af102",
   "metadata": {},
   "outputs": [
    {
     "data": {
      "text/plain": [
       "[<matplotlib.lines.Line2D at 0x1de719117f0>]"
      ]
     },
     "execution_count": 45,
     "metadata": {},
     "output_type": "execute_result"
    },
    {
     "data": {
      "image/png": "[encoded data removed]",
      "text/plain": [
       "<Figure size 432x288 with 1 Axes>"
      ]
     },
     "metadata": {
      "needs_background": "light"
     },
     "output_type": "display_data"
    }
   ],
   "source": [
    "fig=plt.subplots()\n",
    "plt.plot(result.nfev,0.7,marker='*')\n",
    "plt.plot(result1.nfev,0.1,marker='*')\n",
    "plt.plot(result2.nfev,0.2,marker='*')\n",
    "plt.plot(result3.nfev,0.4,marker='*')\n",
    "plt.plot(result4.nfev,0.6,marker='*')\n",
    "plt.plot(result5.nfev,0.8,marker='*')"
   ]
  },
  {
   "cell_type": "code",
   "execution_count": 47,
   "id": "6c4b29a2",
   "metadata": {},
   "outputs": [],
   "source": [
    "result1 = differential_evolution(ackley, bounds, seed=42,updating='immediate')\n",
    "result2 = differential_evolution(ackley, bounds, seed=42,updating='deferred')\n",
    "result3 = differential_evolution(ackley, bounds, seed=42,updating='immediate')\n",
    "result4 = differential_evolution(ackley, bounds, seed=42,updating='deferred')\n",
    "result5 = differential_evolution(ackley, bounds, seed=42,updating='immediate')"
   ]
  },
  {
   "cell_type": "code",
   "execution_count": 48,
   "id": "a79f9cb2",
   "metadata": {},
   "outputs": [
    {
     "data": {
      "text/plain": [
       "[<matplotlib.lines.Line2D at 0x1de702a7be0>]"
      ]
     },
     "execution_count": 48,
     "metadata": {},
     "output_type": "execute_result"
    },
    {
     "data": {
      "image/png": "[encoded data removed]",
      "text/plain": [
       "<Figure size 432x288 with 1 Axes>"
      ]
     },
     "metadata": {
      "needs_background": "light"
     },
     "output_type": "display_data"
    }
   ],
   "source": [
    "fig=plt.subplots()\n",
    "plt.plot(result.nfev,1,marker='*')\n",
    "plt.plot(result1.nfev,2,marker='*')\n",
    "plt.plot(result2.nfev,3,marker='*')\n",
    "plt.plot(result3.nfev,4,marker='*')\n",
    "plt.plot(result4.nfev,5,marker='*')\n",
    "plt.plot(result5.nfev,6,marker='*')"
   ]
  }
 ],
 "metadata": {
  "kernelspec": {
   "display_name": "Python 3",
   "language": "python",
   "name": "python3"
  },
  "language_info": {
   "codemirror_mode": {
    "name": "ipython",
    "version": 3
   },
   "file_extension": ".py",
   "mimetype": "text/x-python",
   "name": "python",
   "nbconvert_exporter": "python",
   "pygments_lexer": "ipython3",
   "version": "3.8.8"
  }
 },
 "nbformat": 4,
 "nbformat_minor": 5
}
