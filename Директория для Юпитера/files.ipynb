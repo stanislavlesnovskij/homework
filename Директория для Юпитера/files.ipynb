{
 "cells": [
  {
   "cell_type": "code",
   "execution_count": 9,
   "id": "e8389076",
   "metadata": {},
   "outputs": [],
   "source": [
    "\n",
    "import json\n",
    "purchases={}\n",
    "with open('purchase_log.txt','r',encoding = 'UTF-8') as f:\n",
    "    for line in f:\n",
    "        dict1 = json.loads(line)\n",
    "        purchases[dict1['user_id']]=dict1['category']\n"
   ]
  },
  {
   "cell_type": "code",
   "execution_count": null,
   "id": "976b9a98",
   "metadata": {},
   "outputs": [],
   "source": []
  },
  {
   "cell_type": "code",
   "execution_count": 19,
   "id": "4d4579f9",
   "metadata": {},
   "outputs": [],
   "source": [
    "#Я не совсем понял, откуда взять категорию покупки. Сначала подумал, \n",
    "#что из предыдущего задания, но user_id не совпадают. Или под категорией\n",
    "#в данной задаче понимается source? Что за категория? В данном решении реализовал\n",
    "#подстановку случайной категории для строк, где указан source.\n",
    "#В закомментированном отрывке реализован случай с подбором из предыдущего словаря\n",
    "import json\n",
    "import random\n",
    "with open('visit_log.csv','r') as f:\n",
    "    with open('funnel.csv','w') as wr:\n",
    "        for line in f:\n",
    "            dev = line.strip().split(',')\n",
    "            if dev[1]!='None':\n",
    "                #category = purchases[dev[0]]\n",
    "                #dev.append(category)\n",
    "                num = random.randint(0,4)\n",
    "                category = ['Продукты','Бытовая техника','Электроника','Хозтовары','Товары для спорта']\n",
    "                dev.append(category[num])\n",
    "                wr.write((str(dev)+'\\n'))\n",
    "                "
   ]
  }
 ],
 "metadata": {
  "kernelspec": {
   "display_name": "Python 3",
   "language": "python",
   "name": "python3"
  },
  "language_info": {
   "codemirror_mode": {
    "name": "ipython",
    "version": 3
   },
   "file_extension": ".py",
   "mimetype": "text/x-python",
   "name": "python",
   "nbconvert_exporter": "python",
   "pygments_lexer": "ipython3",
   "version": "3.8.8"
  }
 },
 "nbformat": 4,
 "nbformat_minor": 5
}
