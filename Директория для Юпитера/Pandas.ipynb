{
 "cells": [
  {
   "cell_type": "code",
   "execution_count": 2,
   "id": "46b93819",
   "metadata": {},
   "outputs": [],
   "source": [
    "import pandas as pd"
   ]
  },
  {
   "cell_type": "code",
   "execution_count": 3,
   "id": "d6c0065b",
   "metadata": {},
   "outputs": [
    {
     "name": "stdout",
     "output_type": "stream",
     "text": [
      "<class 'pandas.core.frame.DataFrame'>\n",
      "RangeIndex: 25000095 entries, 0 to 25000094\n",
      "Data columns (total 4 columns):\n",
      " #   Column     Dtype  \n",
      "---  ------     -----  \n",
      " 0   userId     int64  \n",
      " 1   movieId    int64  \n",
      " 2   rating     float64\n",
      " 3   timestamp  int64  \n",
      "dtypes: float64(1), int64(3)\n",
      "memory usage: 762.9 MB\n"
     ]
    }
   ],
   "source": [
    "data = pd.read_csv('ratings.csv',sep=',')\n",
    "data.info()"
   ]
  },
  {
   "cell_type": "code",
   "execution_count": 12,
   "id": "132ce6e3",
   "metadata": {},
   "outputs": [],
   "source": [
    "data_rait = data[data['rating']==5.0]"
   ]
  },
  {
   "cell_type": "code",
   "execution_count": 7,
   "id": "8e099800",
   "metadata": {},
   "outputs": [],
   "source": [
    "data.sort_values(by=['rating','movieId'],ascending=[False,True],inplace=True)"
   ]
  },
  {
   "cell_type": "code",
   "execution_count": null,
   "id": "8db31add",
   "metadata": {},
   "outputs": [],
   "source": []
  },
  {
   "cell_type": "code",
   "execution_count": 8,
   "id": "f81fcfbc",
   "metadata": {},
   "outputs": [
    {
     "data": {
      "text/html": [
       "<div>\n",
       "<style scoped>\n",
       "    .dataframe tbody tr th:only-of-type {\n",
       "        vertical-align: middle;\n",
       "    }\n",
       "\n",
       "    .dataframe tbody tr th {\n",
       "        vertical-align: top;\n",
       "    }\n",
       "\n",
       "    .dataframe thead th {\n",
       "        text-align: right;\n",
       "    }\n",
       "</style>\n",
       "<table border=\"1\" class=\"dataframe\">\n",
       "  <thead>\n",
       "    <tr style=\"text-align: right;\">\n",
       "      <th></th>\n",
       "      <th>userId</th>\n",
       "      <th>movieId</th>\n",
       "      <th>rating</th>\n",
       "      <th>timestamp</th>\n",
       "    </tr>\n",
       "  </thead>\n",
       "  <tbody>\n",
       "    <tr>\n",
       "      <th>5101</th>\n",
       "      <td>36</td>\n",
       "      <td>1</td>\n",
       "      <td>5.0</td>\n",
       "      <td>857131378</td>\n",
       "    </tr>\n",
       "    <tr>\n",
       "      <th>9939</th>\n",
       "      <td>75</td>\n",
       "      <td>1</td>\n",
       "      <td>5.0</td>\n",
       "      <td>1537207651</td>\n",
       "    </tr>\n",
       "    <tr>\n",
       "      <th>11842</th>\n",
       "      <td>86</td>\n",
       "      <td>1</td>\n",
       "      <td>5.0</td>\n",
       "      <td>945462775</td>\n",
       "    </tr>\n",
       "    <tr>\n",
       "      <th>12232</th>\n",
       "      <td>90</td>\n",
       "      <td>1</td>\n",
       "      <td>5.0</td>\n",
       "      <td>863538043</td>\n",
       "    </tr>\n",
       "    <tr>\n",
       "      <th>12504</th>\n",
       "      <td>93</td>\n",
       "      <td>1</td>\n",
       "      <td>5.0</td>\n",
       "      <td>1496543050</td>\n",
       "    </tr>\n",
       "  </tbody>\n",
       "</table>\n",
       "</div>"
      ],
      "text/plain": [
       "       userId  movieId  rating   timestamp\n",
       "5101       36        1     5.0   857131378\n",
       "9939       75        1     5.0  1537207651\n",
       "11842      86        1     5.0   945462775\n",
       "12232      90        1     5.0   863538043\n",
       "12504      93        1     5.0  1496543050"
      ]
     },
     "execution_count": 8,
     "metadata": {},
     "output_type": "execute_result"
    }
   ],
   "source": [
    "data.head()"
   ]
  },
  {
   "cell_type": "code",
   "execution_count": 9,
   "id": "439f8914",
   "metadata": {},
   "outputs": [
    {
     "data": {
      "text/plain": [
       "array([     1,      2,      3, ..., 208024, 208120, 209137], dtype=int64)"
      ]
     },
     "execution_count": 9,
     "metadata": {},
     "output_type": "execute_result"
    }
   ],
   "source": [
    "data.movieId.unique()"
   ]
  },
  {
   "cell_type": "code",
   "execution_count": 14,
   "id": "0bf92b16",
   "metadata": {},
   "outputs": [
    {
     "name": "stdout",
     "output_type": "stream",
     "text": [
      "39553 318\n"
     ]
    }
   ],
   "source": [
    "length = 0\n",
    "for key in data_rait.movieId.unique():\n",
    "    if len(data_rait[data_rait['movieId']==key])>length:\n",
    "        length=len(data_rait[data_rait['movieId']==key])\n",
    "        ID=key\n",
    "print(f'Фильму с ID: {ID} было выставлено больше всех оценок 5.0.')\n"
   ]
  },
  {
   "cell_type": "code",
   "execution_count": 28,
   "id": "49364227",
   "metadata": {},
   "outputs": [
    {
     "data": {
      "text/plain": [
       "240580.0"
      ]
     },
     "execution_count": 28,
     "metadata": {},
     "output_type": "execute_result"
    }
   ],
   "source": [
    "countryes = pd.read_csv('power.csv',sep=',')\n",
    "count = countryes[((countryes['country']=='Lithuania')|(countryes['country']=='Latvia')|(countryes['country']=='Estonia'))&((countryes['category']==4)|(countryes['category']==12)|(countryes['category']==21))&((countryes['year']<=2010)&(countryes['year']>=2005))&(countryes['quantity']>=0)]\n",
    "count.quantity.sum()"
   ]
  },
  {
   "cell_type": "code",
   "execution_count": 35,
   "id": "8dae115a",
   "metadata": {},
   "outputs": [
    {
     "data": {
      "text/plain": [
       "pandas.core.frame.DataFrame"
      ]
     },
     "execution_count": 35,
     "metadata": {},
     "output_type": "execute_result"
    }
   ],
   "source": [
    "data = pd.read_html('https://www.finanz.ru/valyuty/v-realnom-vremeni',encoding='utf-8')[0]\n",
    "type(data)"
   ]
  }
 ],
 "metadata": {
  "kernelspec": {
   "display_name": "Python 3",
   "language": "python",
   "name": "python3"
  },
  "language_info": {
   "codemirror_mode": {
    "name": "ipython",
    "version": 3
   },
   "file_extension": ".py",
   "mimetype": "text/x-python",
   "name": "python",
   "nbconvert_exporter": "python",
   "pygments_lexer": "ipython3",
   "version": "3.8.8"
  }
 },
 "nbformat": 4,
 "nbformat_minor": 5
}
