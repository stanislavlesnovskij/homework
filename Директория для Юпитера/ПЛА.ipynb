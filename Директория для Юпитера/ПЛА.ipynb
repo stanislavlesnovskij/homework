{
 "cells": [
  {
   "cell_type": "code",
   "execution_count": 32,
   "id": "6ec6c451",
   "metadata": {},
   "outputs": [],
   "source": [
    "import numpy as np\n",
    "A=np.diag([1,-1,-1])"
   ]
  },
  {
   "cell_type": "code",
   "execution_count": 33,
   "id": "7b288d41",
   "metadata": {
    "scrolled": true
   },
   "outputs": [
    {
     "name": "stdout",
     "output_type": "stream",
     "text": [
      "[[ 1  0  0]\n",
      " [ 0 -1  0]\n",
      " [ 0  0 -1]]\n"
     ]
    },
    {
     "data": {
      "text/plain": [
       "array([[1, 0, 0],\n",
       "       [0, 1, 0],\n",
       "       [0, 0, 1]])"
      ]
     },
     "execution_count": 33,
     "metadata": {},
     "output_type": "execute_result"
    }
   ],
   "source": [
    "T = A.transpose()\n",
    "print(T)\n",
    "E=A.dot(T)\n",
    "E"
   ]
  },
  {
   "cell_type": "code",
   "execution_count": 126,
   "id": "7ef54897",
   "metadata": {},
   "outputs": [],
   "source": [
    "C=np.triu([[1,0,0],[6,-1,0],[3,6,-1]],0)"
   ]
  },
  {
   "cell_type": "code",
   "execution_count": 127,
   "id": "b967c438",
   "metadata": {
    "scrolled": true
   },
   "outputs": [
    {
     "data": {
      "text/plain": [
       "array([[1, 0, 0],\n",
       "       [0, 1, 0],\n",
       "       [0, 0, 1]])"
      ]
     },
     "execution_count": 127,
     "metadata": {},
     "output_type": "execute_result"
    }
   ],
   "source": [
    "B = C.transpose()\n",
    "C.dot(B)"
   ]
  },
  {
   "cell_type": "code",
   "execution_count": 130,
   "id": "334b9512",
   "metadata": {},
   "outputs": [
    {
     "data": {
      "text/plain": [
       "array([[-1,  0,  0],\n",
       "       [ 0,  1,  0],\n",
       "       [ 0,  0, -1]])"
      ]
     },
     "execution_count": 130,
     "metadata": {},
     "output_type": "execute_result"
    }
   ],
   "source": [
    "F=np.tril([[-1,4,9],[0,1,5],[0,0,-1]],0)\n",
    "F"
   ]
  },
  {
   "cell_type": "code",
   "execution_count": 131,
   "id": "5d0f05ed",
   "metadata": {},
   "outputs": [
    {
     "data": {
      "text/plain": [
       "array([[1, 0, 0],\n",
       "       [0, 1, 0],\n",
       "       [0, 0, 1]])"
      ]
     },
     "execution_count": 131,
     "metadata": {},
     "output_type": "execute_result"
    }
   ],
   "source": [
    "D = F.transpose()\n",
    "F.dot(D)"
   ]
  },
  {
   "cell_type": "code",
   "execution_count": 132,
   "id": "b1063054",
   "metadata": {},
   "outputs": [],
   "source": [
    "H=np.array([[-1/3,2/3,2/3],[2/3,-1/3,2/3],[2/3,2/3,-1/3]])"
   ]
  },
  {
   "cell_type": "code",
   "execution_count": 133,
   "id": "434e0b01",
   "metadata": {},
   "outputs": [
    {
     "data": {
      "text/plain": [
       "1.0"
      ]
     },
     "execution_count": 133,
     "metadata": {},
     "output_type": "execute_result"
    }
   ],
   "source": [
    "np.linalg.det(H)"
   ]
  },
  {
   "cell_type": "code",
   "execution_count": 134,
   "id": "91fd68a7",
   "metadata": {},
   "outputs": [],
   "source": [
    "m = np.array([[2, 2],\n",
    "              [1, 3]])"
   ]
  },
  {
   "cell_type": "code",
   "execution_count": 135,
   "id": "50aec094",
   "metadata": {},
   "outputs": [],
   "source": [
    "x,z=np.linalg.eig(m)"
   ]
  },
  {
   "cell_type": "code",
   "execution_count": 136,
   "id": "6815688e",
   "metadata": {},
   "outputs": [
    {
     "name": "stdout",
     "output_type": "stream",
     "text": [
      "Собственное значение 1.0\n",
      "соответствующий ему собственный вектор [-0.89442719  0.4472136 ]\n",
      "Собственное значение 4.0\n",
      "соответствующий ему собственный вектор [-0.70710678 -0.70710678]\n"
     ]
    }
   ],
   "source": [
    "for i in range(len(x)):\n",
    "    print(\"Собственное значение \" + str(x[i]))\n",
    "    print(\"соответствующий ему собственный вектор \" + str(z[:,i]))"
   ]
  }
 ],
 "metadata": {
  "kernelspec": {
   "display_name": "Python 3",
   "language": "python",
   "name": "python3"
  },
  "language_info": {
   "codemirror_mode": {
    "name": "ipython",
    "version": 3
   },
   "file_extension": ".py",
   "mimetype": "text/x-python",
   "name": "python",
   "nbconvert_exporter": "python",
   "pygments_lexer": "ipython3",
   "version": "3.8.8"
  }
 },
 "nbformat": 4,
 "nbformat_minor": 5
}
