{
 "cells": [
  {
   "cell_type": "code",
   "execution_count": 1,
   "id": "0c6c0d49",
   "metadata": {},
   "outputs": [],
   "source": [
    "import numpy as np\n",
    "from scipy.misc import derivative\n",
    "from sympy import *\n"
   ]
  },
  {
   "cell_type": "code",
   "execution_count": 2,
   "id": "2edaaf54",
   "metadata": {},
   "outputs": [],
   "source": [
    "x=Symbol('x')\n",
    "x=3"
   ]
  },
  {
   "cell_type": "code",
   "execution_count": 3,
   "id": "3057e1d3",
   "metadata": {},
   "outputs": [],
   "source": [
    "def f(x):\n",
    "    return x**5+4*np.sin(2*x)+np.cos(3*x+3)"
   ]
  },
  {
   "cell_type": "code",
   "execution_count": 4,
   "id": "a5a72e93",
   "metadata": {},
   "outputs": [],
   "source": [
    "f1=derivative(f,1.0)"
   ]
  },
  {
   "cell_type": "code",
   "execution_count": 5,
   "id": "ae2adf62",
   "metadata": {},
   "outputs": [
    {
     "data": {
      "text/plain": [
       "14.525826126742029"
      ]
     },
     "execution_count": 5,
     "metadata": {},
     "output_type": "execute_result"
    }
   ],
   "source": [
    "f1"
   ]
  },
  {
   "cell_type": "code",
   "execution_count": 6,
   "id": "a1673a88",
   "metadata": {},
   "outputs": [],
   "source": [
    "f2=derivative(f,1.0,dx=1e-6,n=2)"
   ]
  },
  {
   "cell_type": "code",
   "execution_count": 7,
   "id": "f0114582",
   "metadata": {},
   "outputs": [
    {
     "data": {
      "text/plain": [
       "-3.19033688356285"
      ]
     },
     "execution_count": 7,
     "metadata": {},
     "output_type": "execute_result"
    }
   ],
   "source": [
    "f2"
   ]
  },
  {
   "cell_type": "code",
   "execution_count": 11,
   "id": "7ffd99af",
   "metadata": {},
   "outputs": [],
   "source": [
    "import math\n",
    "w=Symbol('w')\n",
    "def y(w):\n",
    "    return (sin(2*w+1))**5"
   ]
  },
  {
   "cell_type": "code",
   "execution_count": 30,
   "id": "f426dd39",
   "metadata": {},
   "outputs": [],
   "source": [
    "f3=derivative(y,-5)"
   ]
  },
  {
   "cell_type": "code",
   "execution_count": 31,
   "id": "27d2526c",
   "metadata": {
    "scrolled": true
   },
   "outputs": [
    {
     "data": {
      "text/plain": [
       "'-0.561175677012920'"
      ]
     },
     "execution_count": 31,
     "metadata": {},
     "output_type": "execute_result"
    }
   ],
   "source": [
    "format(f3)"
   ]
  },
  {
   "cell_type": "code",
   "execution_count": 32,
   "id": "33f3a816",
   "metadata": {},
   "outputs": [],
   "source": [
    "f4=derivative(y,-5,n=2)"
   ]
  },
  {
   "cell_type": "code",
   "execution_count": 33,
   "id": "2489f12f",
   "metadata": {},
   "outputs": [
    {
     "data": {
      "text/plain": [
       "'0.901326805265554'"
      ]
     },
     "execution_count": 33,
     "metadata": {},
     "output_type": "execute_result"
    }
   ],
   "source": [
    "format(f4)"
   ]
  },
  {
   "cell_type": "code",
   "execution_count": 16,
   "id": "2b1d340a",
   "metadata": {},
   "outputs": [],
   "source": [
    "import matplotlib.pyplot as plt"
   ]
  },
  {
   "cell_type": "code",
   "execution_count": 42,
   "id": "423621c9",
   "metadata": {},
   "outputs": [
    {
     "data": {
      "text/plain": [
       "array([-5.        , -4.8989899 , -4.7979798 , -4.6969697 , -4.5959596 ,\n",
       "       -4.49494949, -4.39393939, -4.29292929, -4.19191919, -4.09090909,\n",
       "       -3.98989899, -3.88888889, -3.78787879, -3.68686869, -3.58585859,\n",
       "       -3.48484848, -3.38383838, -3.28282828, -3.18181818, -3.08080808,\n",
       "       -2.97979798, -2.87878788, -2.77777778, -2.67676768, -2.57575758,\n",
       "       -2.47474747, -2.37373737, -2.27272727, -2.17171717, -2.07070707,\n",
       "       -1.96969697, -1.86868687, -1.76767677, -1.66666667, -1.56565657,\n",
       "       -1.46464646, -1.36363636, -1.26262626, -1.16161616, -1.06060606,\n",
       "       -0.95959596, -0.85858586, -0.75757576, -0.65656566, -0.55555556,\n",
       "       -0.45454545, -0.35353535, -0.25252525, -0.15151515, -0.05050505,\n",
       "        0.05050505,  0.15151515,  0.25252525,  0.35353535,  0.45454545,\n",
       "        0.55555556,  0.65656566,  0.75757576,  0.85858586,  0.95959596,\n",
       "        1.06060606,  1.16161616,  1.26262626,  1.36363636,  1.46464646,\n",
       "        1.56565657,  1.66666667,  1.76767677,  1.86868687,  1.96969697,\n",
       "        2.07070707,  2.17171717,  2.27272727,  2.37373737,  2.47474747,\n",
       "        2.57575758,  2.67676768,  2.77777778,  2.87878788,  2.97979798,\n",
       "        3.08080808,  3.18181818,  3.28282828,  3.38383838,  3.48484848,\n",
       "        3.58585859,  3.68686869,  3.78787879,  3.88888889,  3.98989899,\n",
       "        4.09090909,  4.19191919,  4.29292929,  4.39393939,  4.49494949,\n",
       "        4.5959596 ,  4.6969697 ,  4.7979798 ,  4.8989899 ,  5.        ])"
      ]
     },
     "execution_count": 42,
     "metadata": {},
     "output_type": "execute_result"
    }
   ],
   "source": [
    "z=np.linspace(-5.0,5.0,100)\n",
    "z"
   ]
  },
  {
   "cell_type": "code",
   "execution_count": 44,
   "id": "b10e3ee7",
   "metadata": {},
   "outputs": [
    {
     "data": {
      "text/plain": [
       "[<matplotlib.lines.Line2D at 0x263fd27e7c0>]"
      ]
     },
     "execution_count": 44,
     "metadata": {},
     "output_type": "execute_result"
    },
    {
     "data": {
      "image/png": "[encoded data removed]",
      "text/plain": [
       "<Figure size 432x288 with 1 Axes>"
      ]
     },
     "metadata": {
      "needs_background": "light"
     },
     "output_type": "display_data"
    }
   ],
   "source": [
    "fig=plt.subplots()\n",
    "mas=[]\n",
    "elem=[]\n",
    "for el in z:\n",
    "    mas.append(derivative(y,el,n=2))\n",
    "    elem.append(el)\n",
    "plt.plot(elem,mas)"
   ]
  },
  {
   "cell_type": "code",
   "execution_count": 45,
   "id": "91e04937",
   "metadata": {},
   "outputs": [
    {
     "data": {
      "text/plain": [
       "[<matplotlib.lines.Line2D at 0x263fd15d0a0>]"
      ]
     },
     "execution_count": 45,
     "metadata": {},
     "output_type": "execute_result"
    },
    {
     "data": {
      "image/png": "[encoded data removed]",
      "text/plain": [
       "<Figure size 432x288 with 1 Axes>"
      ]
     },
     "metadata": {
      "needs_background": "light"
     },
     "output_type": "display_data"
    }
   ],
   "source": [
    "fig=plt.subplots()\n",
    "mas=[]\n",
    "elem=[]\n",
    "for el in z:\n",
    "    mas.append(derivative(y,el,n=1))\n",
    "    elem.append(el)\n",
    "plt.plot(elem,mas)"
   ]
  }
 ],
 "metadata": {
  "kernelspec": {
   "display_name": "Python 3",
   "language": "python",
   "name": "python3"
  },
  "language_info": {
   "codemirror_mode": {
    "name": "ipython",
    "version": 3
   },
   "file_extension": ".py",
   "mimetype": "text/x-python",
   "name": "python",
   "nbconvert_exporter": "python",
   "pygments_lexer": "ipython3",
   "version": "3.8.8"
  }
 },
 "nbformat": 4,
 "nbformat_minor": 5
}
