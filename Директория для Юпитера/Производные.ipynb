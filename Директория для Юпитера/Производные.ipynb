{
 "cells": [
  {
   "cell_type": "code",
   "execution_count": 25,
   "id": "0c6c0d49",
   "metadata": {},
   "outputs": [],
   "source": [
    "import numpy as np\n",
    "from scipy.misc import derivative\n",
    "from sympy import *\n"
   ]
  },
  {
   "cell_type": "code",
   "execution_count": 22,
   "id": "2edaaf54",
   "metadata": {},
   "outputs": [],
   "source": [
    "x=Symbol('x')\n",
    "x=3"
   ]
  },
  {
   "cell_type": "code",
   "execution_count": 27,
   "id": "3057e1d3",
   "metadata": {},
   "outputs": [],
   "source": [
    "def f(x):\n",
    "    return x**5+4*np.sin(2*x)+np.cos(3*x+3)"
   ]
  },
  {
   "cell_type": "code",
   "execution_count": 29,
   "id": "a5a72e93",
   "metadata": {},
   "outputs": [],
   "source": [
    "f1=derivative(f,1.0)"
   ]
  },
  {
   "cell_type": "code",
   "execution_count": 30,
   "id": "ae2adf62",
   "metadata": {},
   "outputs": [
    {
     "data": {
      "text/plain": [
       "14.525826126742029"
      ]
     },
     "execution_count": 30,
     "metadata": {},
     "output_type": "execute_result"
    }
   ],
   "source": [
    "f1"
   ]
  },
  {
   "cell_type": "code",
   "execution_count": 33,
   "id": "a1673a88",
   "metadata": {},
   "outputs": [],
   "source": [
    "f2=derivative(f,1.0,dx=1e-6,n=2)"
   ]
  },
  {
   "cell_type": "code",
   "execution_count": 34,
   "id": "f0114582",
   "metadata": {},
   "outputs": [
    {
     "data": {
      "text/plain": [
       "-3.19033688356285"
      ]
     },
     "execution_count": 34,
     "metadata": {},
     "output_type": "execute_result"
    }
   ],
   "source": [
    "f2"
   ]
  },
  {
   "cell_type": "code",
   "execution_count": 97,
   "id": "7ffd99af",
   "metadata": {},
   "outputs": [],
   "source": [
    "import math\n",
    "w=Symbol('w')\n",
    "y=(sin(2*w+1))**5"
   ]
  },
  {
   "cell_type": "code",
   "execution_count": 98,
   "id": "f426dd39",
   "metadata": {},
   "outputs": [],
   "source": [
    "f3=diff(y)"
   ]
  },
  {
   "cell_type": "code",
   "execution_count": 99,
   "id": "27d2526c",
   "metadata": {
    "scrolled": true
   },
   "outputs": [
    {
     "data": {
      "text/plain": [
       "'10*sin(2*w + 1)**4*cos(2*w + 1)'"
      ]
     },
     "execution_count": 99,
     "metadata": {},
     "output_type": "execute_result"
    }
   ],
   "source": [
    "format(f3)"
   ]
  },
  {
   "cell_type": "code",
   "execution_count": 101,
   "id": "33f3a816",
   "metadata": {},
   "outputs": [],
   "source": [
    "f4=diff(f3)"
   ]
  },
  {
   "cell_type": "code",
   "execution_count": 102,
   "id": "2489f12f",
   "metadata": {},
   "outputs": [
    {
     "data": {
      "text/plain": [
       "'-20*sin(2*w + 1)**5 + 80*sin(2*w + 1)**3*cos(2*w + 1)**2'"
      ]
     },
     "execution_count": 102,
     "metadata": {},
     "output_type": "execute_result"
    }
   ],
   "source": [
    "format(f4)"
   ]
  },
  {
   "cell_type": "code",
   "execution_count": 100,
   "id": "dbd9a883",
   "metadata": {},
   "outputs": [
    {
     "data": {
      "text/latex": [
       "$\\displaystyle 10.0 \\sin^{4}{\\left(2 w + 1 \\right)} \\cos{\\left(2 w + 1 \\right)}$"
      ],
      "text/plain": [
       "10.0*sin(2*w + 1)**4*cos(2*w + 1)"
      ]
     },
     "execution_count": 100,
     "metadata": {},
     "output_type": "execute_result"
    }
   ],
   "source": [
    "ed=f3.evalf()\n",
    "ed"
   ]
  },
  {
   "cell_type": "code",
   "execution_count": 39,
   "id": "2b1d340a",
   "metadata": {},
   "outputs": [],
   "source": [
    "import matplotlib.pyplot as plt"
   ]
  },
  {
   "cell_type": "code",
   "execution_count": 40,
   "id": "423621c9",
   "metadata": {},
   "outputs": [],
   "source": [
    "z=np.linspace(-5,5,100)"
   ]
  },
  {
   "cell_type": "code",
   "execution_count": 103,
   "id": "b10e3ee7",
   "metadata": {},
   "outputs": [
    {
     "ename": "TypeError",
     "evalue": "'Mul' object is not callable",
     "output_type": "error",
     "traceback": [
      "\u001b[1;31m---------------------------------------------------------------------------\u001b[0m",
      "\u001b[1;31mTypeError\u001b[0m                                 Traceback (most recent call last)",
      "\u001b[1;32m<ipython-input-103-87dec97a9550>\u001b[0m in \u001b[0;36m<module>\u001b[1;34m\u001b[0m\n\u001b[0;32m      1\u001b[0m \u001b[0mfig\u001b[0m\u001b[1;33m=\u001b[0m\u001b[0mplt\u001b[0m\u001b[1;33m.\u001b[0m\u001b[0msubplots\u001b[0m\u001b[1;33m(\u001b[0m\u001b[1;33m)\u001b[0m\u001b[1;33m\u001b[0m\u001b[1;33m\u001b[0m\u001b[0m\n\u001b[1;32m----> 2\u001b[1;33m \u001b[0mplt\u001b[0m\u001b[1;33m.\u001b[0m\u001b[0mplot\u001b[0m\u001b[1;33m(\u001b[0m\u001b[0mz\u001b[0m\u001b[1;33m,\u001b[0m\u001b[0mf3\u001b[0m\u001b[1;33m(\u001b[0m\u001b[0mz\u001b[0m\u001b[1;33m)\u001b[0m\u001b[1;33m)\u001b[0m\u001b[1;33m\u001b[0m\u001b[1;33m\u001b[0m\u001b[0m\n\u001b[0m",
      "\u001b[1;31mTypeError\u001b[0m: 'Mul' object is not callable"
     ]
    },
    {
     "data": {
      "image/png": "[encoded data removed]",
      "text/plain": [
       "<Figure size 432x288 with 1 Axes>"
      ]
     },
     "metadata": {
      "needs_background": "light"
     },
     "output_type": "display_data"
    }
   ],
   "source": [
    "fig=plt.subplots()\n",
    "plt.plot(z,f3(z))"
   ]
  }
 ],
 "metadata": {
  "kernelspec": {
   "display_name": "Python 3",
   "language": "python",
   "name": "python3"
  },
  "language_info": {
   "codemirror_mode": {
    "name": "ipython",
    "version": 3
   },
   "file_extension": ".py",
   "mimetype": "text/x-python",
   "name": "python",
   "nbconvert_exporter": "python",
   "pygments_lexer": "ipython3",
   "version": "3.8.8"
  }
 },
 "nbformat": 4,
 "nbformat_minor": 5
}
