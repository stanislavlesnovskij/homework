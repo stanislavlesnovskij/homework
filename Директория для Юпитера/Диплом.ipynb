{
 "cells": [
  {
   "cell_type": "code",
   "execution_count": 58,
   "id": "89ab1666",
   "metadata": {},
   "outputs": [],
   "source": [
    "\n",
    "import matplotlib.pyplot as plt\n",
    "import numpy as np\n",
    "\n",
    "from scipy.optimize import minimize\n"
   ]
  },
  {
   "cell_type": "code",
   "execution_count": 59,
   "id": "8e7787fb",
   "metadata": {},
   "outputs": [],
   "source": [
    "raitings = np.array([[ 4,  4,  9,  4,  1,  6, 10,  7,  9,  6,  9,  2,  8,  6,  6],\n",
    "                     [ 9,  2,  5, 10,  7,  8, 10,  5,  6,  2,  1,  6,  8,  9,  7],\n",
    "                     [ 1,  6,  8,  8,  4,  9,  3,  8, 10,  5,  2,  6,  8,  1,  6],\n",
    "                     [ 6,  1,  9,  7,  7,  9,  2,  3,  5,  1,  6,  6,  3,  2,  7],\n",
    "                     [ 3,  7,  3,  5,  7,  9,  9,  6,  2,  9,  1,  2,  8, 10,  6],\n",
    "                     [ 8,  3,  7,  3,  8,  6,  1,  8,  8,  6,  1,  9,  4, 10,  1],\n",
    "                     [ 9,  8,  4,  8,  8, 10,  6,  1,  1,  2,  9,  5,  2,  7,  2],\n",
    "                     [ 4,  1,  6,  4,  3, 10,  4,  4,  2,  8,  7,  9,  3,  8,  3],\n",
    "                     [ 5, 10,  8,  8,  9,  7,  2,  9,  9, 10,  8,  8,  8,  6, 10],\n",
    "                     [ 2,  7,  7,  6, 10,  6,  8,  9,  8,  6, 10,  1,  7, 10,  4]\n",
    "                     ])"
   ]
  },
  {
   "cell_type": "code",
   "execution_count": 60,
   "id": "9fd31c4a",
   "metadata": {},
   "outputs": [
    {
     "name": "stdout",
     "output_type": "stream",
     "text": [
      "Наибольшее сходство у 1 пользователя с 9 пользователем\n",
      "Наибольшее сходство у 2 пользователя с 4 пользователем\n",
      "Наибольшее сходство у 3 пользователя с 8 пользователем\n",
      "Наибольшее сходство у 4 пользователя с 8 пользователем\n",
      "Наибольшее сходство у 5 пользователя с 9 пользователем\n",
      "Наибольшее сходство у 6 пользователя с 8 пользователем\n",
      "Наибольшее сходство у 7 пользователя с 4 пользователем\n",
      "Наибольшее сходство у 8 пользователя с 6 пользователем\n",
      "Наибольшее сходство у 9 пользователя с 3 пользователем\n",
      "Наибольшее сходство у 10 пользователя с 1 пользователем\n"
     ]
    }
   ],
   "source": [
    "check=0\n",
    "for el in raitings:\n",
    "    result = 0\n",
    "    rait=np.delete(raitings,(check), axis = 0)\n",
    "    elrait=1\n",
    "    for element in rait:\n",
    "        a=np.linalg.norm(el)\n",
    "        b=np.linalg.norm(element)\n",
    "        cos = np.dot(el,element)/(a*b)\n",
    "        if cos>result:\n",
    "            result=cos\n",
    "            elr=elrait\n",
    "        elrait+=1\n",
    "    check+=1\n",
    "    print('Наибольшее сходство у '+str(check)+' пользователя с '+str(elr)+' пользователем')"
   ]
  },
  {
   "cell_type": "code",
   "execution_count": 61,
   "id": "a8fc49f6",
   "metadata": {},
   "outputs": [
    {
     "name": "stdout",
     "output_type": "stream",
     "text": [
      "[[5.666666666666667, 3.6666666666666665, 8.666666666666666, 5.666666666666667, 6.666666666666667], [5.333333333333333, 8.333333333333334, 7.0, 3.0, 8.0], [5.0, 7.0, 7.0, 4.333333333333333, 5.0], [5.333333333333333, 7.666666666666667, 3.3333333333333335, 4.333333333333333, 4.0], [4.333333333333333, 7.0, 5.666666666666667, 4.0, 8.0], [6.0, 5.666666666666667, 5.666666666666667, 5.333333333333333, 5.0], [7.0, 8.666666666666666, 2.6666666666666665, 5.333333333333333, 3.6666666666666665], [3.6666666666666665, 5.666666666666667, 3.3333333333333335, 8.0, 4.666666666666667], [7.666666666666667, 8.0, 6.666666666666667, 8.666666666666666, 8.0], [5.333333333333333, 7.333333333333333, 8.333333333333334, 5.666666666666667, 7.0]]\n"
     ]
    }
   ],
   "source": [
    "#Как вариант можно взять средние значения по тройкам фильмов\n",
    "check=1\n",
    "sum_=0\n",
    "new=[]\n",
    "\n",
    "for elem in raitings:\n",
    "    newprom=[]\n",
    "    for el in elem:\n",
    "        if check==3:\n",
    "            sum_+=el\n",
    "            sr=sum_/check\n",
    "            newprom.append(sr)\n",
    "            sum_=0\n",
    "            check=1\n",
    "        else:\n",
    "            check+=1\n",
    "            sum_+=el\n",
    "    new.append(newprom)\n",
    "print(new)\n",
    "        \n",
    "        "
   ]
  },
  {
   "cell_type": "code",
   "execution_count": 5,
   "id": "053bac1c",
   "metadata": {},
   "outputs": [],
   "source": [
    "New=[]\n",
    "for element in raitings:\n",
    "    NewMatr=[]\n",
    "    for elem in raitings:\n",
    "        new=np.dot(element,elem)\n",
    "        NewMatr.append(new)\n",
    "    New.append(NewMatr)"
   ]
  },
  {
   "cell_type": "code",
   "execution_count": 6,
   "id": "aecf2be6",
   "metadata": {
    "scrolled": true
   },
   "outputs": [
    {
     "data": {
      "text/plain": [
       "array([[653, 566, 532, 434, 525, 462, 453, 458, 687, 652],\n",
       "       [566, 719, 534, 492, 586, 541, 540, 475, 687, 620],\n",
       "       [532, 534, 601, 450, 482, 473, 404, 414, 704, 564],\n",
       "       [434, 492, 450, 470, 376, 416, 440, 398, 582, 472],\n",
       "       [525, 586, 482, 376, 629, 475, 478, 451, 663, 618],\n",
       "       [462, 541, 473, 416, 475, 595, 440, 456, 652, 551],\n",
       "       [453, 540, 404, 440, 478, 440, 594, 446, 603, 554],\n",
       "       [458, 475, 414, 398, 451, 456, 446, 490, 579, 495],\n",
       "       [687, 687, 704, 582, 663, 652, 603, 579, 977, 789],\n",
       "       [652, 620, 564, 472, 618, 551, 554, 495, 789, 785]])"
      ]
     },
     "execution_count": 6,
     "metadata": {},
     "output_type": "execute_result"
    }
   ],
   "source": [
    "New\n",
    "N=np.array(New)\n",
    "N"
   ]
  },
  {
   "cell_type": "code",
   "execution_count": 62,
   "id": "cdf628cc",
   "metadata": {},
   "outputs": [],
   "source": [
    "x,z=np.linalg.eig(New)"
   ]
  },
  {
   "cell_type": "code",
   "execution_count": 8,
   "id": "83d38cf8",
   "metadata": {},
   "outputs": [
    {
     "data": {
      "text/plain": [
       "array([0.31657412, 0.33479455, 0.30113006, 0.26258518, 0.30839361,\n",
       "       0.29426772, 0.28703131, 0.27000611, 0.404712  , 0.35676459])"
      ]
     },
     "execution_count": 8,
     "metadata": {},
     "output_type": "execute_result"
    }
   ],
   "source": [
    "v=z[:,0]\n",
    "v"
   ]
  },
  {
   "cell_type": "code",
   "execution_count": 9,
   "id": "c57fd958",
   "metadata": {},
   "outputs": [],
   "source": [
    "raiting=np.dot(v,raitings)"
   ]
  },
  {
   "cell_type": "code",
   "execution_count": 10,
   "id": "4f6a9a5b",
   "metadata": {},
   "outputs": [
    {
     "data": {
      "text/plain": [
       "array([15.83580642, 16.15753819, 20.7837117 , 20.04070829, 20.5319721 ,\n",
       "       24.73633267, 17.47781039, 19.51163601, 19.47665803, 17.80023704,\n",
       "       17.24306049, 16.74907567, 19.17109414, 21.93069519, 16.89077179])"
      ]
     },
     "execution_count": 10,
     "metadata": {},
     "output_type": "execute_result"
    }
   ],
   "source": [
    "#в целом вроде правильно РСА сделал, но получается только 3 вектора вместо 10\n",
    "raiting"
   ]
  },
  {
   "cell_type": "code",
   "execution_count": 15,
   "id": "2f83ad36",
   "metadata": {},
   "outputs": [],
   "source": [
    "from sklearn.decomposition import PCA\n",
    "pca = PCA(n_components = 5)\n",
    "XPCAreduced = pca.fit_transform(transpose(raitings))"
   ]
  },
  {
   "cell_type": "code",
   "execution_count": 16,
   "id": "0259c52b",
   "metadata": {},
   "outputs": [
    {
     "data": {
      "text/plain": [
       "array([[ 7.20018322, -2.21180271,  0.62444472, -0.68347876,  2.32300969],\n",
       "       [-2.15883915,  2.48811388,  2.50312108,  3.73949799,  5.59098759],\n",
       "       [-2.19706704, -4.13054722,  1.20535636, -0.9375591 , -4.19604751],\n",
       "       [ 2.17120509, -1.57353038,  1.91195496, -4.16844687,  2.21098853],\n",
       "       [ 3.5042386 , -0.36007999, -1.29284485,  1.93382512,  3.06739434],\n",
       "       [ 4.86816992, -1.68851078, -0.69183061, -2.33352131, -3.70024801],\n",
       "       [ 1.36948218,  8.72739624,  1.45070841, -4.63509801, -1.14431162],\n",
       "       [-5.39902839, -0.07301145, -3.41103106,  1.08503176, -0.70827974],\n",
       "       [-6.79639997, -3.30287883, -1.0574357 , -1.65054982, -1.31930163],\n",
       "       [-3.40627067,  1.72778736, -3.15588866,  5.01530221, -0.24360856],\n",
       "       [ 0.19121604,  1.25414218,  9.08646082,  4.81528688, -3.61505649],\n",
       "       [ 3.19399673, -7.51517242, -2.06544701,  1.76874451,  0.42454085],\n",
       "       [-4.32784434,  2.39265736, -1.77898224, -3.22047502,  0.80977053],\n",
       "       [ 4.94145693,  5.40830066, -5.48126229,  2.44981758, -2.35260856],\n",
       "       [-3.15449915, -1.14286391,  2.15267607, -3.17837717,  2.85277057]])"
      ]
     },
     "execution_count": 16,
     "metadata": {},
     "output_type": "execute_result"
    }
   ],
   "source": [
    "XPCAreduced"
   ]
  },
  {
   "cell_type": "code",
   "execution_count": 14,
   "id": "ec0565b1",
   "metadata": {},
   "outputs": [],
   "source": [
    "from scipy.misc import derivative\n",
    "from sympy import *"
   ]
  },
  {
   "cell_type": "code",
   "execution_count": 17,
   "id": "43a56644",
   "metadata": {},
   "outputs": [],
   "source": [
    "def f(x):\n",
    "    return pow(tan(sin(x)+cos(2*x+3)),2)"
   ]
  },
  {
   "cell_type": "code",
   "execution_count": 18,
   "id": "a6f10ecb",
   "metadata": {},
   "outputs": [],
   "source": [
    "x=Symbol('x')\n",
    "x=1"
   ]
  },
  {
   "cell_type": "code",
   "execution_count": 19,
   "id": "b66ab8f5",
   "metadata": {},
   "outputs": [
    {
     "data": {
      "text/latex": [
       "$\\displaystyle 57.065312694603$"
      ],
      "text/plain": [
       "57.0653126946030"
      ]
     },
     "execution_count": 19,
     "metadata": {},
     "output_type": "execute_result"
    }
   ],
   "source": [
    "f1=derivative(f,1.0)\n",
    "f1"
   ]
  },
  {
   "cell_type": "code",
   "execution_count": 20,
   "id": "280d769c",
   "metadata": {},
   "outputs": [
    {
     "ename": "SyntaxError",
     "evalue": "invalid syntax (<ipython-input-20-528e329f5ddf>, line 2)",
     "output_type": "error",
     "traceback": [
      "\u001b[1;36m  File \u001b[1;32m\"<ipython-input-20-528e329f5ddf>\"\u001b[1;36m, line \u001b[1;32m2\u001b[0m\n\u001b[1;33m    2tg(cos(2x+3)+sin(x))*(tg(cos(2x+3)+sin(x))'\u001b[0m\n\u001b[1;37m     ^\u001b[0m\n\u001b[1;31mSyntaxError\u001b[0m\u001b[1;31m:\u001b[0m invalid syntax\n"
     ]
    }
   ],
   "source": [
    "#Производная на бумаге\n",
    "2tg(cos(2x+3)+sin(x))*(tg(cos(2x+3)+sin(x))'\n",
    "(2tg(cos(2x+3)+sin(x)))/(pow(cos(cos(2x+3)+sin(x)),2))*(cos(2x+3)+sin(x))'\n",
    "proizv=(2(cos(x)-2sin(2x+3))*tg(cos(2x+3)+sin(x)))/pow(cos(cos(2x+3)+sin(x)),2)                       "
   ]
  },
  {
   "cell_type": "code",
   "execution_count": 21,
   "id": "2b760bfc",
   "metadata": {},
   "outputs": [],
   "source": [
    "def z(x):\n",
    "    return (2*(cos(x)-2*sin(2*x+3))*tan(cos(2*x+3)+sin(x)))/pow(cos(cos(2*x+3)+sin(x)),2) "
   ]
  },
  {
   "cell_type": "code",
   "execution_count": 22,
   "id": "7b7ecb01",
   "metadata": {},
   "outputs": [
    {
     "data": {
      "text/latex": [
       "$\\displaystyle 55.3859176353379$"
      ],
      "text/plain": [
       "55.3859176353379"
      ]
     },
     "execution_count": 22,
     "metadata": {},
     "output_type": "execute_result"
    }
   ],
   "source": [
    "func=derivative(z,1.0,n=0)\n",
    "func"
   ]
  },
  {
   "cell_type": "code",
   "execution_count": 23,
   "id": "01fdef48",
   "metadata": {},
   "outputs": [],
   "source": [
    "def f(x, a, b):\n",
    "    return np.e**a * np.sin(b*x) + x"
   ]
  },
  {
   "cell_type": "code",
   "execution_count": 68,
   "id": "60b28f55",
   "metadata": {},
   "outputs": [],
   "source": [
    "x = np.array([0.        , 0.26315789, 0.52631579, 0.78947368, 1.05263158,\n",
    "              1.31578947, 1.57894737, 1.84210526, 2.10526316, 2.36842105,\n",
    "              2.63157895, 2.89473684, 3.15789474, 3.42105263, 3.68421053,\n",
    "              3.94736842, 4.21052632, 4.47368421, 4.73684211, 5.        ])"
   ]
  },
  {
   "cell_type": "code",
   "execution_count": 69,
   "id": "ef9326b3",
   "metadata": {},
   "outputs": [],
   "source": [
    "fx = np.array([  0.        , -12.01819092, -18.90968634, -17.68786571,\n",
    "                -8.7529108 ,   4.27524517,  16.06801336,  21.81250213,\n",
    "                19.22059845,   9.48411207,  -3.22273056, -13.48576488,\n",
    "               -16.91096359, -11.95866834,  -0.58630088,  12.56873816,\n",
    "                22.12489421,  24.20292139,  18.04522521,   6.33211092])"
   ]
  },
  {
   "cell_type": "code",
   "execution_count": 79,
   "id": "623122ce",
   "metadata": {},
   "outputs": [],
   "source": [
    "u=f(x, 3.       , 69.1283125)\n"
   ]
  },
  {
   "cell_type": "code",
   "execution_count": 81,
   "id": "ebd684cc",
   "metadata": {},
   "outputs": [
    {
     "data": {
      "image/png": "[encoded data removed]",
      "text/plain": [
       "<Figure size 432x288 with 1 Axes>"
      ]
     },
     "metadata": {
      "needs_background": "light"
     },
     "output_type": "display_data"
    }
   ],
   "source": [
    "plt.plot(x, fx)\n",
    "plt.plot(x,u)\n",
    "#Я так понимаю произошло идеальное наложение\n",
    "plt.show()"
   ]
  },
  {
   "cell_type": "code",
   "execution_count": 27,
   "id": "c7f8f13d",
   "metadata": {},
   "outputs": [],
   "source": [
    "def error(params):\n",
    "    return np.sum(np.abs(fx - f(x, params[0], params[1])))"
   ]
  },
  {
   "cell_type": "code",
   "execution_count": 71,
   "id": "d33597b9",
   "metadata": {},
   "outputs": [],
   "source": [
    "?minimize"
   ]
  },
  {
   "cell_type": "code",
   "execution_count": 67,
   "id": "33ad2115",
   "metadata": {},
   "outputs": [],
   "source": [
    "params=[a,b]"
   ]
  },
  {
   "cell_type": "code",
   "execution_count": 70,
   "id": "de97f974",
   "metadata": {
    "scrolled": true
   },
   "outputs": [
    {
     "name": "stdout",
     "output_type": "stream",
     "text": [
      "Optimization terminated successfully.\n",
      "         Current function value: 244.509548\n",
      "         Iterations: 2\n",
      "         Function evaluations: 170\n"
     ]
    }
   ],
   "source": [
    "res = minimize(error, params, method='Powell', options={'xtol': 1e-8, 'disp': True})"
   ]
  },
  {
   "cell_type": "code",
   "execution_count": 76,
   "id": "6f07d802",
   "metadata": {},
   "outputs": [
    {
     "name": "stdout",
     "output_type": "stream",
     "text": [
      "Optimization terminated successfully.\n",
      "         Current function value: 244.509548\n",
      "         Iterations: 3\n",
      "         Function evaluations: 12\n",
      "         Gradient evaluations: 4\n"
     ]
    },
    {
     "name": "stderr",
     "output_type": "stream",
     "text": [
      "<ipython-input-76-644c4b7d16a9>:1: OptimizeWarning: Unknown solver options: xtol\n",
      "  res = minimize(error, params, method='CG', options={'xtol': 1e-8, 'disp': True})\n"
     ]
    }
   ],
   "source": [
    "res = minimize(error, params, method='CG', options={'xtol': 1e-8, 'disp': True})"
   ]
  },
  {
   "cell_type": "raw",
   "id": "b6d715e3",
   "metadata": {},
   "source": [
    "res = minimize(error, params, method='Nelder-Mead', options={'xtol': 1e-8, 'disp': True})"
   ]
  },
  {
   "cell_type": "code",
   "execution_count": 78,
   "id": "08ab3e7d",
   "metadata": {},
   "outputs": [
    {
     "data": {
      "text/plain": [
       "array([ 3.       , 69.1283125])"
      ]
     },
     "execution_count": 78,
     "metadata": {},
     "output_type": "execute_result"
    }
   ],
   "source": [
    "res.x"
   ]
  },
  {
   "cell_type": "code",
   "execution_count": 47,
   "id": "a2713d9a",
   "metadata": {},
   "outputs": [],
   "source": [
    "#Параметры а и в равны 3.       , 69.1283125 соответственно"
   ]
  },
  {
   "cell_type": "code",
   "execution_count": 24,
   "id": "2b3a2d13",
   "metadata": {},
   "outputs": [
    {
     "data": {
      "text/plain": [
       "1000"
      ]
     },
     "execution_count": 24,
     "metadata": {},
     "output_type": "execute_result"
    }
   ],
   "source": [
    "len(Sum)"
   ]
  },
  {
   "cell_type": "code",
   "execution_count": 29,
   "id": "c57edc70",
   "metadata": {},
   "outputs": [
    {
     "data": {
      "image/png": "[encoded data removed]",
      "text/plain": [
       "<Figure size 432x288 with 1 Axes>"
      ]
     },
     "metadata": {
      "needs_background": "light"
     },
     "output_type": "display_data"
    }
   ],
   "source": [
    "i=1\n",
    "Summary=[]\n",
    "for i in range(1000):\n",
    "    Mas=[]\n",
    "   \n",
    "    for a in range(50):\n",
    "        S=randint(0,20)\n",
    "        Mas.append(S)\n",
    "    Sr=sum(Mas)/len(Mas)\n",
    "    Summary.append(Sr)\n",
    "Sum=np.array(Summary)\n",
    "plt.hist(Sum,bins=50)\n",
    "plt.grid(True)\n",
    "plt.show()\n",
    "#В целом наблюдается нормальное распределение"
   ]
  },
  {
   "cell_type": "code",
   "execution_count": 18,
   "id": "ba77a2c4",
   "metadata": {},
   "outputs": [],
   "source": [
    "from math import *\n",
    "from numpy.random import randint"
   ]
  },
  {
   "cell_type": "code",
   "execution_count": 61,
   "id": "876731ec",
   "metadata": {
    "scrolled": true
   },
   "outputs": [
    {
     "name": "stdout",
     "output_type": "stream",
     "text": [
      "[[1 4]\n",
      " [1 1]]\n"
     ]
    }
   ],
   "source": [
    "m = np.array([[1, 4],\n",
    "              [1, 1]])\n",
    "print(m)"
   ]
  },
  {
   "cell_type": "code",
   "execution_count": 63,
   "id": "54fe2c67",
   "metadata": {},
   "outputs": [
    {
     "data": {
      "text/plain": [
       "array([[1, 4],\n",
       "       [1, 1]])"
      ]
     },
     "execution_count": 63,
     "metadata": {},
     "output_type": "execute_result"
    }
   ],
   "source": [
    "m"
   ]
  },
  {
   "cell_type": "code",
   "execution_count": 32,
   "id": "a7de83ab",
   "metadata": {},
   "outputs": [],
   "source": [
    "x,z=np.linalg.eig(m)"
   ]
  },
  {
   "cell_type": "code",
   "execution_count": 33,
   "id": "bd10ecba",
   "metadata": {},
   "outputs": [
    {
     "name": "stdout",
     "output_type": "stream",
     "text": [
      "Собственное значение 3.0000000000000004\n",
      "соответствующий ему собственный вектор [0.89442719 0.4472136 ]\n",
      "Собственное значение -0.9999999999999996\n",
      "соответствующий ему собственный вектор [-0.89442719  0.4472136 ]\n"
     ]
    }
   ],
   "source": [
    "for i in range(len(x)):\n",
    "    print(\"Собственное значение \" + str(x[i]))\n",
    "    print(\"соответствующий ему собственный вектор \" + str(z[:,i]))"
   ]
  },
  {
   "cell_type": "code",
   "execution_count": 66,
   "id": "71f73d1e",
   "metadata": {},
   "outputs": [
    {
     "ename": "SyntaxError",
     "evalue": "invalid syntax (<ipython-input-66-bef3ef079f0f>, line 3)",
     "output_type": "error",
     "traceback": [
      "\u001b[1;36m  File \u001b[1;32m\"<ipython-input-66-bef3ef079f0f>\"\u001b[1;36m, line \u001b[1;32m3\u001b[0m\n\u001b[1;33m    ([[x+4y],[x+y]])=)([[Lx],[Ly]])\u001b[0m\n\u001b[1;37m          ^\u001b[0m\n\u001b[1;31mSyntaxError\u001b[0m\u001b[1;31m:\u001b[0m invalid syntax\n"
     ]
    }
   ],
   "source": [
    "#Найдем на бумаге\n",
    "m*([[x],[y]])=L([[x],[y]])\n",
    "([[x+4y],[x+y]])=)([[Lx],[Ly]])\n",
    "x+4y-Lx=0, x+y-Ly=0\n",
    "(1-L)x+4y=0 , (1-L)+x=0\n",
    "(1-L)(1-L)-4=0\n",
    "1-2L+L*L-4=0\n",
    "L2-2L-3=0\n",
    "D=4+12=16\n",
    "L1=(2-4)/2=-1\n",
    "L2=(2+4)/2=3\n",
    "#Собственные значения (-1,3), при значении =3 получим:\n",
    "-2x+4y=0, x-2y=0 ==> x=-2y ==> СВ1=(1,-2)\n",
    "#При значении =-1:\n",
    "2х+4у=0, х+2у=0 ==> x=2y ==> CB2=(1,2)\n",
    "\n"
   ]
  }
 ],
 "metadata": {
  "kernelspec": {
   "display_name": "Python 3",
   "language": "python",
   "name": "python3"
  },
  "language_info": {
   "codemirror_mode": {
    "name": "ipython",
    "version": 3
   },
   "file_extension": ".py",
   "mimetype": "text/x-python",
   "name": "python",
   "nbconvert_exporter": "python",
   "pygments_lexer": "ipython3",
   "version": "3.8.8"
  }
 },
 "nbformat": 4,
 "nbformat_minor": 5
}
