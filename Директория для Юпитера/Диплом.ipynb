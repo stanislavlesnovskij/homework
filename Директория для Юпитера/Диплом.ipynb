{
 "cells": [
  {
   "cell_type": "code",
   "execution_count": 1,
   "id": "89ab1666",
   "metadata": {},
   "outputs": [],
   "source": [
    "\n",
    "import matplotlib.pyplot as plt\n",
    "import numpy as np\n",
    "\n",
    "from scipy.optimize import minimize\n",
    "%matplotlib inline"
   ]
  },
  {
   "cell_type": "code",
   "execution_count": 2,
   "id": "8e7787fb",
   "metadata": {},
   "outputs": [],
   "source": [
    "raitings = np.array([[ 4,  4,  9,  4,  1,  6, 10,  7,  9,  6,  9,  2,  8,  6,  6],\n",
    "                     [ 9,  2,  5, 10,  7,  8, 10,  5,  6,  2,  1,  6,  8,  9,  7],\n",
    "                     [ 1,  6,  8,  8,  4,  9,  3,  8, 10,  5,  2,  6,  8,  1,  6],\n",
    "                     [ 6,  1,  9,  7,  7,  9,  2,  3,  5,  1,  6,  6,  3,  2,  7],\n",
    "                     [ 3,  7,  3,  5,  7,  9,  9,  6,  2,  9,  1,  2,  8, 10,  6],\n",
    "                     [ 8,  3,  7,  3,  8,  6,  1,  8,  8,  6,  1,  9,  4, 10,  1],\n",
    "                     [ 9,  8,  4,  8,  8, 10,  6,  1,  1,  2,  9,  5,  2,  7,  2],\n",
    "                     [ 4,  1,  6,  4,  3, 10,  4,  4,  2,  8,  7,  9,  3,  8,  3],\n",
    "                     [ 5, 10,  8,  8,  9,  7,  2,  9,  9, 10,  8,  8,  8,  6, 10],\n",
    "                     [ 2,  7,  7,  6, 10,  6,  8,  9,  8,  6, 10,  1,  7, 10,  4]\n",
    "                     ])"
   ]
  },
  {
   "cell_type": "code",
   "execution_count": 3,
   "id": "9fd31c4a",
   "metadata": {},
   "outputs": [
    {
     "name": "stdout",
     "output_type": "stream",
     "text": [
      "Наибольшее сходство у 1 пользователя с 9 пользователем\n",
      "Наибольшее сходство у 2 пользователя с 4 пользователем\n",
      "Наибольшее сходство у 3 пользователя с 8 пользователем\n",
      "Наибольшее сходство у 4 пользователя с 8 пользователем\n",
      "Наибольшее сходство у 5 пользователя с 9 пользователем\n",
      "Наибольшее сходство у 6 пользователя с 8 пользователем\n",
      "Наибольшее сходство у 7 пользователя с 4 пользователем\n",
      "Наибольшее сходство у 8 пользователя с 6 пользователем\n",
      "Наибольшее сходство у 9 пользователя с 3 пользователем\n",
      "Наибольшее сходство у 10 пользователя с 1 пользователем\n"
     ]
    }
   ],
   "source": [
    "check=0\n",
    "for el in raitings:\n",
    "    result = 0\n",
    "    rait=np.delete(raitings,(check), axis = 0)\n",
    "    elrait=1\n",
    "    for element in rait:\n",
    "        a=np.linalg.norm(el)\n",
    "        b=np.linalg.norm(element)\n",
    "        cos = np.dot(el,element)/(a*b)\n",
    "        if cos>result:\n",
    "            result=cos\n",
    "            elr=elrait\n",
    "        elrait+=1\n",
    "    check+=1\n",
    "    print('Наибольшее сходство у '+str(check)+' пользователя с '+str(elr)+' пользователем')"
   ]
  },
  {
   "cell_type": "code",
   "execution_count": 4,
   "id": "a8fc49f6",
   "metadata": {},
   "outputs": [
    {
     "name": "stdout",
     "output_type": "stream",
     "text": [
      "[[5.666666666666667, 3.6666666666666665, 8.666666666666666, 5.666666666666667, 6.666666666666667], [5.333333333333333, 8.333333333333334, 7.0, 3.0, 8.0], [5.0, 7.0, 7.0, 4.333333333333333, 5.0], [5.333333333333333, 7.666666666666667, 3.3333333333333335, 4.333333333333333, 4.0], [4.333333333333333, 7.0, 5.666666666666667, 4.0, 8.0], [6.0, 5.666666666666667, 5.666666666666667, 5.333333333333333, 5.0], [7.0, 8.666666666666666, 2.6666666666666665, 5.333333333333333, 3.6666666666666665], [3.6666666666666665, 5.666666666666667, 3.3333333333333335, 8.0, 4.666666666666667], [7.666666666666667, 8.0, 6.666666666666667, 8.666666666666666, 8.0], [5.333333333333333, 7.333333333333333, 8.333333333333334, 5.666666666666667, 7.0]]\n"
     ]
    }
   ],
   "source": [
    "#Как вариант можно взять средние значения по тройкам фильмов\n",
    "check=1\n",
    "sum_=0\n",
    "new=[]\n",
    "\n",
    "for elem in raitings:\n",
    "    newprom=[]\n",
    "    for el in elem:\n",
    "        if check==3:\n",
    "            sum_+=el\n",
    "            sr=sum_/check\n",
    "            newprom.append(sr)\n",
    "            sum_=0\n",
    "            check=1\n",
    "        else:\n",
    "            check+=1\n",
    "            sum_+=el\n",
    "    new.append(newprom)\n",
    "print(new)\n",
    "        \n",
    "        "
   ]
  },
  {
   "cell_type": "code",
   "execution_count": 7,
   "id": "053bac1c",
   "metadata": {},
   "outputs": [],
   "source": [
    "New=[]\n",
    "for element in raitings:\n",
    "    NewMatr=[]\n",
    "    for elem in raitings:\n",
    "        new=np.dot(element,elem)\n",
    "        NewMatr.append(new)\n",
    "    New.append(NewMatr)"
   ]
  },
  {
   "cell_type": "code",
   "execution_count": 39,
   "id": "aecf2be6",
   "metadata": {
    "scrolled": true
   },
   "outputs": [
    {
     "data": {
      "text/plain": [
       "array([[653, 566, 532, 434, 525, 462, 453, 458, 687, 652],\n",
       "       [566, 719, 534, 492, 586, 541, 540, 475, 687, 620],\n",
       "       [532, 534, 601, 450, 482, 473, 404, 414, 704, 564],\n",
       "       [434, 492, 450, 470, 376, 416, 440, 398, 582, 472],\n",
       "       [525, 586, 482, 376, 629, 475, 478, 451, 663, 618],\n",
       "       [462, 541, 473, 416, 475, 595, 440, 456, 652, 551],\n",
       "       [453, 540, 404, 440, 478, 440, 594, 446, 603, 554],\n",
       "       [458, 475, 414, 398, 451, 456, 446, 490, 579, 495],\n",
       "       [687, 687, 704, 582, 663, 652, 603, 579, 977, 789],\n",
       "       [652, 620, 564, 472, 618, 551, 554, 495, 789, 785]])"
      ]
     },
     "execution_count": 39,
     "metadata": {},
     "output_type": "execute_result"
    }
   ],
   "source": [
    "New\n",
    "N=np.array(New)\n",
    "N"
   ]
  },
  {
   "cell_type": "code",
   "execution_count": 28,
   "id": "cdf628cc",
   "metadata": {},
   "outputs": [],
   "source": [
    "x,z=np.linalg.eig(New)"
   ]
  },
  {
   "cell_type": "code",
   "execution_count": 47,
   "id": "83d38cf8",
   "metadata": {},
   "outputs": [
    {
     "data": {
      "text/plain": [
       "array([[ 0.31657412,  0.33715914,  0.25954676, -0.32313099, -0.09207837,\n",
       "         0.58851124, -0.0453819 , -0.31028639,  0.35054985,  0.19565304],\n",
       "       [ 0.33479455, -0.28439058,  0.09199084,  0.12555894, -0.71806708,\n",
       "         0.01702233, -0.18150051,  0.41496931,  0.00678089,  0.24841336],\n",
       "       [ 0.30113006,  0.43803788, -0.32813535, -0.03784482, -0.28153805,\n",
       "        -0.17930093,  0.21107187,  0.12257634,  0.22482495, -0.62193521],\n",
       "       [ 0.26258518, -0.16639669, -0.46465087, -0.37843889, -0.16373246,\n",
       "         0.03086391, -0.0415363 , -0.42376451, -0.57777422,  0.03686694],\n",
       "       [ 0.30839361, -0.0323668 ,  0.52165829,  0.35126319, -0.10782477,\n",
       "        -0.26888265,  0.43290107, -0.4435919 , -0.19314843, -0.05408417],\n",
       "       [ 0.29426772, -0.12219603, -0.30949097,  0.66087703,  0.18528641,\n",
       "         0.2003944 , -0.42629516, -0.26921722,  0.1648537 , -0.1003013 ],\n",
       "       [ 0.28703131, -0.61511395,  0.07879957, -0.38595816,  0.21779322,\n",
       "        -0.2720764 , -0.04045301, -0.07597346,  0.4671331 , -0.19233716],\n",
       "       [ 0.27000611, -0.25159867, -0.11342148,  0.09141158,  0.29758717,\n",
       "         0.50991949,  0.56031884,  0.38781272, -0.15944584, -0.06495692],\n",
       "       [ 0.404712  ,  0.30314724, -0.23632528,  0.00438867,  0.30272672,\n",
       "        -0.41505855,  0.10646654,  0.1484126 ,  0.09874844,  0.61758506],\n",
       "       [ 0.35676459,  0.19061971,  0.39719574, -0.13300294,  0.31022014,\n",
       "        -0.03860692, -0.4718705 ,  0.29912013, -0.41812545, -0.27611297]])"
      ]
     },
     "execution_count": 47,
     "metadata": {},
     "output_type": "execute_result"
    }
   ],
   "source": [
    "z"
   ]
  },
  {
   "cell_type": "code",
   "execution_count": 52,
   "id": "c57fd958",
   "metadata": {},
   "outputs": [],
   "source": [
    "raiting=np.dot(z,raitings)"
   ]
  },
  {
   "cell_type": "code",
   "execution_count": 54,
   "id": "4f6a9a5b",
   "metadata": {},
   "outputs": [
    {
     "data": {
      "text/plain": [
       "array([[  7.5478171 ,   8.49747769,   9.67722572,   8.13160325,\n",
       "          9.3340643 ,   6.79790625,   7.18240388,  12.79371398,\n",
       "         14.43008611,   8.35708982,   4.44355404,   7.36760707,\n",
       "         11.10661236,  10.77135563,   6.85745108],\n",
       "       [ -1.83591138,  -2.7578339 ,   4.97906479,  -1.67655627,\n",
       "         -2.96128905,  -0.79624468,  -2.84270849,   1.63711365,\n",
       "          4.25132807,   0.18007209,   6.77471229,   2.11549284,\n",
       "         -1.48556447,  -2.6440169 ,  -0.89912   ],\n",
       "       [  4.58284184,  -2.72887571,  -1.14024825,   0.99517814,\n",
       "         -3.75485729,  -0.41374064,   0.84934517,  -4.43676831,\n",
       "         -2.62549593,  -2.68592076,   0.14095855,   2.1930327 ,\n",
       "         -1.55985596,  -1.6753821 ,   1.32117191],\n",
       "       [ -8.31082179,  -9.77806084, -12.93988127, -14.13431651,\n",
       "        -12.74396585, -17.10810499,  -5.43656255, -11.18665421,\n",
       "        -11.04846811, -11.77711354,  -8.72963638, -14.18832699,\n",
       "        -10.98791111,  -9.25111948, -12.96241463],\n",
       "       [  2.14480666,   3.79817563,   4.88896688,   6.01539174,\n",
       "          1.57472219,   5.08054941,   3.79253237,   0.85940741,\n",
       "          4.56223779,  -2.77745845,   4.22230122,  -0.40257147,\n",
       "          3.1083914 ,  -3.20198903,   3.6839603 ],\n",
       "       [  1.60223278,  -1.09835254,   4.76425135,  -0.13727114,\n",
       "          1.98988825,   0.41750096,  -0.12537274,   2.74827842,\n",
       "          3.81498002,   1.54498164,   0.85281406,   0.80189554,\n",
       "          2.12362421,   0.38321857,   4.5786301 ],\n",
       "       [ -6.86506099,   3.63843329,  -2.81361817,  -4.84606403,\n",
       "         -5.32805198,  -4.68382649,  -3.27932445,  -0.33486379,\n",
       "         -1.51712111,   3.65629455,   0.67353665,  -4.31397235,\n",
       "         -0.41622063,  -5.06131798,  -0.18468066],\n",
       "       [  9.88977928,   6.42178513,   8.38747851,   5.68273468,\n",
       "          8.41888388,  13.12241292,   7.28945401,   5.95573619,\n",
       "          4.29911273,   8.61788453,   9.14001219,   9.03419565,\n",
       "          4.48830845,  12.91860637,   2.54343043],\n",
       "       [  5.00565329,   7.99621556,   7.73923499,   8.99977742,\n",
       "          8.77233758,   9.94575047,  15.05850279,   8.11429427,\n",
       "          6.63767515,   8.18474654,  12.34983006,   1.38223301,\n",
       "         10.31827102,  12.50663872,   8.68036899],\n",
       "       [ -2.32958822,  -3.47569964,   1.43437573,  -0.56508414,\n",
       "         -5.19031179,   2.29256054,   4.47290157,   2.25793752,\n",
       "          2.12746415,   2.54643023,  -4.58963876,   0.42699438,\n",
       "          4.16078996,   0.52347217,   1.41770634]])"
      ]
     },
     "execution_count": 54,
     "metadata": {},
     "output_type": "execute_result"
    }
   ],
   "source": [
    "#в целом вроде правильно РСА сделал, но не смог понять на какую матрицу нужно\n",
    "#умножить собвственные вектора, что бы получить нужную матрицу (ниже сделал программно)\n",
    "raiting"
   ]
  },
  {
   "cell_type": "code",
   "execution_count": 43,
   "id": "2f83ad36",
   "metadata": {},
   "outputs": [],
   "source": [
    "from sklearn.decomposition import PCA\n",
    "pca = PCA(n_components = 5)\n",
    "XPCAreduced = pca.fit_transform(transpose(raitings))"
   ]
  },
  {
   "cell_type": "code",
   "execution_count": 44,
   "id": "0259c52b",
   "metadata": {},
   "outputs": [
    {
     "data": {
      "text/plain": [
       "array([[ 7.20018322, -2.21180271,  0.62444472, -0.68347876,  2.32300969],\n",
       "       [-2.15883915,  2.48811388,  2.50312108,  3.73949799,  5.59098759],\n",
       "       [-2.19706704, -4.13054722,  1.20535636, -0.9375591 , -4.19604751],\n",
       "       [ 2.17120509, -1.57353038,  1.91195496, -4.16844687,  2.21098853],\n",
       "       [ 3.5042386 , -0.36007999, -1.29284485,  1.93382512,  3.06739434],\n",
       "       [ 4.86816992, -1.68851078, -0.69183061, -2.33352131, -3.70024801],\n",
       "       [ 1.36948218,  8.72739624,  1.45070841, -4.63509801, -1.14431162],\n",
       "       [-5.39902839, -0.07301145, -3.41103106,  1.08503176, -0.70827974],\n",
       "       [-6.79639997, -3.30287883, -1.0574357 , -1.65054982, -1.31930163],\n",
       "       [-3.40627067,  1.72778736, -3.15588866,  5.01530221, -0.24360856],\n",
       "       [ 0.19121604,  1.25414218,  9.08646082,  4.81528688, -3.61505649],\n",
       "       [ 3.19399673, -7.51517242, -2.06544701,  1.76874451,  0.42454085],\n",
       "       [-4.32784434,  2.39265736, -1.77898224, -3.22047502,  0.80977053],\n",
       "       [ 4.94145693,  5.40830066, -5.48126229,  2.44981758, -2.35260856],\n",
       "       [-3.15449915, -1.14286391,  2.15267607, -3.17837717,  2.85277057]])"
      ]
     },
     "execution_count": 44,
     "metadata": {},
     "output_type": "execute_result"
    }
   ],
   "source": [
    "XPCAreduced"
   ]
  },
  {
   "cell_type": "code",
   "execution_count": 30,
   "id": "ec0565b1",
   "metadata": {},
   "outputs": [],
   "source": [
    "from scipy.misc import derivative\n",
    "from sympy import *"
   ]
  },
  {
   "cell_type": "code",
   "execution_count": 6,
   "id": "43a56644",
   "metadata": {},
   "outputs": [],
   "source": [
    "def f(x):\n",
    "    return pow(tan(sin(x)+cos(2*x+3)),2)"
   ]
  },
  {
   "cell_type": "code",
   "execution_count": 7,
   "id": "a6f10ecb",
   "metadata": {},
   "outputs": [],
   "source": [
    "x=Symbol('x')\n",
    "x=1"
   ]
  },
  {
   "cell_type": "code",
   "execution_count": 8,
   "id": "b66ab8f5",
   "metadata": {},
   "outputs": [
    {
     "data": {
      "text/latex": [
       "$\\displaystyle 57.065312694603$"
      ],
      "text/plain": [
       "57.0653126946030"
      ]
     },
     "execution_count": 8,
     "metadata": {},
     "output_type": "execute_result"
    }
   ],
   "source": [
    "f1=derivative(f,1.0)\n",
    "f1"
   ]
  },
  {
   "cell_type": "code",
   "execution_count": 9,
   "id": "280d769c",
   "metadata": {},
   "outputs": [
    {
     "ename": "SyntaxError",
     "evalue": "invalid syntax (<ipython-input-9-528e329f5ddf>, line 2)",
     "output_type": "error",
     "traceback": [
      "\u001b[1;36m  File \u001b[1;32m\"<ipython-input-9-528e329f5ddf>\"\u001b[1;36m, line \u001b[1;32m2\u001b[0m\n\u001b[1;33m    2tg(cos(2x+3)+sin(x))*(tg(cos(2x+3)+sin(x))'\u001b[0m\n\u001b[1;37m     ^\u001b[0m\n\u001b[1;31mSyntaxError\u001b[0m\u001b[1;31m:\u001b[0m invalid syntax\n"
     ]
    }
   ],
   "source": [
    "#Производная на бумаге\n",
    "2tg(cos(2x+3)+sin(x))*(tg(cos(2x+3)+sin(x))'\n",
    "(2tg(cos(2x+3)+sin(x)))/(pow(cos(cos(2x+3)+sin(x)),2))*(cos(2x+3)+sin(x))'\n",
    "proizv=(2(cos(x)-2sin(2x+3))*tg(cos(2x+3)+sin(x)))/pow(cos(cos(2x+3)+sin(x)),2)                       "
   ]
  },
  {
   "cell_type": "code",
   "execution_count": 10,
   "id": "2b760bfc",
   "metadata": {},
   "outputs": [],
   "source": [
    "def z(x):\n",
    "    return (2*(cos(x)-2*sin(2*x+3))*tan(cos(2*x+3)+sin(x)))/pow(cos(cos(2*x+3)+sin(x)),2) "
   ]
  },
  {
   "cell_type": "code",
   "execution_count": 11,
   "id": "7b7ecb01",
   "metadata": {},
   "outputs": [
    {
     "data": {
      "text/latex": [
       "$\\displaystyle 55.3859176353379$"
      ],
      "text/plain": [
       "55.3859176353379"
      ]
     },
     "execution_count": 11,
     "metadata": {},
     "output_type": "execute_result"
    }
   ],
   "source": [
    "func=derivative(z,1.0,n=0)\n",
    "func"
   ]
  },
  {
   "cell_type": "code",
   "execution_count": 56,
   "id": "01fdef48",
   "metadata": {},
   "outputs": [],
   "source": [
    "def f(x, a, b):\n",
    "    return np.e**a * np.sin(b*x) + x"
   ]
  },
  {
   "cell_type": "code",
   "execution_count": 69,
   "id": "60b28f55",
   "metadata": {},
   "outputs": [],
   "source": [
    "x = np.array([0.        , 0.26315789, 0.52631579, 0.78947368, 1.05263158,\n",
    "              1.31578947, 1.57894737, 1.84210526, 2.10526316, 2.36842105,\n",
    "              2.63157895, 2.89473684, 3.15789474, 3.42105263, 3.68421053,\n",
    "              3.94736842, 4.21052632, 4.47368421, 4.73684211, 5.        ])"
   ]
  },
  {
   "cell_type": "code",
   "execution_count": 58,
   "id": "ef9326b3",
   "metadata": {},
   "outputs": [],
   "source": [
    "fx = np.array([  0.        , -12.01819092, -18.90968634, -17.68786571,\n",
    "                -8.7529108 ,   4.27524517,  16.06801336,  21.81250213,\n",
    "                19.22059845,   9.48411207,  -3.22273056, -13.48576488,\n",
    "               -16.91096359, -11.95866834,  -0.58630088,  12.56873816,\n",
    "                22.12489421,  24.20292139,  18.04522521,   6.33211092])"
   ]
  },
  {
   "cell_type": "code",
   "execution_count": 74,
   "id": "ebd684cc",
   "metadata": {},
   "outputs": [
    {
     "data": {
      "image/png": "[encoded data removed]",
      "text/plain": [
       "<Figure size 432x288 with 1 Axes>"
      ]
     },
     "metadata": {
      "needs_background": "light"
     },
     "output_type": "display_data"
    }
   ],
   "source": [
    "plt.plot(x, fx)\n",
    "#plt.plot(func.x,fx)\n",
    "plt.show()"
   ]
  },
  {
   "cell_type": "code",
   "execution_count": 67,
   "id": "c7f8f13d",
   "metadata": {},
   "outputs": [],
   "source": [
    "def error(params):\n",
    "    return np.sum(np.abs(fx - f(x, params[0], params[1])))"
   ]
  },
  {
   "cell_type": "code",
   "execution_count": 72,
   "id": "d33597b9",
   "metadata": {},
   "outputs": [],
   "source": [
    "?minimize"
   ]
  },
  {
   "cell_type": "code",
   "execution_count": 70,
   "id": "de97f974",
   "metadata": {},
   "outputs": [],
   "source": [
    "func=minimize(error,x)"
   ]
  },
  {
   "cell_type": "code",
   "execution_count": 71,
   "id": "08ab3e7d",
   "metadata": {},
   "outputs": [
    {
     "data": {
      "text/plain": [
       "      fun: 235.02677458725543\n",
       " hess_inv: array([[ 1.69775189e-09, -1.11054385e-10,  0.00000000e+00,\n",
       "         0.00000000e+00,  0.00000000e+00,  0.00000000e+00,\n",
       "         0.00000000e+00,  0.00000000e+00,  0.00000000e+00,\n",
       "         0.00000000e+00,  0.00000000e+00,  0.00000000e+00,\n",
       "         0.00000000e+00,  0.00000000e+00,  0.00000000e+00,\n",
       "         0.00000000e+00,  0.00000000e+00,  0.00000000e+00,\n",
       "         0.00000000e+00,  0.00000000e+00],\n",
       "       [-1.11054385e-10,  4.39142884e-11,  0.00000000e+00,\n",
       "         0.00000000e+00,  0.00000000e+00,  0.00000000e+00,\n",
       "         0.00000000e+00,  0.00000000e+00,  0.00000000e+00,\n",
       "         0.00000000e+00,  0.00000000e+00,  0.00000000e+00,\n",
       "         0.00000000e+00,  0.00000000e+00,  0.00000000e+00,\n",
       "         0.00000000e+00,  0.00000000e+00,  0.00000000e+00,\n",
       "         0.00000000e+00,  0.00000000e+00],\n",
       "       [ 0.00000000e+00,  0.00000000e+00,  1.00000000e+00,\n",
       "         0.00000000e+00,  0.00000000e+00,  0.00000000e+00,\n",
       "         0.00000000e+00,  0.00000000e+00,  0.00000000e+00,\n",
       "         0.00000000e+00,  0.00000000e+00,  0.00000000e+00,\n",
       "         0.00000000e+00,  0.00000000e+00,  0.00000000e+00,\n",
       "         0.00000000e+00,  0.00000000e+00,  0.00000000e+00,\n",
       "         0.00000000e+00,  0.00000000e+00],\n",
       "       [ 0.00000000e+00,  0.00000000e+00,  0.00000000e+00,\n",
       "         1.00000000e+00,  0.00000000e+00,  0.00000000e+00,\n",
       "         0.00000000e+00,  0.00000000e+00,  0.00000000e+00,\n",
       "         0.00000000e+00,  0.00000000e+00,  0.00000000e+00,\n",
       "         0.00000000e+00,  0.00000000e+00,  0.00000000e+00,\n",
       "         0.00000000e+00,  0.00000000e+00,  0.00000000e+00,\n",
       "         0.00000000e+00,  0.00000000e+00],\n",
       "       [ 0.00000000e+00,  0.00000000e+00,  0.00000000e+00,\n",
       "         0.00000000e+00,  1.00000000e+00,  0.00000000e+00,\n",
       "         0.00000000e+00,  0.00000000e+00,  0.00000000e+00,\n",
       "         0.00000000e+00,  0.00000000e+00,  0.00000000e+00,\n",
       "         0.00000000e+00,  0.00000000e+00,  0.00000000e+00,\n",
       "         0.00000000e+00,  0.00000000e+00,  0.00000000e+00,\n",
       "         0.00000000e+00,  0.00000000e+00],\n",
       "       [ 0.00000000e+00,  0.00000000e+00,  0.00000000e+00,\n",
       "         0.00000000e+00,  0.00000000e+00,  1.00000000e+00,\n",
       "         0.00000000e+00,  0.00000000e+00,  0.00000000e+00,\n",
       "         0.00000000e+00,  0.00000000e+00,  0.00000000e+00,\n",
       "         0.00000000e+00,  0.00000000e+00,  0.00000000e+00,\n",
       "         0.00000000e+00,  0.00000000e+00,  0.00000000e+00,\n",
       "         0.00000000e+00,  0.00000000e+00],\n",
       "       [ 0.00000000e+00,  0.00000000e+00,  0.00000000e+00,\n",
       "         0.00000000e+00,  0.00000000e+00,  0.00000000e+00,\n",
       "         1.00000000e+00,  0.00000000e+00,  0.00000000e+00,\n",
       "         0.00000000e+00,  0.00000000e+00,  0.00000000e+00,\n",
       "         0.00000000e+00,  0.00000000e+00,  0.00000000e+00,\n",
       "         0.00000000e+00,  0.00000000e+00,  0.00000000e+00,\n",
       "         0.00000000e+00,  0.00000000e+00],\n",
       "       [ 0.00000000e+00,  0.00000000e+00,  0.00000000e+00,\n",
       "         0.00000000e+00,  0.00000000e+00,  0.00000000e+00,\n",
       "         0.00000000e+00,  1.00000000e+00,  0.00000000e+00,\n",
       "         0.00000000e+00,  0.00000000e+00,  0.00000000e+00,\n",
       "         0.00000000e+00,  0.00000000e+00,  0.00000000e+00,\n",
       "         0.00000000e+00,  0.00000000e+00,  0.00000000e+00,\n",
       "         0.00000000e+00,  0.00000000e+00],\n",
       "       [ 0.00000000e+00,  0.00000000e+00,  0.00000000e+00,\n",
       "         0.00000000e+00,  0.00000000e+00,  0.00000000e+00,\n",
       "         0.00000000e+00,  0.00000000e+00,  1.00000000e+00,\n",
       "         0.00000000e+00,  0.00000000e+00,  0.00000000e+00,\n",
       "         0.00000000e+00,  0.00000000e+00,  0.00000000e+00,\n",
       "         0.00000000e+00,  0.00000000e+00,  0.00000000e+00,\n",
       "         0.00000000e+00,  0.00000000e+00],\n",
       "       [ 0.00000000e+00,  0.00000000e+00,  0.00000000e+00,\n",
       "         0.00000000e+00,  0.00000000e+00,  0.00000000e+00,\n",
       "         0.00000000e+00,  0.00000000e+00,  0.00000000e+00,\n",
       "         1.00000000e+00,  0.00000000e+00,  0.00000000e+00,\n",
       "         0.00000000e+00,  0.00000000e+00,  0.00000000e+00,\n",
       "         0.00000000e+00,  0.00000000e+00,  0.00000000e+00,\n",
       "         0.00000000e+00,  0.00000000e+00],\n",
       "       [ 0.00000000e+00,  0.00000000e+00,  0.00000000e+00,\n",
       "         0.00000000e+00,  0.00000000e+00,  0.00000000e+00,\n",
       "         0.00000000e+00,  0.00000000e+00,  0.00000000e+00,\n",
       "         0.00000000e+00,  1.00000000e+00,  0.00000000e+00,\n",
       "         0.00000000e+00,  0.00000000e+00,  0.00000000e+00,\n",
       "         0.00000000e+00,  0.00000000e+00,  0.00000000e+00,\n",
       "         0.00000000e+00,  0.00000000e+00],\n",
       "       [ 0.00000000e+00,  0.00000000e+00,  0.00000000e+00,\n",
       "         0.00000000e+00,  0.00000000e+00,  0.00000000e+00,\n",
       "         0.00000000e+00,  0.00000000e+00,  0.00000000e+00,\n",
       "         0.00000000e+00,  0.00000000e+00,  1.00000000e+00,\n",
       "         0.00000000e+00,  0.00000000e+00,  0.00000000e+00,\n",
       "         0.00000000e+00,  0.00000000e+00,  0.00000000e+00,\n",
       "         0.00000000e+00,  0.00000000e+00],\n",
       "       [ 0.00000000e+00,  0.00000000e+00,  0.00000000e+00,\n",
       "         0.00000000e+00,  0.00000000e+00,  0.00000000e+00,\n",
       "         0.00000000e+00,  0.00000000e+00,  0.00000000e+00,\n",
       "         0.00000000e+00,  0.00000000e+00,  0.00000000e+00,\n",
       "         1.00000000e+00,  0.00000000e+00,  0.00000000e+00,\n",
       "         0.00000000e+00,  0.00000000e+00,  0.00000000e+00,\n",
       "         0.00000000e+00,  0.00000000e+00],\n",
       "       [ 0.00000000e+00,  0.00000000e+00,  0.00000000e+00,\n",
       "         0.00000000e+00,  0.00000000e+00,  0.00000000e+00,\n",
       "         0.00000000e+00,  0.00000000e+00,  0.00000000e+00,\n",
       "         0.00000000e+00,  0.00000000e+00,  0.00000000e+00,\n",
       "         0.00000000e+00,  1.00000000e+00,  0.00000000e+00,\n",
       "         0.00000000e+00,  0.00000000e+00,  0.00000000e+00,\n",
       "         0.00000000e+00,  0.00000000e+00],\n",
       "       [ 0.00000000e+00,  0.00000000e+00,  0.00000000e+00,\n",
       "         0.00000000e+00,  0.00000000e+00,  0.00000000e+00,\n",
       "         0.00000000e+00,  0.00000000e+00,  0.00000000e+00,\n",
       "         0.00000000e+00,  0.00000000e+00,  0.00000000e+00,\n",
       "         0.00000000e+00,  0.00000000e+00,  1.00000000e+00,\n",
       "         0.00000000e+00,  0.00000000e+00,  0.00000000e+00,\n",
       "         0.00000000e+00,  0.00000000e+00],\n",
       "       [ 0.00000000e+00,  0.00000000e+00,  0.00000000e+00,\n",
       "         0.00000000e+00,  0.00000000e+00,  0.00000000e+00,\n",
       "         0.00000000e+00,  0.00000000e+00,  0.00000000e+00,\n",
       "         0.00000000e+00,  0.00000000e+00,  0.00000000e+00,\n",
       "         0.00000000e+00,  0.00000000e+00,  0.00000000e+00,\n",
       "         1.00000000e+00,  0.00000000e+00,  0.00000000e+00,\n",
       "         0.00000000e+00,  0.00000000e+00],\n",
       "       [ 0.00000000e+00,  0.00000000e+00,  0.00000000e+00,\n",
       "         0.00000000e+00,  0.00000000e+00,  0.00000000e+00,\n",
       "         0.00000000e+00,  0.00000000e+00,  0.00000000e+00,\n",
       "         0.00000000e+00,  0.00000000e+00,  0.00000000e+00,\n",
       "         0.00000000e+00,  0.00000000e+00,  0.00000000e+00,\n",
       "         0.00000000e+00,  1.00000000e+00,  0.00000000e+00,\n",
       "         0.00000000e+00,  0.00000000e+00],\n",
       "       [ 0.00000000e+00,  0.00000000e+00,  0.00000000e+00,\n",
       "         0.00000000e+00,  0.00000000e+00,  0.00000000e+00,\n",
       "         0.00000000e+00,  0.00000000e+00,  0.00000000e+00,\n",
       "         0.00000000e+00,  0.00000000e+00,  0.00000000e+00,\n",
       "         0.00000000e+00,  0.00000000e+00,  0.00000000e+00,\n",
       "         0.00000000e+00,  0.00000000e+00,  1.00000000e+00,\n",
       "         0.00000000e+00,  0.00000000e+00],\n",
       "       [ 0.00000000e+00,  0.00000000e+00,  0.00000000e+00,\n",
       "         0.00000000e+00,  0.00000000e+00,  0.00000000e+00,\n",
       "         0.00000000e+00,  0.00000000e+00,  0.00000000e+00,\n",
       "         0.00000000e+00,  0.00000000e+00,  0.00000000e+00,\n",
       "         0.00000000e+00,  0.00000000e+00,  0.00000000e+00,\n",
       "         0.00000000e+00,  0.00000000e+00,  0.00000000e+00,\n",
       "         1.00000000e+00,  0.00000000e+00],\n",
       "       [ 0.00000000e+00,  0.00000000e+00,  0.00000000e+00,\n",
       "         0.00000000e+00,  0.00000000e+00,  0.00000000e+00,\n",
       "         0.00000000e+00,  0.00000000e+00,  0.00000000e+00,\n",
       "         0.00000000e+00,  0.00000000e+00,  0.00000000e+00,\n",
       "         0.00000000e+00,  0.00000000e+00,  0.00000000e+00,\n",
       "         0.00000000e+00,  0.00000000e+00,  0.00000000e+00,\n",
       "         0.00000000e+00,  1.00000000e+00]])\n",
       "      jac: array([  7.4972744, 111.0246315,   0.       ,   0.       ,   0.       ,\n",
       "         0.       ,   0.       ,   0.       ,   0.       ,   0.       ,\n",
       "         0.       ,   0.       ,   0.       ,   0.       ,   0.       ,\n",
       "         0.       ,   0.       ,   0.       ,   0.       ,   0.       ])\n",
       "  message: 'Desired error not necessarily achieved due to precision loss.'\n",
       "     nfev: 2490\n",
       "      nit: 13\n",
       "     njev: 118\n",
       "   status: 2\n",
       "  success: False\n",
       "        x: array([3.22024996, 0.08906684, 0.52631579, 0.78947368, 1.05263158,\n",
       "       1.31578947, 1.57894737, 1.84210526, 2.10526316, 2.36842105,\n",
       "       2.63157895, 2.89473684, 3.15789474, 3.42105263, 3.68421053,\n",
       "       3.94736842, 4.21052632, 4.47368421, 4.73684211, 5.        ])"
      ]
     },
     "execution_count": 71,
     "metadata": {},
     "output_type": "execute_result"
    }
   ],
   "source": [
    "func"
   ]
  },
  {
   "cell_type": "code",
   "execution_count": 73,
   "id": "dd0f7ea5",
   "metadata": {},
   "outputs": [
    {
     "data": {
      "text/plain": [
       "array([3.22024996, 0.08906684, 0.52631579, 0.78947368, 1.05263158,\n",
       "       1.31578947, 1.57894737, 1.84210526, 2.10526316, 2.36842105,\n",
       "       2.63157895, 2.89473684, 3.15789474, 3.42105263, 3.68421053,\n",
       "       3.94736842, 4.21052632, 4.47368421, 4.73684211, 5.        ])"
      ]
     },
     "execution_count": 73,
     "metadata": {},
     "output_type": "execute_result"
    }
   ],
   "source": [
    "func.x"
   ]
  },
  {
   "cell_type": "code",
   "execution_count": null,
   "id": "a2713d9a",
   "metadata": {},
   "outputs": [],
   "source": []
  },
  {
   "cell_type": "code",
   "execution_count": 24,
   "id": "2b3a2d13",
   "metadata": {},
   "outputs": [
    {
     "data": {
      "text/plain": [
       "1000"
      ]
     },
     "execution_count": 24,
     "metadata": {},
     "output_type": "execute_result"
    }
   ],
   "source": [
    "len(Sum)"
   ]
  },
  {
   "cell_type": "code",
   "execution_count": 27,
   "id": "c57edc70",
   "metadata": {},
   "outputs": [
    {
     "data": {
      "image/png": "[encoded data removed]",
      "text/plain": [
       "<Figure size 432x288 with 1 Axes>"
      ]
     },
     "metadata": {
      "needs_background": "light"
     },
     "output_type": "display_data"
    }
   ],
   "source": [
    "i=1\n",
    "Summary=[]\n",
    "for i in range(1000):\n",
    "    Mas=[]\n",
    "   \n",
    "    for a in range(50):\n",
    "        S=randint(0,20)\n",
    "        Mas.append(S)\n",
    "    Sr=sum(Mas)/len(Mas)\n",
    "    Summary.append(Sr)\n",
    "Sum=np.array(Summary)\n",
    "plt.bar(range(1000),Sum)\n",
    "plt.xlabel('Номер Выборки')\n",
    "plt.ylabel('Средние значения')\n",
    "plt.xlim(0,200)\n",
    "plt.ylim(0,20)\n",
    "plt.grid(True)\n",
    "plt.show()\n"
   ]
  },
  {
   "cell_type": "code",
   "execution_count": 10,
   "id": "ba77a2c4",
   "metadata": {},
   "outputs": [],
   "source": [
    "from math import *\n",
    "from numpy.random import randint"
   ]
  },
  {
   "cell_type": "code",
   "execution_count": 61,
   "id": "876731ec",
   "metadata": {
    "scrolled": true
   },
   "outputs": [
    {
     "name": "stdout",
     "output_type": "stream",
     "text": [
      "[[1 4]\n",
      " [1 1]]\n"
     ]
    }
   ],
   "source": [
    "m = np.array([[1, 4],\n",
    "              [1, 1]])\n",
    "print(m)"
   ]
  },
  {
   "cell_type": "code",
   "execution_count": 63,
   "id": "54fe2c67",
   "metadata": {},
   "outputs": [
    {
     "data": {
      "text/plain": [
       "array([[1, 4],\n",
       "       [1, 1]])"
      ]
     },
     "execution_count": 63,
     "metadata": {},
     "output_type": "execute_result"
    }
   ],
   "source": [
    "m"
   ]
  },
  {
   "cell_type": "code",
   "execution_count": 32,
   "id": "a7de83ab",
   "metadata": {},
   "outputs": [],
   "source": [
    "x,z=np.linalg.eig(m)"
   ]
  },
  {
   "cell_type": "code",
   "execution_count": 33,
   "id": "bd10ecba",
   "metadata": {},
   "outputs": [
    {
     "name": "stdout",
     "output_type": "stream",
     "text": [
      "Собственное значение 3.0000000000000004\n",
      "соответствующий ему собственный вектор [0.89442719 0.4472136 ]\n",
      "Собственное значение -0.9999999999999996\n",
      "соответствующий ему собственный вектор [-0.89442719  0.4472136 ]\n"
     ]
    }
   ],
   "source": [
    "for i in range(len(x)):\n",
    "    print(\"Собственное значение \" + str(x[i]))\n",
    "    print(\"соответствующий ему собственный вектор \" + str(z[:,i]))"
   ]
  },
  {
   "cell_type": "code",
   "execution_count": 66,
   "id": "71f73d1e",
   "metadata": {},
   "outputs": [
    {
     "ename": "SyntaxError",
     "evalue": "invalid syntax (<ipython-input-66-bef3ef079f0f>, line 3)",
     "output_type": "error",
     "traceback": [
      "\u001b[1;36m  File \u001b[1;32m\"<ipython-input-66-bef3ef079f0f>\"\u001b[1;36m, line \u001b[1;32m3\u001b[0m\n\u001b[1;33m    ([[x+4y],[x+y]])=)([[Lx],[Ly]])\u001b[0m\n\u001b[1;37m          ^\u001b[0m\n\u001b[1;31mSyntaxError\u001b[0m\u001b[1;31m:\u001b[0m invalid syntax\n"
     ]
    }
   ],
   "source": [
    "#Найдем на бумаге\n",
    "m*([[x],[y]])=L([[x],[y]])\n",
    "([[x+4y],[x+y]])=)([[Lx],[Ly]])\n",
    "x+4y-Lx=0, x+y-Ly=0\n",
    "(1-L)x+4y=0 , (1-L)+x=0\n",
    "(1-L)(1-L)-4=0\n",
    "1-2L+L*L-4=0\n",
    "L2-2L-3=0\n",
    "D=4+12=16\n",
    "L1=(2-4)/2=-1\n",
    "L2=(2+4)/2=3\n",
    "#Собственные значения (-1,3), при значении =3 получим:\n",
    "-2x+4y=0, x-2y=0 ==> x=-2y ==> СВ1=(1,-2)\n",
    "#При значении =-1:\n",
    "2х+4у=0, х+2у=0 ==> x=2y ==> CB2=(1,2)\n",
    "\n"
   ]
  }
 ],
 "metadata": {
  "kernelspec": {
   "display_name": "Python 3",
   "language": "python",
   "name": "python3"
  },
  "language_info": {
   "codemirror_mode": {
    "name": "ipython",
    "version": 3
   },
   "file_extension": ".py",
   "mimetype": "text/x-python",
   "name": "python",
   "nbconvert_exporter": "python",
   "pygments_lexer": "ipython3",
   "version": "3.8.8"
  }
 },
 "nbformat": 4,
 "nbformat_minor": 5
}
