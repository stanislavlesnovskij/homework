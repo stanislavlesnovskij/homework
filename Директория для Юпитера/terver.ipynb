{
 "cells": [
  {
   "cell_type": "code",
   "execution_count": 3,
   "id": "1731c574",
   "metadata": {},
   "outputs": [],
   "source": [
    "import numpy.random as np"
   ]
  },
  {
   "cell_type": "code",
   "execution_count": 9,
   "id": "efe508f3",
   "metadata": {},
   "outputs": [
    {
     "name": "stdout",
     "output_type": "stream",
     "text": [
      "-2891\n"
     ]
    }
   ],
   "source": [
    "balance=0\n",
    "trials=10000\n",
    "for i in range(trials):\n",
    "    balance-=1\n",
    "    c1=np.randint(0,10)\n",
    "    c2=np.randint(0,10)\n",
    "    c3=np.randint(0,10)\n",
    "    if c1==7 and c2==7 and c3==7:\n",
    "        balance+=200\n",
    "    elif c1==9 and c2==9 and c3== 9:\n",
    "        balance+=100\n",
    "    elif c1==5 and c2==5 and c3==5:\n",
    "        balance+=50\n",
    "    elif c1==3 and c2==3 and c3==3:\n",
    "        balance+=15\n",
    "    elif c1==1 and c2==1 and c3==1:\n",
    "        balance+=10\n",
    "    elif c2==7 and c3==7:\n",
    "        balance+=5\n",
    "    elif c3==7:\n",
    "        balance+=3\n",
    "    elif c2==0 and c3==0:\n",
    "        balance+=2\n",
    "    elif c3==0:\n",
    "        balance+=1\n",
    "print(balance)"
   ]
  }
 ],
 "metadata": {
  "kernelspec": {
   "display_name": "Python 3",
   "language": "python",
   "name": "python3"
  },
  "language_info": {
   "codemirror_mode": {
    "name": "ipython",
    "version": 3
   },
   "file_extension": ".py",
   "mimetype": "text/x-python",
   "name": "python",
   "nbconvert_exporter": "python",
   "pygments_lexer": "ipython3",
   "version": "3.8.8"
  }
 },
 "nbformat": 4,
 "nbformat_minor": 5
}
