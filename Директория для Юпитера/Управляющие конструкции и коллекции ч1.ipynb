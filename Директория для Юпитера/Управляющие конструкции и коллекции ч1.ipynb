{
 "cells": [
  {
   "cell_type": "code",
   "execution_count": 48,
   "id": "63a1486a",
   "metadata": {},
   "outputs": [
    {
     "name": "stdout",
     "output_type": "stream",
     "text": [
      "Введите слово test\n",
      "['e', 's']\n"
     ]
    }
   ],
   "source": [
    "slovo = input(\"Введите слово \")\n",
    "x=0\n",
    "spisok=[]\n",
    "for bukva in slovo:\n",
    "    spisok.append(bukva)\n",
    "    \n",
    "if len(spisok)%2==0:\n",
    "    x=int(len(spisok))/2\n",
    "    y=int(x)-1\n",
    "    z= spisok[y:y+2]\n",
    "    print(z)\n",
    "else:\n",
    "    x=int(len(spisok))/2\n",
    "    y=int(x)\n",
    "    z=spisok[y]\n",
    "    print(z)"
   ]
  },
  {
   "cell_type": "code",
   "execution_count": 49,
   "id": "3e867cea",
   "metadata": {
    "scrolled": true
   },
   "outputs": [
    {
     "name": "stdout",
     "output_type": "stream",
     "text": [
      "Введите слово testing\n",
      "t\n"
     ]
    }
   ],
   "source": [
    "slovo = input(\"Введите слово \")\n",
    "x=0\n",
    "spisok=[]\n",
    "for bukva in slovo:\n",
    "    spisok.append(bukva)\n",
    "    \n",
    "if len(spisok)%2==0:\n",
    "    x=int(len(spisok))/2\n",
    "    y=int(x)-1\n",
    "    z= spisok[y:y+2]\n",
    "    print(z)\n",
    "else:\n",
    "    x=int(len(spisok))/2\n",
    "    y=int(x)\n",
    "    z=spisok[y]\n",
    "    print(z)"
   ]
  },
  {
   "cell_type": "code",
   "execution_count": 50,
   "id": "e73f73de",
   "metadata": {},
   "outputs": [
    {
     "name": "stdout",
     "output_type": "stream",
     "text": [
      "Введите число 1\n",
      "Введите число 4\n",
      "Введите число 6\n",
      "Введите число 0\n",
      "11\n"
     ]
    }
   ],
   "source": [
    "x=2\n",
    "spisok=[]\n",
    "while x>0:\n",
    "    s=int(input(\"Введите число \"))\n",
    "    if s==0:\n",
    "        print(sum(spisok))\n",
    "        break\n",
    "    else:\n",
    "        spisok.append(s) \n",
    "            "
   ]
  },
  {
   "cell_type": "code",
   "execution_count": 51,
   "id": "8f85ee07",
   "metadata": {},
   "outputs": [
    {
     "name": "stdout",
     "output_type": "stream",
     "text": [
      "Введите число 0\n",
      "0\n"
     ]
    }
   ],
   "source": [
    "x=2\n",
    "spisok=[]\n",
    "while x>0:\n",
    "    s=int(input(\"Введите число \"))\n",
    "    if s==0:\n",
    "        print(sum(spisok))\n",
    "        break\n",
    "    else:\n",
    "        spisok.append(s) "
   ]
  },
  {
   "cell_type": "code",
   "execution_count": 57,
   "id": "0aa9353e",
   "metadata": {},
   "outputs": [
    {
     "name": "stdout",
     "output_type": "stream",
     "text": [
      "Введите через запятую имена девушек Kate, Liza, Kira, Emma, Trisha\n",
      "Введите через запятую имена юношей Peter, Alex, John, Arthur, Richard\n",
      "[(' Alex', ' Emma'), (' Arthur', ' Kira'), (' John', ' Liza'), (' Richard', ' Trisha'), ('Peter', 'Kate')]\n"
     ]
    }
   ],
   "source": [
    "dev=input(\"Введите через запятую имена девушек \")\n",
    "mal=input(\"Введите через запятую имена юношей \")\n",
    "girls=dev.split(',')\n",
    "boys=mal.split(',')\n",
    "b = sorted(boys)\n",
    "g=sorted(girls)\n",
    "if len(boys)==len(girls):\n",
    "    z=zip(b,g)\n",
    "    print(list(z))\n",
    "else:\n",
    "    print(\"Кто-то может остаться без пары\")"
   ]
  },
  {
   "cell_type": "code",
   "execution_count": 58,
   "id": "eb2df21d",
   "metadata": {},
   "outputs": [
    {
     "name": "stdout",
     "output_type": "stream",
     "text": [
      "Введите через запятую имена девушек Kate, Liza, Kira, Emma, Trisha\n",
      "Введите через запятую имена юношей Peter, Alex, John, Arthur, Richard, Michael\n",
      "Кто-то может остаться без пары\n"
     ]
    }
   ],
   "source": [
    "dev=input(\"Введите через запятую имена девушек \")\n",
    "mal=input(\"Введите через запятую имена юношей \")\n",
    "girls=dev.split(',')\n",
    "boys=mal.split(',')\n",
    "b = sorted(boys)\n",
    "g=sorted(girls)\n",
    "if len(boys)==len(girls):\n",
    "    z=zip(b,g)\n",
    "    print(list(z))\n",
    "else:\n",
    "    print(\"Кто-то может остаться без пары\")"
   ]
  },
  {
   "cell_type": "code",
   "execution_count": 67,
   "id": "4c85018c",
   "metadata": {},
   "outputs": [
    {
     "name": "stdout",
     "output_type": "stream",
     "text": [
      "Thailand 23.857142857142854\n",
      "Germany 13.799999999999999\n",
      "Russia 3.714285714285717\n",
      "Poland 11.999999999999998\n"
     ]
    }
   ],
   "source": [
    "countries_temperature = [\n",
    "    ['Thailand', [75.2, 77, 78.8, 73.4, 68, 75.2, 77]],\n",
    "    ['Germany', [57.2, 55.4, 59, 59, 53.6]],\n",
    "    ['Russia', [35.6, 37.4, 39.2, 41, 42.8, 39.2, 35.6]],\n",
    "    ['Poland', [50, 50, 53.6, 57.2, 55.4, 55.4]]\n",
    "]\n",
    "for el in countries_temperature:\n",
    "    temp1=sum(el[1])\n",
    "    temp2=len(el[1])\n",
    "    temp=temp1/temp2\n",
    "    tem=(temp-float(32))*float(5/9)\n",
    "    print(el[0],tem)"
   ]
  }
 ],
 "metadata": {
  "kernelspec": {
   "display_name": "Python 3",
   "language": "python",
   "name": "python3"
  }
 },
 "nbformat": 4,
 "nbformat_minor": 5
}
