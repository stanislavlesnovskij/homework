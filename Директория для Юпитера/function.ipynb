{
 "cells": [
  {
   "cell_type": "code",
   "execution_count": 147,
   "id": "671cf4d0",
   "metadata": {},
   "outputs": [],
   "source": [
    "documents = [\n",
    "{'type': 'passport', 'number': '2207 876234', 'name': 'Василий Гупкин'},\n",
    "{'type': 'invoice', 'number': '11-2', 'name': 'Геннадий Покемонов'},\n",
    "{'type': 'insurance', 'number': '10006', 'name': 'Аристарх Павлов'}\n",
    "]\n",
    "directories = {\n",
    "'1': ['2207 876234', '11-2'],\n",
    "'2': ['10006'],\n",
    "'3': []\n",
    "}\n",
    "\n",
    "\n",
    "#пользовательский ввод обрабатывается в цикле while до тех пор, \n",
    "#пока пользователь явно не завершит программу (вводом команды “q”)."
   ]
  },
  {
   "cell_type": "code",
   "execution_count": 148,
   "id": "4f63fb06",
   "metadata": {},
   "outputs": [],
   "source": [
    "def document(number):\n",
    "    \"\"\"\n",
    "    Функция document возвращает значение имени по документу\n",
    "    \"\"\"\n",
    "    for element in documents:\n",
    "        if element['number']==number:\n",
    "            return element['name']\n",
    "    return \"Документ не найден в базе\""
   ]
  },
  {
   "cell_type": "code",
   "execution_count": 114,
   "id": "68f83a42",
   "metadata": {},
   "outputs": [
    {
     "name": "stdout",
     "output_type": "stream",
     "text": [
      "Введите номер документа10006\n"
     ]
    },
    {
     "data": {
      "text/plain": [
       "{'type': 'insurance', 'number': '10006', 'name': 'Аристарх Павлов'}"
      ]
     },
     "execution_count": 114,
     "metadata": {},
     "output_type": "execute_result"
    }
   ],
   "source": [
    "document()"
   ]
  },
  {
   "cell_type": "code",
   "execution_count": 149,
   "id": "8a8a7b31",
   "metadata": {},
   "outputs": [],
   "source": [
    "def direct(number):\n",
    "    \"\"\"\n",
    "    Функция direct возвращает номер полки, на которой хранится документ\n",
    "    \"\"\"\n",
    "    for key in directories:\n",
    "        for value in directories[key]:\n",
    "            if value==number:\n",
    "                return key\n",
    "\n",
    "    return \"Документ не найден в базе\"\n"
   ]
  },
  {
   "cell_type": "code",
   "execution_count": 158,
   "id": "0ae71619",
   "metadata": {},
   "outputs": [],
   "source": [
    "def addcells():\n",
    "    \"\"\"\n",
    "    Функция addcells добавляет полку, если ее нет в списке, иначе возвращает предупреждение и всегда возвращает список полок\n",
    "    \"\"\"\n",
    "    number = input(\"Введите номер полки \")\n",
    "    if number in directories.keys():\n",
    "        print(\"Полка с таким номером уже существует. Текущий перечень полок: \",' '.join(list(directories.keys())))\n",
    "    else:\n",
    "        directories[number]=[]\n",
    "        print(\"Полка добавлена. Текущий перечень полок: \",' '.join(list(directories.keys())))"
   ]
  },
  {
   "cell_type": "code",
   "execution_count": 159,
   "id": "d1e71868",
   "metadata": {},
   "outputs": [],
   "source": [
    "def deldirect():\n",
    "    \"\"\"\n",
    "    Функция deldirect удаляет полку, если она пустая, иначе возвращает предупреждение и всегда возвращет список полок\n",
    "    \"\"\"\n",
    "    number = input(\"Введите номер полки \")\n",
    "    if number in directories.keys():\n",
    "        if directories[number]==[]:\n",
    "            del(directories[number])\n",
    "            print(\"Полка удалена. Текущий перечень полок: \",' '.join(list(directories.keys())))\n",
    "        elif directories[number]!=[]:\n",
    "            print(\"Полка не пустая. Удалите документы. Текущий перечень полок: \",' '.join(list(directories.keys())))\n",
    "    else:\n",
    "        print(\"Полки с таким номером не существует. Текущий перечень полок: \",' '.join(list(directories.keys())))"
   ]
  },
  {
   "cell_type": "code",
   "execution_count": 152,
   "id": "f217235c",
   "metadata": {},
   "outputs": [],
   "source": [
    "def fullinfo():\n",
    "    \"\"\"\n",
    "    функция возвращает всю информацию по имеющимся документам и полкам их хранения\n",
    "    \"\"\"\n",
    "    for key in directories.keys():\n",
    "        for element in directories[key]:\n",
    "            docs = doc(element)\n",
    "            print(\"Номер:\",docs['number'],\";\",\" тип документа:\",docs['type'],\";\",\" владелец:\",docs['name'],\";\",\" полка хранения:\",key)"
   ]
  },
  {
   "cell_type": "code",
   "execution_count": 153,
   "id": "72e7942a",
   "metadata": {},
   "outputs": [],
   "source": [
    "def doc(key):\n",
    "    \"\"\"\n",
    "    Вспомогательная функция, принимает значение номера документа с полок\n",
    "    \"\"\"\n",
    "    for element in documents:\n",
    "        if element['number']==key:\n",
    "            return element"
   ]
  },
  {
   "cell_type": "code",
   "execution_count": 135,
   "id": "8391cfb3",
   "metadata": {},
   "outputs": [
    {
     "name": "stdout",
     "output_type": "stream",
     "text": [
      "Номер: 2207 876234 ;  тип документа: passport ;  владелец: Василий Гупкин ;  полка хранения: 1\n",
      "Номер: 11-2 ;  тип документа: invoice ;  владелец: Геннадий Покемонов ;  полка хранения: 1\n",
      "Номер: 10006 ;  тип документа: insurance ;  владелец: Аристарх Павлов ;  полка хранения: 2\n"
     ]
    }
   ],
   "source": [
    "fullinfo()"
   ]
  },
  {
   "cell_type": "code",
   "execution_count": 160,
   "id": "85bc5138",
   "metadata": {},
   "outputs": [
    {
     "name": "stdout",
     "output_type": "stream",
     "text": [
      "Введите команду: фы\n",
      "Введите команду: as\n",
      "Введите номер полки 5\n",
      "Полка добавлена. Текущий перечень полок:  1 2 4 5\n",
      "None\n",
      "Введите команду: 4\n",
      "Введите команду: as\n",
      "Введите номер полки 4\n",
      "Полка с таким номером уже существует. Текущий перечень полок:  1 2 4 5\n",
      "None\n",
      "Введите команду: ds\n",
      "Введите номер полки 4\n",
      "Полка удалена. Текущий перечень полок:  1 2 5\n",
      "None\n",
      "Введите команду: ds\n",
      "Введите номер полки 4\n",
      "Полки с таким номером не существует. Текущий перечень полок:  1 2 5\n",
      "None\n",
      "Введите команду: q\n"
     ]
    }
   ],
   "source": [
    "x=0\n",
    "while x!=1:\n",
    "    comand = input(\"Введите команду: \")\n",
    "    if comand==\"p\" or comand==\"s\":\n",
    "        number = input(\"Введите номер документа \")\n",
    "        if comand == \"p\":\n",
    "            print(document(number))\n",
    "        elif comand == \"s\":\n",
    "            print(direct(number))\n",
    "    elif comand == \"l\":\n",
    "        print(fullinfo())\n",
    "    elif comand == \"ds\":\n",
    "        print(deldirect())\n",
    "    elif comand == \"as\":\n",
    "        print(addcells())\n",
    "    elif comand==\"q\":\n",
    "        break\n",
    "    "
   ]
  },
  {
   "cell_type": "code",
   "execution_count": null,
   "id": "a42ab7dd",
   "metadata": {},
   "outputs": [],
   "source": []
  }
 ],
 "metadata": {
  "kernelspec": {
   "display_name": "Python 3",
   "language": "python",
   "name": "python3"
  },
  "language_info": {
   "codemirror_mode": {
    "name": "ipython",
    "version": 3
   },
   "file_extension": ".py",
   "mimetype": "text/x-python",
   "name": "python",
   "nbconvert_exporter": "python",
   "pygments_lexer": "ipython3",
   "version": "3.8.8"
  }
 },
 "nbformat": 4,
 "nbformat_minor": 5
}
