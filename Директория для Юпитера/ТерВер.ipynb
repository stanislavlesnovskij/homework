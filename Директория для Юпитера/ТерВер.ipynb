{
 "cells": [
  {
   "cell_type": "code",
   "execution_count": 2,
   "id": "35d4ce2d",
   "metadata": {},
   "outputs": [],
   "source": [
    "from math import *\n",
    "from numpy.random import randint"
   ]
  },
  {
   "cell_type": "code",
   "execution_count": 3,
   "id": "7da38c5a",
   "metadata": {},
   "outputs": [],
   "source": [
    "#Простые числа: 1,3,5,7,11,13. Всего 6"
   ]
  },
  {
   "cell_type": "code",
   "execution_count": 4,
   "id": "f1da0e9e",
   "metadata": {},
   "outputs": [
    {
     "data": {
      "text/plain": [
       "5005.0"
      ]
     },
     "execution_count": 4,
     "metadata": {},
     "output_type": "execute_result"
    }
   ],
   "source": [
    "C=factorial(15)/(factorial(6)*factorial(15-6))\n",
    "C"
   ]
  },
  {
   "cell_type": "code",
   "execution_count": 5,
   "id": "522d7908",
   "metadata": {},
   "outputs": [
    {
     "data": {
      "text/plain": [
       "0.152740478515625"
      ]
     },
     "execution_count": 5,
     "metadata": {},
     "output_type": "execute_result"
    }
   ],
   "source": [
    "P=C/pow(2,15)\n",
    "P"
   ]
  },
  {
   "cell_type": "code",
   "execution_count": 13,
   "id": "5ea8085c",
   "metadata": {},
   "outputs": [],
   "source": [
    "import matplotlib.pyplot as plt"
   ]
  },
  {
   "cell_type": "code",
   "execution_count": 75,
   "id": "106966da",
   "metadata": {
    "scrolled": true
   },
   "outputs": [
    {
     "data": {
      "image/png": "[encoded data removed]",
      "text/plain": [
       "<Figure size 432x288 with 1 Axes>"
      ]
     },
     "metadata": {
      "needs_background": "light"
     },
     "output_type": "display_data"
    },
    {
     "data": {
      "text/plain": [
       "[103, 91, 102, 100, 96, 95, 101, 101, 106, 105]"
      ]
     },
     "execution_count": 75,
     "metadata": {},
     "output_type": "execute_result"
    }
   ],
   "source": [
    "i=1\n",
    "Mas=[0,0,0,0,0,0,0,0,0,0]\n",
    "for i in range(1000):\n",
    "    S=randint(0,10)\n",
    "    Mas[S]+=1\n",
    "plt.bar(150,Mas)\n",
    "plt.xlabel('Значения СВ')\n",
    "plt.ylabel('Количество попаданий')\n",
    "plt.xlim(0,10)\n",
    "plt.ylim(0,150)\n",
    "plt.grid(True)\n",
    "plt.show()\n",
    "Mas"
   ]
  },
  {
   "cell_type": "code",
   "execution_count": 80,
   "id": "f6d1828d",
   "metadata": {},
   "outputs": [],
   "source": [
    "import numpy as np"
   ]
  },
  {
   "cell_type": "code",
   "execution_count": 83,
   "id": "acbdc4f1",
   "metadata": {},
   "outputs": [
    {
     "data": {
      "text/plain": [
       "<BarContainer object of 10 artists>"
      ]
     },
     "execution_count": 83,
     "metadata": {},
     "output_type": "execute_result"
    },
    {
     "data": {
      "image/png": "[encoded data removed]",
      "text/plain": [
       "<Figure size 432x288 with 1 Axes>"
      ]
     },
     "metadata": {
      "needs_background": "light"
     },
     "output_type": "display_data"
    }
   ],
   "source": [
    "plt.plot(kind='hist',title='',xlabel='',ylabel='',staked=True)\n",
    "i=0\n",
    "index=[0,1,2,3,4,5,6,7,8,9]\n",
    "plt.bar(index,Mas)"
   ]
  },
  {
   "cell_type": "code",
   "execution_count": 67,
   "id": "6962b9a8",
   "metadata": {},
   "outputs": [],
   "source": [
    "?plt.bar"
   ]
  },
  {
   "cell_type": "code",
   "execution_count": 84,
   "id": "44887163",
   "metadata": {},
   "outputs": [
    {
     "data": {
      "text/plain": [
       "100.0"
      ]
     },
     "execution_count": 84,
     "metadata": {},
     "output_type": "execute_result"
    }
   ],
   "source": [
    "np.mean(Mas)"
   ]
  },
  {
   "cell_type": "code",
   "execution_count": 85,
   "id": "24066801",
   "metadata": {},
   "outputs": [
    {
     "data": {
      "text/plain": [
       "19.8"
      ]
     },
     "execution_count": 85,
     "metadata": {},
     "output_type": "execute_result"
    }
   ],
   "source": [
    "np.var(Mas)"
   ]
  },
  {
   "cell_type": "code",
   "execution_count": 86,
   "id": "88d261ac",
   "metadata": {},
   "outputs": [
    {
     "data": {
      "text/plain": [
       "101.0"
      ]
     },
     "execution_count": 86,
     "metadata": {},
     "output_type": "execute_result"
    }
   ],
   "source": [
    "np.median(Mas)"
   ]
  }
 ],
 "metadata": {
  "kernelspec": {
   "display_name": "Python 3",
   "language": "python",
   "name": "python3"
  },
  "language_info": {
   "codemirror_mode": {
    "name": "ipython",
    "version": 3
   },
   "file_extension": ".py",
   "mimetype": "text/x-python",
   "name": "python",
   "nbconvert_exporter": "python",
   "pygments_lexer": "ipython3",
   "version": "3.8.8"
  }
 },
 "nbformat": 4,
 "nbformat_minor": 5
}
