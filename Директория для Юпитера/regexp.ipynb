{
 "cells": [
  {
   "cell_type": "code",
   "execution_count": 4,
   "id": "aef9e467",
   "metadata": {},
   "outputs": [
    {
     "name": "stdout",
     "output_type": "stream",
     "text": [
      "Введите гос. номер автомобиля: Р65КПО\n",
      "Ошибка при введении номера\n"
     ]
    }
   ],
   "source": [
    "import re\n",
    "number = input(\"Введите гос. номер автомобиля: \")\n",
    "try:    \n",
    "    if re.findall(r'\\w{1}\\d{3}\\w{2}\\d{2,3}' ,number)[0]==number:\n",
    "        print(\"Номер \" + number+ ' валиден')\n",
    "except:    \n",
    "    print('Ошибка при введении номера')"
   ]
  },
  {
   "cell_type": "code",
   "execution_count": 17,
   "id": "83428230",
   "metadata": {},
   "outputs": [
    {
     "name": "stdout",
     "output_type": "stream",
     "text": [
      "['Напишите', 'функцию', 'функцию,', 'которая', 'будет', 'удалять', 'все', 'последовательные', 'повторы', 'слов', 'из', 'заданной', 'строки', 'при', 'помощи', 'регулярных', 'выражений']\n"
     ]
    }
   ],
   "source": [
    "#Запятую не получатеся никак оторвать\n",
    "import copy\n",
    "i=1\n",
    "some_string = 'Напишите функцию функцию, которая будет будет будет будет удалять все все все все последовательные повторы слов из из из из заданной строки строки при помощи регулярных выражений'\n",
    "mass = re.split(r'\\s+',some_string)\n",
    "massive = mass.copy()\n",
    "while i<len(mass)-1:\n",
    "    if mass[i]==mass[i+1]:\n",
    "        del(mass[i+1])\n",
    "        \n",
    "    else:\n",
    "        i+=1\n",
    "print(mass)\n",
    "    "
   ]
  },
  {
   "cell_type": "code",
   "execution_count": 31,
   "id": "4e053831",
   "metadata": {},
   "outputs": [
    {
     "name": "stdout",
     "output_type": "stream",
     "text": [
      "ИТ\n"
     ]
    }
   ],
   "source": [
    "some_words = 'Информационные технологии'\n",
    "result=''\n",
    "words=re.split(r'\\s',some_words)\n",
    "for el in words:\n",
    "    result+=el[0].upper()\n",
    "    \n",
    "print(result)"
   ]
  },
  {
   "cell_type": "code",
   "execution_count": 47,
   "id": "a7307d4b",
   "metadata": {},
   "outputs": [
    {
     "name": "stdout",
     "output_type": "stream",
     "text": [
      "{'@gmail': 2, '@test': 1, '@ya': 2, '@mail': 1}\n"
     ]
    }
   ],
   "source": [
    "emails = ['test@gmail.com', 'xyz@test.in', 'test@ya.ru', 'xyz@mail.ru', 'xyz@ya.ru', 'xyz@gmail.com']\n",
    "domens = {}\n",
    "for el in emails:\n",
    "    element = re.findall(r'\\@\\w*',el)\n",
    "    for elem in element:\n",
    "        if elem in domens.keys():\n",
    "            domens[elem]+=1\n",
    "        else:\n",
    "            domens[elem]=1\n",
    "print(domens)"
   ]
  }
 ],
 "metadata": {
  "kernelspec": {
   "display_name": "Python 3",
   "language": "python",
   "name": "python3"
  },
  "language_info": {
   "codemirror_mode": {
    "name": "ipython",
    "version": 3
   },
   "file_extension": ".py",
   "mimetype": "text/x-python",
   "name": "python",
   "nbconvert_exporter": "python",
   "pygments_lexer": "ipython3",
   "version": "3.8.8"
  }
 },
 "nbformat": 4,
 "nbformat_minor": 5
}
