{
 "cells": [
  {
   "cell_type": "code",
   "execution_count": 21,
   "id": "f922ad31",
   "metadata": {},
   "outputs": [],
   "source": [
    "import pandas as pd\n",
    "import matplotlib.pyplot as plt\n",
    "import seaborn as sns\n",
    "from sklearn.linear_model import LinearRegression\n",
    "from sklearn.model_selection import train_test_split\n",
    "import statsmodels.api as sm\n",
    "from statsmodels.sandbox.regression.predstd import wls_prediction_std"
   ]
  },
  {
   "cell_type": "code",
   "execution_count": 3,
   "id": "6c336f37",
   "metadata": {},
   "outputs": [],
   "source": [
    "data = pd.read_csv('water.csv',sep=',')"
   ]
  },
  {
   "cell_type": "code",
   "execution_count": 4,
   "id": "bd9aa688",
   "metadata": {},
   "outputs": [
    {
     "data": {
      "text/html": [
       "<div>\n",
       "<style scoped>\n",
       "    .dataframe tbody tr th:only-of-type {\n",
       "        vertical-align: middle;\n",
       "    }\n",
       "\n",
       "    .dataframe tbody tr th {\n",
       "        vertical-align: top;\n",
       "    }\n",
       "\n",
       "    .dataframe thead th {\n",
       "        text-align: right;\n",
       "    }\n",
       "</style>\n",
       "<table border=\"1\" class=\"dataframe\">\n",
       "  <thead>\n",
       "    <tr style=\"text-align: right;\">\n",
       "      <th></th>\n",
       "      <th>Unnamed: 0</th>\n",
       "      <th>location</th>\n",
       "      <th>town</th>\n",
       "      <th>mortality</th>\n",
       "      <th>hardness</th>\n",
       "    </tr>\n",
       "  </thead>\n",
       "  <tbody>\n",
       "    <tr>\n",
       "      <th>0</th>\n",
       "      <td>1</td>\n",
       "      <td>South</td>\n",
       "      <td>Bath</td>\n",
       "      <td>1247</td>\n",
       "      <td>105</td>\n",
       "    </tr>\n",
       "    <tr>\n",
       "      <th>1</th>\n",
       "      <td>2</td>\n",
       "      <td>North</td>\n",
       "      <td>Birkenhead</td>\n",
       "      <td>1668</td>\n",
       "      <td>17</td>\n",
       "    </tr>\n",
       "    <tr>\n",
       "      <th>2</th>\n",
       "      <td>3</td>\n",
       "      <td>South</td>\n",
       "      <td>Birmingham</td>\n",
       "      <td>1466</td>\n",
       "      <td>5</td>\n",
       "    </tr>\n",
       "    <tr>\n",
       "      <th>3</th>\n",
       "      <td>4</td>\n",
       "      <td>North</td>\n",
       "      <td>Blackburn</td>\n",
       "      <td>1800</td>\n",
       "      <td>14</td>\n",
       "    </tr>\n",
       "    <tr>\n",
       "      <th>4</th>\n",
       "      <td>5</td>\n",
       "      <td>North</td>\n",
       "      <td>Blackpool</td>\n",
       "      <td>1609</td>\n",
       "      <td>18</td>\n",
       "    </tr>\n",
       "  </tbody>\n",
       "</table>\n",
       "</div>"
      ],
      "text/plain": [
       "   Unnamed: 0 location        town  mortality  hardness\n",
       "0           1    South        Bath       1247       105\n",
       "1           2    North  Birkenhead       1668        17\n",
       "2           3    South  Birmingham       1466         5\n",
       "3           4    North   Blackburn       1800        14\n",
       "4           5    North   Blackpool       1609        18"
      ]
     },
     "execution_count": 4,
     "metadata": {},
     "output_type": "execute_result"
    }
   ],
   "source": [
    "data.head()"
   ]
  },
  {
   "cell_type": "code",
   "execution_count": 5,
   "id": "6ac3c266",
   "metadata": {},
   "outputs": [
    {
     "data": {
      "text/plain": [
       "<matplotlib.collections.PathCollection at 0x20e92613df0>"
      ]
     },
     "execution_count": 5,
     "metadata": {},
     "output_type": "execute_result"
    },
    {
     "data": {
      "image/png": "[encoded data removed]",
      "text/plain": [
       "<Figure size 432x288 with 1 Axes>"
      ]
     },
     "metadata": {
      "needs_background": "light"
     },
     "output_type": "display_data"
    }
   ],
   "source": [
    "plt.scatter(data.mortality,data.hardness)"
   ]
  },
  {
   "cell_type": "code",
   "execution_count": 31,
   "id": "e904fd33",
   "metadata": {},
   "outputs": [
    {
     "data": {
      "text/plain": [
       "<matplotlib.collections.PathCollection at 0x20e93c44c40>"
      ]
     },
     "execution_count": 31,
     "metadata": {},
     "output_type": "execute_result"
    },
    {
     "data": {
      "image/png": "[encoded data removed]",
      "text/plain": [
       "<Figure size 432x288 with 1 Axes>"
      ]
     },
     "metadata": {
      "needs_background": "light"
     },
     "output_type": "display_data"
    }
   ],
   "source": [
    "plt.scatter(south.mortality,south.hardness)"
   ]
  },
  {
   "cell_type": "code",
   "execution_count": 33,
   "id": "0a8e7ea3",
   "metadata": {},
   "outputs": [
    {
     "data": {
      "text/plain": [
       "<matplotlib.collections.PathCollection at 0x20e93cab0d0>"
      ]
     },
     "execution_count": 33,
     "metadata": {},
     "output_type": "execute_result"
    },
    {
     "data": {
      "image/png": "[encoded data removed]",
      "text/plain": [
       "<Figure size 432x288 with 1 Axes>"
      ]
     },
     "metadata": {
      "needs_background": "light"
     },
     "output_type": "display_data"
    }
   ],
   "source": [
    "plt.scatter(north.mortality,north.hardness)"
   ]
  },
  {
   "cell_type": "code",
   "execution_count": null,
   "id": "836a883f",
   "metadata": {},
   "outputs": [],
   "source": [
    "#По указанным выше графикам можно сделать вывод, что жесткость зависит от региона, а сметрность - нет."
   ]
  },
  {
   "cell_type": "code",
   "execution_count": 9,
   "id": "5407f8b7",
   "metadata": {},
   "outputs": [
    {
     "name": "stdout",
     "output_type": "stream",
     "text": [
      "           mortality  hardness\n",
      "mortality   1.000000 -0.654849\n",
      "hardness   -0.654849  1.000000\n",
      "           mortality  hardness\n",
      "mortality   1.000000 -0.631665\n",
      "hardness   -0.631665  1.000000\n"
     ]
    }
   ],
   "source": [
    "print(data[['mortality','hardness']].corr())\n",
    "print(data[['mortality','hardness']].corr(method='spearman'))"
   ]
  },
  {
   "cell_type": "code",
   "execution_count": 35,
   "id": "b38b7efd",
   "metadata": {},
   "outputs": [
    {
     "name": "stdout",
     "output_type": "stream",
     "text": [
      "           mortality  hardness\n",
      "mortality   1.000000 -0.602153\n",
      "hardness   -0.602153  1.000000\n",
      "           mortality  hardness\n",
      "mortality   1.000000 -0.595723\n",
      "hardness   -0.595723  1.000000\n"
     ]
    }
   ],
   "source": [
    "print(south[['mortality','hardness']].corr())\n",
    "print(south[['mortality','hardness']].corr(method='spearman'))"
   ]
  },
  {
   "cell_type": "code",
   "execution_count": 34,
   "id": "5098814b",
   "metadata": {
    "scrolled": true
   },
   "outputs": [
    {
     "name": "stdout",
     "output_type": "stream",
     "text": [
      "           mortality  hardness\n",
      "mortality   1.000000 -0.368598\n",
      "hardness   -0.368598  1.000000\n",
      "           mortality  hardness\n",
      "mortality   1.000000 -0.404208\n",
      "hardness   -0.404208  1.000000\n"
     ]
    }
   ],
   "source": [
    "print(north[['mortality','hardness']].corr())\n",
    "print(north[['mortality','hardness']].corr(method='spearman'))"
   ]
  },
  {
   "cell_type": "code",
   "execution_count": null,
   "id": "e5fd01cb",
   "metadata": {},
   "outputs": [],
   "source": [
    "#По приведенным выше коэффициентам видно, что на юге зависимость выше, чем на севере."
   ]
  },
  {
   "cell_type": "code",
   "execution_count": 10,
   "id": "a8a76182",
   "metadata": {},
   "outputs": [],
   "source": [
    "Y=data['mortality']\n",
    "X=data[['hardness']]"
   ]
  },
  {
   "cell_type": "code",
   "execution_count": 36,
   "id": "e9fe516e",
   "metadata": {},
   "outputs": [],
   "source": [
    "Ys=south['mortality']\n",
    "Xs=south[['hardness']]"
   ]
  },
  {
   "cell_type": "code",
   "execution_count": 37,
   "id": "1e407edf",
   "metadata": {},
   "outputs": [],
   "source": [
    "Yn=north['mortality']\n",
    "Xn=north[['hardness']]"
   ]
  },
  {
   "cell_type": "code",
   "execution_count": 11,
   "id": "e83b3182",
   "metadata": {},
   "outputs": [],
   "source": [
    "X_train, X_test, y_train, y_test = train_test_split(X, Y, test_size=0.20, random_state=50)"
   ]
  },
  {
   "cell_type": "code",
   "execution_count": 38,
   "id": "4c2b3928",
   "metadata": {},
   "outputs": [],
   "source": [
    "Xs_train, Xs_test, ys_train, ys_test = train_test_split(Xs, Ys, test_size=0.20, random_state=50)"
   ]
  },
  {
   "cell_type": "code",
   "execution_count": 39,
   "id": "73ee76ac",
   "metadata": {},
   "outputs": [],
   "source": [
    "Xn_train, Xn_test, yn_train, yn_test = train_test_split(Xn, Yn, test_size=0.20, random_state=50)"
   ]
  },
  {
   "cell_type": "code",
   "execution_count": 12,
   "id": "c87d900a",
   "metadata": {},
   "outputs": [
    {
     "data": {
      "text/plain": [
       "(48, 1)"
      ]
     },
     "execution_count": 12,
     "metadata": {},
     "output_type": "execute_result"
    }
   ],
   "source": [
    "X_train.shape"
   ]
  },
  {
   "cell_type": "code",
   "execution_count": 40,
   "id": "5ff5a70e",
   "metadata": {},
   "outputs": [
    {
     "data": {
      "text/plain": [
       "(20, 1)"
      ]
     },
     "execution_count": 40,
     "metadata": {},
     "output_type": "execute_result"
    }
   ],
   "source": [
    "Xs_train.shape"
   ]
  },
  {
   "cell_type": "code",
   "execution_count": 41,
   "id": "680cbfc6",
   "metadata": {},
   "outputs": [
    {
     "data": {
      "text/plain": [
       "(28, 1)"
      ]
     },
     "execution_count": 41,
     "metadata": {},
     "output_type": "execute_result"
    }
   ],
   "source": [
    "Xn_train.shape"
   ]
  },
  {
   "cell_type": "code",
   "execution_count": 13,
   "id": "390e9e8c",
   "metadata": {},
   "outputs": [
    {
     "data": {
      "text/plain": [
       "(48,)"
      ]
     },
     "execution_count": 13,
     "metadata": {},
     "output_type": "execute_result"
    }
   ],
   "source": [
    "y_train.shape"
   ]
  },
  {
   "cell_type": "code",
   "execution_count": 43,
   "id": "575f374b",
   "metadata": {},
   "outputs": [
    {
     "data": {
      "text/plain": [
       "(28,)"
      ]
     },
     "execution_count": 43,
     "metadata": {},
     "output_type": "execute_result"
    }
   ],
   "source": [
    "yn_train.shape"
   ]
  },
  {
   "cell_type": "code",
   "execution_count": 42,
   "id": "9acf276c",
   "metadata": {},
   "outputs": [
    {
     "data": {
      "text/plain": [
       "(20,)"
      ]
     },
     "execution_count": 42,
     "metadata": {},
     "output_type": "execute_result"
    }
   ],
   "source": [
    "ys_train.shape"
   ]
  },
  {
   "cell_type": "code",
   "execution_count": 46,
   "id": "2ba4216d",
   "metadata": {},
   "outputs": [
    {
     "data": {
      "text/plain": [
       "LinearRegression()"
      ]
     },
     "execution_count": 46,
     "metadata": {},
     "output_type": "execute_result"
    }
   ],
   "source": [
    "model = LinearRegression()\n",
    "model.fit(X_train, y_train)"
   ]
  },
  {
   "cell_type": "code",
   "execution_count": 47,
   "id": "72a30a1a",
   "metadata": {},
   "outputs": [
    {
     "data": {
      "text/plain": [
       "LinearRegression()"
      ]
     },
     "execution_count": 47,
     "metadata": {},
     "output_type": "execute_result"
    }
   ],
   "source": [
    "models = LinearRegression()\n",
    "models.fit(Xs_train, ys_train)"
   ]
  },
  {
   "cell_type": "code",
   "execution_count": 48,
   "id": "dede3411",
   "metadata": {},
   "outputs": [
    {
     "data": {
      "text/plain": [
       "LinearRegression()"
      ]
     },
     "execution_count": 48,
     "metadata": {},
     "output_type": "execute_result"
    }
   ],
   "source": [
    "modeln = LinearRegression()\n",
    "modeln.fit(Xn_train, yn_train)"
   ]
  },
  {
   "cell_type": "code",
   "execution_count": 49,
   "id": "a11bd3c3",
   "metadata": {},
   "outputs": [
    {
     "data": {
      "text/plain": [
       "array([-3.28694405])"
      ]
     },
     "execution_count": 49,
     "metadata": {},
     "output_type": "execute_result"
    }
   ],
   "source": [
    "model.coef_"
   ]
  },
  {
   "cell_type": "code",
   "execution_count": 50,
   "id": "f3153b70",
   "metadata": {},
   "outputs": [
    {
     "data": {
      "text/plain": [
       "array([-2.77461885])"
      ]
     },
     "execution_count": 50,
     "metadata": {},
     "output_type": "execute_result"
    }
   ],
   "source": [
    "models.coef_"
   ]
  },
  {
   "cell_type": "code",
   "execution_count": 51,
   "id": "9513b145",
   "metadata": {},
   "outputs": [
    {
     "data": {
      "text/plain": [
       "array([-1.59039151])"
      ]
     },
     "execution_count": 51,
     "metadata": {},
     "output_type": "execute_result"
    }
   ],
   "source": [
    "modeln.coef_"
   ]
  },
  {
   "cell_type": "code",
   "execution_count": 16,
   "id": "61239126",
   "metadata": {},
   "outputs": [
    {
     "data": {
      "text/plain": [
       "1676.8049081969461"
      ]
     },
     "execution_count": 16,
     "metadata": {},
     "output_type": "execute_result"
    }
   ],
   "source": [
    "model.intercept_"
   ]
  },
  {
   "cell_type": "code",
   "execution_count": 17,
   "id": "b07076b7",
   "metadata": {},
   "outputs": [
    {
     "data": {
      "text/plain": [
       "array([1620.92685931, 1657.08324388, 1647.22241173, 1548.61409017,\n",
       "       1515.74464965, 1443.4318805 , 1410.56243998, 1344.82355894,\n",
       "       1643.93546768, 1239.64134928, 1430.2841043 , 1223.20662902,\n",
       "       1275.79773385])"
      ]
     },
     "execution_count": 17,
     "metadata": {},
     "output_type": "execute_result"
    }
   ],
   "source": [
    "y_pred = model.predict(X_test)\n",
    "y_pred"
   ]
  },
  {
   "cell_type": "code",
   "execution_count": 52,
   "id": "ca125073",
   "metadata": {},
   "outputs": [
    {
     "data": {
      "text/plain": [
       "array([1526.71190683, 1227.05307062, 1227.05307062, 1507.28957485,\n",
       "       1196.53226323, 1268.67235343])"
      ]
     },
     "execution_count": 52,
     "metadata": {},
     "output_type": "execute_result"
    }
   ],
   "source": [
    "y_preds = models.predict(Xs_test)\n",
    "y_preds"
   ]
  },
  {
   "cell_type": "code",
   "execution_count": 53,
   "id": "73a437e0",
   "metadata": {},
   "outputs": [
    {
     "data": {
      "text/plain": [
       "array([1652.42183623, 1596.75813344, 1631.74674662, 1661.96418528,\n",
       "       1654.01222774, 1665.14496829, 1650.83144472])"
      ]
     },
     "execution_count": 53,
     "metadata": {},
     "output_type": "execute_result"
    }
   ],
   "source": [
    "y_predn = modeln.predict(Xn_test)\n",
    "y_predn"
   ]
  },
  {
   "cell_type": "code",
   "execution_count": 18,
   "id": "b8ec4e87",
   "metadata": {},
   "outputs": [
    {
     "data": {
      "text/plain": [
       "[<matplotlib.lines.Line2D at 0x20e92f1c850>]"
      ]
     },
     "execution_count": 18,
     "metadata": {},
     "output_type": "execute_result"
    },
    {
     "data": {
      "image/png": "[encoded data removed]",
      "text/plain": [
       "<Figure size 432x288 with 1 Axes>"
      ]
     },
     "metadata": {
      "needs_background": "light"
     },
     "output_type": "display_data"
    }
   ],
   "source": [
    "plt.scatter(X_test, y_test)\n",
    "plt.plot(X_test, y_pred,c='g')"
   ]
  },
  {
   "cell_type": "code",
   "execution_count": 54,
   "id": "bbc379bf",
   "metadata": {},
   "outputs": [
    {
     "data": {
      "text/plain": [
       "[<matplotlib.lines.Line2D at 0x20e93d0d760>]"
      ]
     },
     "execution_count": 54,
     "metadata": {},
     "output_type": "execute_result"
    },
    {
     "data": {
      "image/png": "[encoded data removed]",
      "text/plain": [
       "<Figure size 432x288 with 1 Axes>"
      ]
     },
     "metadata": {
      "needs_background": "light"
     },
     "output_type": "display_data"
    }
   ],
   "source": [
    "plt.scatter(Xs_test, ys_test)\n",
    "plt.plot(Xs_test, y_preds,c='r')"
   ]
  },
  {
   "cell_type": "code",
   "execution_count": 55,
   "id": "155c2ac5",
   "metadata": {},
   "outputs": [
    {
     "data": {
      "text/plain": [
       "[<matplotlib.lines.Line2D at 0x20e93d77160>]"
      ]
     },
     "execution_count": 55,
     "metadata": {},
     "output_type": "execute_result"
    },
    {
     "data": {
      "image/png": "[encoded data removed]",
      "text/plain": [
       "<Figure size 432x288 with 1 Axes>"
      ]
     },
     "metadata": {
      "needs_background": "light"
     },
     "output_type": "display_data"
    }
   ],
   "source": [
    "plt.scatter(Xn_test, yn_test)\n",
    "plt.plot(Xn_test, y_predn,c='b')"
   ]
  },
  {
   "cell_type": "code",
   "execution_count": 19,
   "id": "3afea365",
   "metadata": {},
   "outputs": [
    {
     "name": "stdout",
     "output_type": "stream",
     "text": [
      "R2=0.6687741298180702\n"
     ]
    }
   ],
   "source": [
    "print('R2='+str(model.score(X_test, y_test))) "
   ]
  },
  {
   "cell_type": "code",
   "execution_count": 56,
   "id": "04349e1f",
   "metadata": {},
   "outputs": [
    {
     "name": "stdout",
     "output_type": "stream",
     "text": [
      "R2=-0.2694806096445346\n"
     ]
    }
   ],
   "source": [
    "print('R2='+str(models.score(Xs_test, ys_test))) "
   ]
  },
  {
   "cell_type": "code",
   "execution_count": 57,
   "id": "40c12d67",
   "metadata": {},
   "outputs": [
    {
     "name": "stdout",
     "output_type": "stream",
     "text": [
      "R2=0.09844799319177433\n"
     ]
    }
   ],
   "source": [
    "print('R2='+str(modeln.score(Xn_test, yn_test))) "
   ]
  },
  {
   "cell_type": "code",
   "execution_count": null,
   "id": "0223f3be",
   "metadata": {},
   "outputs": [],
   "source": [
    "#Можно сделать вывод, что для южных регионов есть небольшая корреляция, а для северных нет (как и отмечалось раннее)"
   ]
  },
  {
   "cell_type": "code",
   "execution_count": 22,
   "id": "5b8961d5",
   "metadata": {},
   "outputs": [],
   "source": [
    "X_train, X_test, y_train, y_test = train_test_split(X, Y, test_size=0.20, random_state=50)"
   ]
  },
  {
   "cell_type": "code",
   "execution_count": 23,
   "id": "4d7be385",
   "metadata": {},
   "outputs": [],
   "source": [
    "X_const = sm.add_constant(X_train)"
   ]
  },
  {
   "cell_type": "code",
   "execution_count": 58,
   "id": "98ed4e9e",
   "metadata": {},
   "outputs": [],
   "source": [
    "Xs_const = sm.add_constant(Xs_train)"
   ]
  },
  {
   "cell_type": "code",
   "execution_count": 59,
   "id": "603eeeeb",
   "metadata": {},
   "outputs": [],
   "source": [
    "Xn_const = sm.add_constant(Xn_train)"
   ]
  },
  {
   "cell_type": "code",
   "execution_count": 25,
   "id": "246e6a11",
   "metadata": {},
   "outputs": [
    {
     "data": {
      "text/plain": [
       "<matplotlib.collections.PathCollection at 0x20e93aa6ac0>"
      ]
     },
     "execution_count": 25,
     "metadata": {},
     "output_type": "execute_result"
    },
    {
     "data": {
      "image/png": "[encoded data removed]",
      "text/plain": [
       "<Figure size 432x288 with 1 Axes>"
      ]
     },
     "metadata": {
      "needs_background": "light"
     },
     "output_type": "display_data"
    }
   ],
   "source": [
    "model = sm.OLS(y_train, X_const)\n",
    "results = model.fit()\n",
    "plt.scatter(X_const.iloc[:, 1], results.resid)"
   ]
  },
  {
   "cell_type": "code",
   "execution_count": 60,
   "id": "50e972c4",
   "metadata": {},
   "outputs": [
    {
     "data": {
      "text/plain": [
       "<matplotlib.collections.PathCollection at 0x20e93dd05b0>"
      ]
     },
     "execution_count": 60,
     "metadata": {},
     "output_type": "execute_result"
    },
    {
     "data": {
      "image/png": "[encoded data removed]",
      "text/plain": [
       "<Figure size 432x288 with 1 Axes>"
      ]
     },
     "metadata": {
      "needs_background": "light"
     },
     "output_type": "display_data"
    }
   ],
   "source": [
    "models = sm.OLS(ys_train, Xs_const)\n",
    "resultss = models.fit()\n",
    "plt.scatter(Xs_const.iloc[:, 1], resultss.resid)"
   ]
  },
  {
   "cell_type": "code",
   "execution_count": 61,
   "id": "65382e3d",
   "metadata": {},
   "outputs": [
    {
     "data": {
      "text/plain": [
       "<matplotlib.collections.PathCollection at 0x20e94e05310>"
      ]
     },
     "execution_count": 61,
     "metadata": {},
     "output_type": "execute_result"
    },
    {
     "data": {
      "image/png": "[encoded data removed]",
      "text/plain": [
       "<Figure size 432x288 with 1 Axes>"
      ]
     },
     "metadata": {
      "needs_background": "light"
     },
     "output_type": "display_data"
    }
   ],
   "source": [
    "modeln = sm.OLS(yn_train, Xn_const)\n",
    "resultsn = modeln.fit()\n",
    "plt.scatter(Xn_const.iloc[:, 1], resultsn.resid)"
   ]
  },
  {
   "cell_type": "code",
   "execution_count": 62,
   "id": "cfec34b7",
   "metadata": {},
   "outputs": [],
   "source": [
    "#Из графиков выбросов можно увидеть, что для южных штатов они расположены хаотично, а в северных прослеживается небольшая зависимость."
   ]
  },
  {
   "cell_type": "code",
   "execution_count": 30,
   "id": "0144c8f2",
   "metadata": {},
   "outputs": [],
   "source": [
    "south = data[data['location']=='South']"
   ]
  },
  {
   "cell_type": "code",
   "execution_count": 32,
   "id": "33049836",
   "metadata": {},
   "outputs": [],
   "source": [
    "north = data[data['location']=='North']"
   ]
  }
 ],
 "metadata": {
  "kernelspec": {
   "display_name": "Python 3",
   "language": "python",
   "name": "python3"
  },
  "language_info": {
   "codemirror_mode": {
    "name": "ipython",
    "version": 3
   },
   "file_extension": ".py",
   "mimetype": "text/x-python",
   "name": "python",
   "nbconvert_exporter": "python",
   "pygments_lexer": "ipython3",
   "version": "3.8.8"
  }
 },
 "nbformat": 4,
 "nbformat_minor": 5
}
